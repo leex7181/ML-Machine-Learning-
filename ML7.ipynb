{
  "nbformat": 4,
  "nbformat_minor": 0,
  "metadata": {
    "colab": {
      "name": "seis 763 SVM HW7.ipynb",
      "provenance": [],
      "collapsed_sections": []
    },
    "kernelspec": {
      "name": "python3",
      "display_name": "Python 3"
    },
    "language_info": {
      "name": "python"
    }
  },
  "cells": [
    {
      "cell_type": "code",
      "metadata": {
        "id": "0eIzyiwFCK3N"
      },
      "source": [
        "from sklearn.datasets import make_classification\n",
        "from matplotlib import pyplot as plt\n",
        "from sklearn.linear_model import LogisticRegression\n",
        "from sklearn.model_selection import train_test_split\n",
        "from sklearn.metrics import confusion_matrix\n",
        "import pandas as pd\n",
        "import numpy as np\n",
        "import seaborn as sns\n",
        "from sklearn.metrics import r2_score, explained_variance_score, confusion_matrix, accuracy_score, classification_report, log_loss\n",
        "from math import sqrt\n",
        "from sklearn.model_selection import cross_val_score\n",
        "from sklearn.linear_model import Lasso\n",
        "from sklearn import svm\n"
      ],
      "execution_count": 86,
      "outputs": []
    },
    {
      "cell_type": "code",
      "metadata": {
        "id": "Kc9u0aomDspx"
      },
      "source": [
        "df = pd.read_csv(\"CellDNA.csv\", header= None)\n"
      ],
      "execution_count": 87,
      "outputs": []
    },
    {
      "cell_type": "code",
      "metadata": {
        "id": "ehnI7O3ulVcn"
      },
      "source": [
        "df.columns =['x0', 'x1', 'x2', 'x3', 'x4', 'x5', 'x6', 'x7','x8','x9','x10','x11','x12','x13']"
      ],
      "execution_count": 88,
      "outputs": []
    },
    {
      "cell_type": "code",
      "metadata": {
        "id": "U30awYdZqcQN"
      },
      "source": [
        "df.loc[:, 'x13'] = np.where(df.x13>0, 1, 0)"
      ],
      "execution_count": 89,
      "outputs": []
    },
    {
      "cell_type": "code",
      "metadata": {
        "colab": {
          "base_uri": "https://localhost:8080/",
          "height": 419
        },
        "id": "d42qh9F5HAFc",
        "outputId": "e104099e-7494-4383-f784-dbbb9f3b7153"
      },
      "source": [
        "df\n"
      ],
      "execution_count": 90,
      "outputs": [
        {
          "output_type": "execute_result",
          "data": {
            "text/html": [
              "<div>\n",
              "<style scoped>\n",
              "    .dataframe tbody tr th:only-of-type {\n",
              "        vertical-align: middle;\n",
              "    }\n",
              "\n",
              "    .dataframe tbody tr th {\n",
              "        vertical-align: top;\n",
              "    }\n",
              "\n",
              "    .dataframe thead th {\n",
              "        text-align: right;\n",
              "    }\n",
              "</style>\n",
              "<table border=\"1\" class=\"dataframe\">\n",
              "  <thead>\n",
              "    <tr style=\"text-align: right;\">\n",
              "      <th></th>\n",
              "      <th>x0</th>\n",
              "      <th>x1</th>\n",
              "      <th>x2</th>\n",
              "      <th>x3</th>\n",
              "      <th>x4</th>\n",
              "      <th>x5</th>\n",
              "      <th>x6</th>\n",
              "      <th>x7</th>\n",
              "      <th>x8</th>\n",
              "      <th>x9</th>\n",
              "      <th>x10</th>\n",
              "      <th>x11</th>\n",
              "      <th>x12</th>\n",
              "      <th>x13</th>\n",
              "    </tr>\n",
              "  </thead>\n",
              "  <tbody>\n",
              "    <tr>\n",
              "      <th>0</th>\n",
              "      <td>222</td>\n",
              "      <td>31.189189</td>\n",
              "      <td>40.342342</td>\n",
              "      <td>35.579087</td>\n",
              "      <td>8.883917</td>\n",
              "      <td>0.968325</td>\n",
              "      <td>-80.113673</td>\n",
              "      <td>222</td>\n",
              "      <td>1</td>\n",
              "      <td>16.812471</td>\n",
              "      <td>0.816176</td>\n",
              "      <td>0.578125</td>\n",
              "      <td>78.591</td>\n",
              "      <td>0</td>\n",
              "    </tr>\n",
              "    <tr>\n",
              "      <th>1</th>\n",
              "      <td>73</td>\n",
              "      <td>29.493151</td>\n",
              "      <td>271.397260</td>\n",
              "      <td>15.517202</td>\n",
              "      <td>6.407490</td>\n",
              "      <td>0.910764</td>\n",
              "      <td>76.042946</td>\n",
              "      <td>73</td>\n",
              "      <td>1</td>\n",
              "      <td>9.640876</td>\n",
              "      <td>0.858824</td>\n",
              "      <td>0.608333</td>\n",
              "      <td>39.217</td>\n",
              "      <td>0</td>\n",
              "    </tr>\n",
              "    <tr>\n",
              "      <th>2</th>\n",
              "      <td>256</td>\n",
              "      <td>58.816406</td>\n",
              "      <td>289.941406</td>\n",
              "      <td>37.226013</td>\n",
              "      <td>9.863895</td>\n",
              "      <td>0.964256</td>\n",
              "      <td>85.324742</td>\n",
              "      <td>256</td>\n",
              "      <td>1</td>\n",
              "      <td>18.054067</td>\n",
              "      <td>0.752941</td>\n",
              "      <td>0.562637</td>\n",
              "      <td>89.111</td>\n",
              "      <td>0</td>\n",
              "    </tr>\n",
              "    <tr>\n",
              "      <th>3</th>\n",
              "      <td>126</td>\n",
              "      <td>71.023810</td>\n",
              "      <td>477.412698</td>\n",
              "      <td>13.112980</td>\n",
              "      <td>12.790672</td>\n",
              "      <td>0.220351</td>\n",
              "      <td>63.523477</td>\n",
              "      <td>126</td>\n",
              "      <td>1</td>\n",
              "      <td>12.666025</td>\n",
              "      <td>0.881119</td>\n",
              "      <td>0.646154</td>\n",
              "      <td>43.832</td>\n",
              "      <td>0</td>\n",
              "    </tr>\n",
              "    <tr>\n",
              "      <th>4</th>\n",
              "      <td>225</td>\n",
              "      <td>90.808889</td>\n",
              "      <td>541.946667</td>\n",
              "      <td>44.463110</td>\n",
              "      <td>7.858879</td>\n",
              "      <td>0.984256</td>\n",
              "      <td>-52.874983</td>\n",
              "      <td>225</td>\n",
              "      <td>1</td>\n",
              "      <td>16.925688</td>\n",
              "      <td>0.728155</td>\n",
              "      <td>0.252525</td>\n",
              "      <td>90.072</td>\n",
              "      <td>1</td>\n",
              "    </tr>\n",
              "    <tr>\n",
              "      <th>...</th>\n",
              "      <td>...</td>\n",
              "      <td>...</td>\n",
              "      <td>...</td>\n",
              "      <td>...</td>\n",
              "      <td>...</td>\n",
              "      <td>...</td>\n",
              "      <td>...</td>\n",
              "      <td>...</td>\n",
              "      <td>...</td>\n",
              "      <td>...</td>\n",
              "      <td>...</td>\n",
              "      <td>...</td>\n",
              "      <td>...</td>\n",
              "      <td>...</td>\n",
              "    </tr>\n",
              "    <tr>\n",
              "      <th>1212</th>\n",
              "      <td>216</td>\n",
              "      <td>738.527778</td>\n",
              "      <td>216.449074</td>\n",
              "      <td>38.229761</td>\n",
              "      <td>9.556174</td>\n",
              "      <td>0.968254</td>\n",
              "      <td>12.847813</td>\n",
              "      <td>216</td>\n",
              "      <td>1</td>\n",
              "      <td>16.583719</td>\n",
              "      <td>0.640950</td>\n",
              "      <td>0.397059</td>\n",
              "      <td>98.589</td>\n",
              "      <td>0</td>\n",
              "    </tr>\n",
              "    <tr>\n",
              "      <th>1213</th>\n",
              "      <td>328</td>\n",
              "      <td>748.896341</td>\n",
              "      <td>47.664634</td>\n",
              "      <td>63.138991</td>\n",
              "      <td>9.101974</td>\n",
              "      <td>0.989555</td>\n",
              "      <td>57.919494</td>\n",
              "      <td>328</td>\n",
              "      <td>1</td>\n",
              "      <td>20.435816</td>\n",
              "      <td>0.607407</td>\n",
              "      <td>0.205257</td>\n",
              "      <td>131.431</td>\n",
              "      <td>1</td>\n",
              "    </tr>\n",
              "    <tr>\n",
              "      <th>1214</th>\n",
              "      <td>97</td>\n",
              "      <td>761.690722</td>\n",
              "      <td>207.288660</td>\n",
              "      <td>22.751513</td>\n",
              "      <td>8.230351</td>\n",
              "      <td>0.932275</td>\n",
              "      <td>-24.674618</td>\n",
              "      <td>97</td>\n",
              "      <td>1</td>\n",
              "      <td>11.113246</td>\n",
              "      <td>0.591463</td>\n",
              "      <td>0.384921</td>\n",
              "      <td>67.427</td>\n",
              "      <td>0</td>\n",
              "    </tr>\n",
              "    <tr>\n",
              "      <th>1215</th>\n",
              "      <td>223</td>\n",
              "      <td>770.654708</td>\n",
              "      <td>235.502242</td>\n",
              "      <td>53.491654</td>\n",
              "      <td>8.643053</td>\n",
              "      <td>0.986860</td>\n",
              "      <td>73.244715</td>\n",
              "      <td>223</td>\n",
              "      <td>1</td>\n",
              "      <td>16.850294</td>\n",
              "      <td>0.557500</td>\n",
              "      <td>0.252834</td>\n",
              "      <td>112.656</td>\n",
              "      <td>0</td>\n",
              "    </tr>\n",
              "    <tr>\n",
              "      <th>1216</th>\n",
              "      <td>87</td>\n",
              "      <td>764.954023</td>\n",
              "      <td>265.655172</td>\n",
              "      <td>13.459738</td>\n",
              "      <td>8.521929</td>\n",
              "      <td>0.774035</td>\n",
              "      <td>18.595633</td>\n",
              "      <td>87</td>\n",
              "      <td>1</td>\n",
              "      <td>10.524820</td>\n",
              "      <td>0.956044</td>\n",
              "      <td>0.743590</td>\n",
              "      <td>32.295</td>\n",
              "      <td>0</td>\n",
              "    </tr>\n",
              "  </tbody>\n",
              "</table>\n",
              "<p>1217 rows × 14 columns</p>\n",
              "</div>"
            ],
            "text/plain": [
              "       x0          x1          x2         x3  ...       x10       x11      x12  x13\n",
              "0     222   31.189189   40.342342  35.579087  ...  0.816176  0.578125   78.591    0\n",
              "1      73   29.493151  271.397260  15.517202  ...  0.858824  0.608333   39.217    0\n",
              "2     256   58.816406  289.941406  37.226013  ...  0.752941  0.562637   89.111    0\n",
              "3     126   71.023810  477.412698  13.112980  ...  0.881119  0.646154   43.832    0\n",
              "4     225   90.808889  541.946667  44.463110  ...  0.728155  0.252525   90.072    1\n",
              "...   ...         ...         ...        ...  ...       ...       ...      ...  ...\n",
              "1212  216  738.527778  216.449074  38.229761  ...  0.640950  0.397059   98.589    0\n",
              "1213  328  748.896341   47.664634  63.138991  ...  0.607407  0.205257  131.431    1\n",
              "1214   97  761.690722  207.288660  22.751513  ...  0.591463  0.384921   67.427    0\n",
              "1215  223  770.654708  235.502242  53.491654  ...  0.557500  0.252834  112.656    0\n",
              "1216   87  764.954023  265.655172  13.459738  ...  0.956044  0.743590   32.295    0\n",
              "\n",
              "[1217 rows x 14 columns]"
            ]
          },
          "metadata": {},
          "execution_count": 90
        }
      ]
    },
    {
      "cell_type": "code",
      "metadata": {
        "id": "Op_x-xHtzIAt"
      },
      "source": [
        "from sklearn.preprocessing import StandardScaler\n",
        "scaler = StandardScaler()\n",
        "df[['x0', 'x1', 'x2', 'x3', 'x4', 'x5', 'x6', 'x7','x8','x9','x10','x11','x12']] = scaler.fit_transform(df[['x0', 'x1', 'x2', 'x3', 'x4', 'x5', 'x6', 'x7','x8','x9','x10','x11','x12']])"
      ],
      "execution_count": 91,
      "outputs": []
    },
    {
      "cell_type": "code",
      "metadata": {
        "colab": {
          "base_uri": "https://localhost:8080/"
        },
        "id": "Wro4iSx40BiO",
        "outputId": "5bd8603a-f42c-424f-b88d-2b16e5e3c4fc"
      },
      "source": [
        "numeric_cols = ['x0', 'x1', 'x2', 'x3', 'x4', 'x5', 'x6', 'x7','x8','x9','x10','x11','x12']\n",
        "scaler = StandardScaler()\n",
        "scaler.fit(df[numeric_cols])\n",
        "scaled_inputs = scaler.transform(df[numeric_cols])\n",
        "scaled_inputs"
      ],
      "execution_count": 92,
      "outputs": [
        {
          "output_type": "execute_result",
          "data": {
            "text/plain": [
              "array([[ 0.15952762, -1.80200559, -1.20813407, ...,  0.34511514,\n",
              "         0.65289142, -0.00691284],\n",
              "       [-0.93921222, -1.80987674,  0.42436331, ...,  0.7072868 ,\n",
              "         0.84374979, -0.81411281],\n",
              "       [ 0.41024678, -1.67379037,  0.55538528, ..., -0.19189804,\n",
              "         0.55503945,  0.20875597],\n",
              "       ...,\n",
              "       [-0.76223399,  1.58818067, -0.02859014, ..., -1.56321582,\n",
              "        -0.56778731, -0.23578419],\n",
              "       [ 0.16690172,  1.62978166,  0.17075035, ..., -1.85164337,\n",
              "        -1.40231699,  0.69144818],\n",
              "       [-0.83597492,  1.60332534,  0.38379311, ...,  1.53291195,\n",
              "         1.69830929, -0.95601961]])"
            ]
          },
          "metadata": {},
          "execution_count": 92
        }
      ]
    },
    {
      "cell_type": "code",
      "metadata": {
        "colab": {
          "base_uri": "https://localhost:8080/",
          "height": 419
        },
        "id": "BmxCe0MX0OLd",
        "outputId": "b05a6712-d64b-4a1e-c174-11f52089025c"
      },
      "source": [
        "df\n"
      ],
      "execution_count": 93,
      "outputs": [
        {
          "output_type": "execute_result",
          "data": {
            "text/html": [
              "<div>\n",
              "<style scoped>\n",
              "    .dataframe tbody tr th:only-of-type {\n",
              "        vertical-align: middle;\n",
              "    }\n",
              "\n",
              "    .dataframe tbody tr th {\n",
              "        vertical-align: top;\n",
              "    }\n",
              "\n",
              "    .dataframe thead th {\n",
              "        text-align: right;\n",
              "    }\n",
              "</style>\n",
              "<table border=\"1\" class=\"dataframe\">\n",
              "  <thead>\n",
              "    <tr style=\"text-align: right;\">\n",
              "      <th></th>\n",
              "      <th>x0</th>\n",
              "      <th>x1</th>\n",
              "      <th>x2</th>\n",
              "      <th>x3</th>\n",
              "      <th>x4</th>\n",
              "      <th>x5</th>\n",
              "      <th>x6</th>\n",
              "      <th>x7</th>\n",
              "      <th>x8</th>\n",
              "      <th>x9</th>\n",
              "      <th>x10</th>\n",
              "      <th>x11</th>\n",
              "      <th>x12</th>\n",
              "      <th>x13</th>\n",
              "    </tr>\n",
              "  </thead>\n",
              "  <tbody>\n",
              "    <tr>\n",
              "      <th>0</th>\n",
              "      <td>0.159528</td>\n",
              "      <td>-1.802006</td>\n",
              "      <td>-1.208134</td>\n",
              "      <td>0.114420</td>\n",
              "      <td>-0.135689</td>\n",
              "      <td>0.538311</td>\n",
              "      <td>-1.587426</td>\n",
              "      <td>0.135833</td>\n",
              "      <td>0.233292</td>\n",
              "      <td>0.329626</td>\n",
              "      <td>0.345115</td>\n",
              "      <td>0.652891</td>\n",
              "      <td>-0.006913</td>\n",
              "      <td>0</td>\n",
              "    </tr>\n",
              "    <tr>\n",
              "      <th>1</th>\n",
              "      <td>-0.939212</td>\n",
              "      <td>-1.809877</td>\n",
              "      <td>0.424363</td>\n",
              "      <td>-0.933511</td>\n",
              "      <td>-0.817247</td>\n",
              "      <td>0.019258</td>\n",
              "      <td>1.500586</td>\n",
              "      <td>-0.909580</td>\n",
              "      <td>0.233292</td>\n",
              "      <td>-1.221986</td>\n",
              "      <td>0.707287</td>\n",
              "      <td>0.843750</td>\n",
              "      <td>-0.814113</td>\n",
              "      <td>0</td>\n",
              "    </tr>\n",
              "    <tr>\n",
              "      <th>2</th>\n",
              "      <td>0.410247</td>\n",
              "      <td>-1.673790</td>\n",
              "      <td>0.555385</td>\n",
              "      <td>0.200447</td>\n",
              "      <td>0.134019</td>\n",
              "      <td>0.501621</td>\n",
              "      <td>1.684134</td>\n",
              "      <td>0.374384</td>\n",
              "      <td>0.233292</td>\n",
              "      <td>0.598252</td>\n",
              "      <td>-0.191898</td>\n",
              "      <td>0.555039</td>\n",
              "      <td>0.208756</td>\n",
              "      <td>0</td>\n",
              "    </tr>\n",
              "    <tr>\n",
              "      <th>3</th>\n",
              "      <td>-0.548385</td>\n",
              "      <td>-1.617137</td>\n",
              "      <td>1.879947</td>\n",
              "      <td>-1.059096</td>\n",
              "      <td>0.939523</td>\n",
              "      <td>-6.206504</td>\n",
              "      <td>1.253012</td>\n",
              "      <td>-0.537722</td>\n",
              "      <td>0.233292</td>\n",
              "      <td>-0.567479</td>\n",
              "      <td>0.896626</td>\n",
              "      <td>1.082702</td>\n",
              "      <td>-0.719501</td>\n",
              "      <td>0</td>\n",
              "    </tr>\n",
              "    <tr>\n",
              "      <th>4</th>\n",
              "      <td>0.181650</td>\n",
              "      <td>-1.525316</td>\n",
              "      <td>2.335905</td>\n",
              "      <td>0.578476</td>\n",
              "      <td>-0.417798</td>\n",
              "      <td>0.681969</td>\n",
              "      <td>-1.048779</td>\n",
              "      <td>0.156881</td>\n",
              "      <td>0.233292</td>\n",
              "      <td>0.354121</td>\n",
              "      <td>-0.402387</td>\n",
              "      <td>-1.404271</td>\n",
              "      <td>0.228457</td>\n",
              "      <td>1</td>\n",
              "    </tr>\n",
              "    <tr>\n",
              "      <th>...</th>\n",
              "      <td>...</td>\n",
              "      <td>...</td>\n",
              "      <td>...</td>\n",
              "      <td>...</td>\n",
              "      <td>...</td>\n",
              "      <td>...</td>\n",
              "      <td>...</td>\n",
              "      <td>...</td>\n",
              "      <td>...</td>\n",
              "      <td>...</td>\n",
              "      <td>...</td>\n",
              "      <td>...</td>\n",
              "      <td>...</td>\n",
              "      <td>...</td>\n",
              "    </tr>\n",
              "    <tr>\n",
              "      <th>1212</th>\n",
              "      <td>0.115283</td>\n",
              "      <td>1.480684</td>\n",
              "      <td>0.036132</td>\n",
              "      <td>0.252878</td>\n",
              "      <td>0.049329</td>\n",
              "      <td>0.537678</td>\n",
              "      <td>0.250896</td>\n",
              "      <td>0.093736</td>\n",
              "      <td>0.233292</td>\n",
              "      <td>0.280134</td>\n",
              "      <td>-1.142965</td>\n",
              "      <td>-0.491097</td>\n",
              "      <td>0.403063</td>\n",
              "      <td>0</td>\n",
              "    </tr>\n",
              "    <tr>\n",
              "      <th>1213</th>\n",
              "      <td>0.941181</td>\n",
              "      <td>1.528803</td>\n",
              "      <td>-1.156399</td>\n",
              "      <td>1.554010</td>\n",
              "      <td>-0.075675</td>\n",
              "      <td>0.729753</td>\n",
              "      <td>1.142193</td>\n",
              "      <td>0.879550</td>\n",
              "      <td>0.233292</td>\n",
              "      <td>1.113556</td>\n",
              "      <td>-1.427815</td>\n",
              "      <td>-1.702917</td>\n",
              "      <td>1.076351</td>\n",
              "      <td>1</td>\n",
              "    </tr>\n",
              "    <tr>\n",
              "      <th>1214</th>\n",
              "      <td>-0.762234</td>\n",
              "      <td>1.588181</td>\n",
              "      <td>-0.028590</td>\n",
              "      <td>-0.555628</td>\n",
              "      <td>-0.315562</td>\n",
              "      <td>0.213238</td>\n",
              "      <td>-0.491114</td>\n",
              "      <td>-0.741192</td>\n",
              "      <td>0.233292</td>\n",
              "      <td>-0.903431</td>\n",
              "      <td>-1.563216</td>\n",
              "      <td>-0.567787</td>\n",
              "      <td>-0.235784</td>\n",
              "      <td>0</td>\n",
              "    </tr>\n",
              "    <tr>\n",
              "      <th>1215</th>\n",
              "      <td>0.166902</td>\n",
              "      <td>1.629782</td>\n",
              "      <td>0.170750</td>\n",
              "      <td>1.050082</td>\n",
              "      <td>-0.201979</td>\n",
              "      <td>0.705453</td>\n",
              "      <td>1.445251</td>\n",
              "      <td>0.142849</td>\n",
              "      <td>0.233292</td>\n",
              "      <td>0.337809</td>\n",
              "      <td>-1.851643</td>\n",
              "      <td>-1.402317</td>\n",
              "      <td>0.691448</td>\n",
              "      <td>0</td>\n",
              "    </tr>\n",
              "    <tr>\n",
              "      <th>1216</th>\n",
              "      <td>-0.835975</td>\n",
              "      <td>1.603325</td>\n",
              "      <td>0.383793</td>\n",
              "      <td>-1.040983</td>\n",
              "      <td>-0.235315</td>\n",
              "      <td>-1.213681</td>\n",
              "      <td>0.364560</td>\n",
              "      <td>-0.811354</td>\n",
              "      <td>0.233292</td>\n",
              "      <td>-1.030740</td>\n",
              "      <td>1.532912</td>\n",
              "      <td>1.698309</td>\n",
              "      <td>-0.956020</td>\n",
              "      <td>0</td>\n",
              "    </tr>\n",
              "  </tbody>\n",
              "</table>\n",
              "<p>1217 rows × 14 columns</p>\n",
              "</div>"
            ],
            "text/plain": [
              "            x0        x1        x2        x3  ...       x10       x11       x12  x13\n",
              "0     0.159528 -1.802006 -1.208134  0.114420  ...  0.345115  0.652891 -0.006913    0\n",
              "1    -0.939212 -1.809877  0.424363 -0.933511  ...  0.707287  0.843750 -0.814113    0\n",
              "2     0.410247 -1.673790  0.555385  0.200447  ... -0.191898  0.555039  0.208756    0\n",
              "3    -0.548385 -1.617137  1.879947 -1.059096  ...  0.896626  1.082702 -0.719501    0\n",
              "4     0.181650 -1.525316  2.335905  0.578476  ... -0.402387 -1.404271  0.228457    1\n",
              "...        ...       ...       ...       ...  ...       ...       ...       ...  ...\n",
              "1212  0.115283  1.480684  0.036132  0.252878  ... -1.142965 -0.491097  0.403063    0\n",
              "1213  0.941181  1.528803 -1.156399  1.554010  ... -1.427815 -1.702917  1.076351    1\n",
              "1214 -0.762234  1.588181 -0.028590 -0.555628  ... -1.563216 -0.567787 -0.235784    0\n",
              "1215  0.166902  1.629782  0.170750  1.050082  ... -1.851643 -1.402317  0.691448    0\n",
              "1216 -0.835975  1.603325  0.383793 -1.040983  ...  1.532912  1.698309 -0.956020    0\n",
              "\n",
              "[1217 rows x 14 columns]"
            ]
          },
          "metadata": {},
          "execution_count": 93
        }
      ]
    },
    {
      "cell_type": "code",
      "metadata": {
        "colab": {
          "base_uri": "https://localhost:8080/"
        },
        "id": "z7uWzz8f0iT2",
        "outputId": "807ed901-70fe-458c-a1b8-f81a7b3c80ab"
      },
      "source": [
        "x = df.drop('x13', axis = 1).values\n",
        "y = df['x13']\n",
        "y = y.astype(int)\n",
        "\n",
        "print(x.shape)\n",
        "print(y.shape)"
      ],
      "execution_count": 94,
      "outputs": [
        {
          "output_type": "stream",
          "name": "stdout",
          "text": [
            "(1217, 13)\n",
            "(1217,)\n"
          ]
        }
      ]
    },
    {
      "cell_type": "markdown",
      "metadata": {
        "id": "Ysvefe9T6Ib7"
      },
      "source": [
        "# check distribution of target_class column"
      ]
    },
    {
      "cell_type": "code",
      "metadata": {
        "colab": {
          "base_uri": "https://localhost:8080/"
        },
        "id": "xKUcwlxk5_sl",
        "outputId": "5e5f00dc-c474-4d38-8aa9-7c7f2246917c"
      },
      "source": [
        "df['x13'].value_counts()\n"
      ],
      "execution_count": 95,
      "outputs": [
        {
          "output_type": "execute_result",
          "data": {
            "text/plain": [
              "0    1017\n",
              "1     200\n",
              "Name: x13, dtype: int64"
            ]
          },
          "metadata": {},
          "execution_count": 95
        }
      ]
    },
    {
      "cell_type": "code",
      "metadata": {
        "colab": {
          "base_uri": "https://localhost:8080/"
        },
        "id": "LIbkm5J06K0z",
        "outputId": "6a9fe42f-ebc4-42e0-dbea-47a440830ac1"
      },
      "source": [
        "df['x13'].value_counts()/np.float(len(df))\n"
      ],
      "execution_count": 96,
      "outputs": [
        {
          "output_type": "execute_result",
          "data": {
            "text/plain": [
              "0    0.835661\n",
              "1    0.164339\n",
              "Name: x13, dtype: float64"
            ]
          },
          "metadata": {},
          "execution_count": 96
        }
      ]
    },
    {
      "cell_type": "code",
      "metadata": {
        "colab": {
          "base_uri": "https://localhost:8080/",
          "height": 297
        },
        "id": "YOIjbyxF7GuF",
        "outputId": "46c84fea-d5b8-4c5f-a120-a9e7eeda91d2"
      },
      "source": [
        "round(df.describe(),2)\n"
      ],
      "execution_count": 97,
      "outputs": [
        {
          "output_type": "execute_result",
          "data": {
            "text/html": [
              "<div>\n",
              "<style scoped>\n",
              "    .dataframe tbody tr th:only-of-type {\n",
              "        vertical-align: middle;\n",
              "    }\n",
              "\n",
              "    .dataframe tbody tr th {\n",
              "        vertical-align: top;\n",
              "    }\n",
              "\n",
              "    .dataframe thead th {\n",
              "        text-align: right;\n",
              "    }\n",
              "</style>\n",
              "<table border=\"1\" class=\"dataframe\">\n",
              "  <thead>\n",
              "    <tr style=\"text-align: right;\">\n",
              "      <th></th>\n",
              "      <th>x0</th>\n",
              "      <th>x1</th>\n",
              "      <th>x2</th>\n",
              "      <th>x3</th>\n",
              "      <th>x4</th>\n",
              "      <th>x5</th>\n",
              "      <th>x6</th>\n",
              "      <th>x7</th>\n",
              "      <th>x8</th>\n",
              "      <th>x9</th>\n",
              "      <th>x10</th>\n",
              "      <th>x11</th>\n",
              "      <th>x12</th>\n",
              "      <th>x13</th>\n",
              "    </tr>\n",
              "  </thead>\n",
              "  <tbody>\n",
              "    <tr>\n",
              "      <th>count</th>\n",
              "      <td>1217.00</td>\n",
              "      <td>1217.00</td>\n",
              "      <td>1217.00</td>\n",
              "      <td>1217.00</td>\n",
              "      <td>1217.00</td>\n",
              "      <td>1217.00</td>\n",
              "      <td>1217.00</td>\n",
              "      <td>1217.00</td>\n",
              "      <td>1217.00</td>\n",
              "      <td>1217.00</td>\n",
              "      <td>1217.00</td>\n",
              "      <td>1217.00</td>\n",
              "      <td>1217.00</td>\n",
              "      <td>1217.00</td>\n",
              "    </tr>\n",
              "    <tr>\n",
              "      <th>mean</th>\n",
              "      <td>0.00</td>\n",
              "      <td>0.00</td>\n",
              "      <td>-0.00</td>\n",
              "      <td>0.00</td>\n",
              "      <td>-0.00</td>\n",
              "      <td>0.00</td>\n",
              "      <td>0.00</td>\n",
              "      <td>0.00</td>\n",
              "      <td>-0.00</td>\n",
              "      <td>0.00</td>\n",
              "      <td>-0.00</td>\n",
              "      <td>0.00</td>\n",
              "      <td>-0.00</td>\n",
              "      <td>0.16</td>\n",
              "    </tr>\n",
              "    <tr>\n",
              "      <th>std</th>\n",
              "      <td>1.00</td>\n",
              "      <td>1.00</td>\n",
              "      <td>1.00</td>\n",
              "      <td>1.00</td>\n",
              "      <td>1.00</td>\n",
              "      <td>1.00</td>\n",
              "      <td>1.00</td>\n",
              "      <td>1.00</td>\n",
              "      <td>1.00</td>\n",
              "      <td>1.00</td>\n",
              "      <td>1.00</td>\n",
              "      <td>1.00</td>\n",
              "      <td>1.00</td>\n",
              "      <td>0.37</td>\n",
              "    </tr>\n",
              "    <tr>\n",
              "      <th>min</th>\n",
              "      <td>-0.96</td>\n",
              "      <td>-1.82</td>\n",
              "      <td>-1.30</td>\n",
              "      <td>-1.21</td>\n",
              "      <td>-1.73</td>\n",
              "      <td>-6.23</td>\n",
              "      <td>-1.77</td>\n",
              "      <td>-0.93</td>\n",
              "      <td>-12.80</td>\n",
              "      <td>-1.27</td>\n",
              "      <td>-4.37</td>\n",
              "      <td>-2.28</td>\n",
              "      <td>-1.04</td>\n",
              "      <td>0.00</td>\n",
              "    </tr>\n",
              "    <tr>\n",
              "      <th>25%</th>\n",
              "      <td>-0.69</td>\n",
              "      <td>-0.82</td>\n",
              "      <td>-0.81</td>\n",
              "      <td>-0.76</td>\n",
              "      <td>-0.51</td>\n",
              "      <td>-0.21</td>\n",
              "      <td>-0.82</td>\n",
              "      <td>-0.66</td>\n",
              "      <td>0.23</td>\n",
              "      <td>-0.78</td>\n",
              "      <td>-0.62</td>\n",
              "      <td>-0.77</td>\n",
              "      <td>-0.68</td>\n",
              "      <td>0.00</td>\n",
              "    </tr>\n",
              "    <tr>\n",
              "      <th>50%</th>\n",
              "      <td>-0.30</td>\n",
              "      <td>-0.02</td>\n",
              "      <td>-0.19</td>\n",
              "      <td>-0.29</td>\n",
              "      <td>-0.25</td>\n",
              "      <td>0.37</td>\n",
              "      <td>-0.01</td>\n",
              "      <td>-0.29</td>\n",
              "      <td>0.23</td>\n",
              "      <td>-0.22</td>\n",
              "      <td>0.12</td>\n",
              "      <td>-0.00</td>\n",
              "      <td>-0.26</td>\n",
              "      <td>0.00</td>\n",
              "    </tr>\n",
              "    <tr>\n",
              "      <th>75%</th>\n",
              "      <td>0.38</td>\n",
              "      <td>0.89</td>\n",
              "      <td>0.58</td>\n",
              "      <td>0.58</td>\n",
              "      <td>0.12</td>\n",
              "      <td>0.63</td>\n",
              "      <td>0.81</td>\n",
              "      <td>0.35</td>\n",
              "      <td>0.23</td>\n",
              "      <td>0.57</td>\n",
              "      <td>0.77</td>\n",
              "      <td>0.74</td>\n",
              "      <td>0.39</td>\n",
              "      <td>0.00</td>\n",
              "    </tr>\n",
              "    <tr>\n",
              "      <th>max</th>\n",
              "      <td>6.55</td>\n",
              "      <td>1.64</td>\n",
              "      <td>2.57</td>\n",
              "      <td>6.37</td>\n",
              "      <td>9.39</td>\n",
              "      <td>0.81</td>\n",
              "      <td>1.77</td>\n",
              "      <td>6.71</td>\n",
              "      <td>0.23</td>\n",
              "      <td>4.75</td>\n",
              "      <td>1.91</td>\n",
              "      <td>2.72</td>\n",
              "      <td>8.50</td>\n",
              "      <td>1.00</td>\n",
              "    </tr>\n",
              "  </tbody>\n",
              "</table>\n",
              "</div>"
            ],
            "text/plain": [
              "            x0       x1       x2       x3  ...      x10      x11      x12      x13\n",
              "count  1217.00  1217.00  1217.00  1217.00  ...  1217.00  1217.00  1217.00  1217.00\n",
              "mean      0.00     0.00    -0.00     0.00  ...    -0.00     0.00    -0.00     0.16\n",
              "std       1.00     1.00     1.00     1.00  ...     1.00     1.00     1.00     0.37\n",
              "min      -0.96    -1.82    -1.30    -1.21  ...    -4.37    -2.28    -1.04     0.00\n",
              "25%      -0.69    -0.82    -0.81    -0.76  ...    -0.62    -0.77    -0.68     0.00\n",
              "50%      -0.30    -0.02    -0.19    -0.29  ...     0.12    -0.00    -0.26     0.00\n",
              "75%       0.38     0.89     0.58     0.58  ...     0.77     0.74     0.39     0.00\n",
              "max       6.55     1.64     2.57     6.37  ...     1.91     2.72     8.50     1.00\n",
              "\n",
              "[8 rows x 14 columns]"
            ]
          },
          "metadata": {},
          "execution_count": 97
        }
      ]
    },
    {
      "cell_type": "code",
      "metadata": {
        "id": "ylx8XxW8jVna"
      },
      "source": [
        "clf = svm.SVC(probability=True)\n",
        "clf.fit(x, y)  \n",
        "results = clf.predict_proba(x)[0]"
      ],
      "execution_count": 98,
      "outputs": []
    },
    {
      "cell_type": "code",
      "metadata": {
        "colab": {
          "base_uri": "https://localhost:8080/"
        },
        "id": "e98p7w-wk0Gm",
        "outputId": "74b2861d-d5b1-4c27-cac6-6b93479344a5"
      },
      "source": [
        "clf.support_vectors_"
      ],
      "execution_count": 99,
      "outputs": [
        {
          "output_type": "execute_result",
          "data": {
            "text/plain": [
              "array([[-0.5483853 , -1.61713701,  1.87994654, ...,  0.89662564,\n",
              "         1.08270245, -0.71950145],\n",
              "       [ 0.64621776, -1.43758979, -0.16636889, ...,  0.56531025,\n",
              "         1.66590892,  0.16941486],\n",
              "       [ 1.64909439, -1.39855593,  0.13882352, ..., -1.97568425,\n",
              "        -0.32889369,  2.48576347],\n",
              "       ...,\n",
              "       [ 0.55772864, -0.13732092, -0.58518741, ..., -0.71172753,\n",
              "        -0.8172806 ,  0.59786186],\n",
              "       [ 0.98542603,  0.3343214 ,  1.61671055, ..., -0.35219228,\n",
              "        -1.12730684,  0.88169595],\n",
              "       [ 0.94118147,  1.52880321, -1.15639909, ..., -1.42781464,\n",
              "        -1.70291747,  1.0763514 ]])"
            ]
          },
          "metadata": {},
          "execution_count": 99
        }
      ]
    },
    {
      "cell_type": "code",
      "metadata": {
        "colab": {
          "base_uri": "https://localhost:8080/"
        },
        "id": "8xkmmmyzk1U5",
        "outputId": "c4362f77-be40-4879-f2c4-f10d6ea6e7ab"
      },
      "source": [
        "clf.n_support_ "
      ],
      "execution_count": 100,
      "outputs": [
        {
          "output_type": "execute_result",
          "data": {
            "text/plain": [
              "array([169, 143], dtype=int32)"
            ]
          },
          "metadata": {},
          "execution_count": 100
        }
      ]
    },
    {
      "cell_type": "code",
      "metadata": {
        "colab": {
          "base_uri": "https://localhost:8080/"
        },
        "id": "BTRhRmi9pRpX",
        "outputId": "ad910ab9-28f6-4471-cd89-4c708af326ce"
      },
      "source": [
        "print(clf.score(x, y), '\\n')  "
      ],
      "execution_count": null,
      "outputs": [
        {
          "output_type": "stream",
          "name": "stdout",
          "text": [
            "0.9276910435497124 \n",
            "\n"
          ]
        }
      ]
    },
    {
      "cell_type": "code",
      "metadata": {
        "colab": {
          "base_uri": "https://localhost:8080/"
        },
        "id": "PI2-pGNZQnc8",
        "outputId": "6aa440c2-3df3-4e17-e35f-3eb269f20402"
      },
      "source": [
        "clf.predict(x)"
      ],
      "execution_count": null,
      "outputs": [
        {
          "output_type": "execute_result",
          "data": {
            "text/plain": [
              "array([0, 0, 0, ..., 0, 0, 0])"
            ]
          },
          "metadata": {},
          "execution_count": 19
        }
      ]
    },
    {
      "cell_type": "code",
      "metadata": {
        "colab": {
          "base_uri": "https://localhost:8080/"
        },
        "id": "lrZgbz5Wpdy_",
        "outputId": "a90f321c-cc32-4f09-8a4d-d5b03fdfcc7d"
      },
      "source": [
        "print(clf.decision_function(x), '\\n')"
      ],
      "execution_count": 101,
      "outputs": [
        {
          "output_type": "stream",
          "name": "stdout",
          "text": [
            "[-1.08084927 -1.25233452 -1.33365989 ... -1.76057738 -0.20813551\n",
            " -1.41115986] \n",
            "\n"
          ]
        }
      ]
    },
    {
      "cell_type": "code",
      "metadata": {
        "id": "-JcYCDjdRjoZ"
      },
      "source": [
        "clf= svm.SVC(kernel = 'linear')"
      ],
      "execution_count": 102,
      "outputs": []
    },
    {
      "cell_type": "code",
      "metadata": {
        "colab": {
          "base_uri": "https://localhost:8080/"
        },
        "id": "kcrNfSLJArP3",
        "outputId": "b55ee7db-fd84-4ad2-9acb-6f58f7f5cbc7"
      },
      "source": [
        "# import SVC classifier\n",
        "from sklearn.svm import SVC\n",
        "\n",
        "\n",
        "# import metrics to compute accuracy\n",
        "from sklearn.metrics import accuracy_score\n",
        "\n",
        "\n",
        "# instantiate classifier with default hyperparameters\n",
        "svc=SVC() \n",
        "\n",
        "\n",
        "# fit classifier to predictors & target set\n",
        "svc.fit(x,y)\n",
        "\n",
        "\n",
        "# make predictions on predictors set\n",
        "y_pred=svc.predict(x)\n",
        "\n",
        "\n",
        "# compute and print accuracy score\n",
        "print('Model accuracy score with default hyperparameters: {0:0.4f}'. format(accuracy_score(y, y_pred)))"
      ],
      "execution_count": 103,
      "outputs": [
        {
          "output_type": "stream",
          "name": "stdout",
          "text": [
            "Model accuracy score with default hyperparameters: 0.9277\n"
          ]
        }
      ]
    },
    {
      "cell_type": "code",
      "metadata": {
        "colab": {
          "base_uri": "https://localhost:8080/"
        },
        "id": "EmMd0aKsBSjT",
        "outputId": "91d0412c-d14f-417c-cde6-0d1a2d87558d"
      },
      "source": [
        "# instantiate classifier with rbf kernel and C=1000\n",
        "clf= svm.SVC(kernel = 'linear', C = 1000)\n",
        "# fit classifier to predictors & target set\n",
        "clf.fit(x,y)\n",
        "# of support vectors in EACH class\n",
        "print(clf.n_support_) \n",
        "# indices of support vectors\n",
        "print(clf.support_)  \n",
        "# coefficients in ”primary” form\n",
        "print(clf.coef_)  \n",
        "# coefficients in ”dual” form\n",
        "print(clf.dual_coef_)  \n",
        "# make predictions on predictors set\n",
        "y_pred=clf.predict(x)\n",
        "# compute and print accuracy score\n",
        "print('Model accuracy score with rbf kernel and C=1000 : {0:0.4f}'. format(accuracy_score(y, y_pred)))"
      ],
      "execution_count": 104,
      "outputs": [
        {
          "output_type": "stream",
          "name": "stdout",
          "text": [
            "[113 110]\n",
            "[  13   22   28   52   72   73   76   77   86   97  101  166  188  261\n",
            "  271  274  277  291  305  309  312  313  325  335  342  363  405  485\n",
            "  511  517  527  528  532  533  545  562  563  564  575  576  580  586\n",
            "  601  606  608  609  611  729  743  744  773  818  860  861  872  885\n",
            "  909  964  972  976 1011 1024 1027 1028 1029 1032 1033 1040 1044 1049\n",
            " 1051 1063 1064 1066 1070 1072 1074 1077 1081 1083 1085 1090 1093 1097\n",
            " 1102 1106 1108 1112 1113 1114 1117 1124 1125 1126 1128 1130 1132 1133\n",
            " 1134 1136 1138 1141 1142 1143 1144 1157 1173 1179 1187 1188 1203 1207\n",
            " 1215    4   15   17   35   43   74   98  119  123  144  163  167  183\n",
            "  203  214  219  220  221  225  226  228  234  245  250  251  252  256\n",
            "  257  259  266  289  297  321  326  328  329  333  338  339  341  417\n",
            "  433  437  438  439  441  457  462  465  487  489  490  491  495  498\n",
            "  519  521  525  550  554  578  583  585  596  597  610  617  623  624\n",
            "  632  657  673  702  708  723  725  735  780  784  790  791  797  799\n",
            "  815  826  833  834  836  849  875  884  888  902  914  923  929  933\n",
            "  936  939  943  944  946  948  955  965  978  985  991  996 1199]\n",
            "[[-2.70697761 -0.01285645 -0.07220435  2.62935022 -2.46028701 -0.8333953\n",
            "  -0.1925175   1.9395231   0.44159776  0.50224639  0.05799626  0.11239126\n",
            "   0.17183158]]\n",
            "[[-1000.         -1000.           -75.78627518 -1000.\n",
            "  -1000.          -435.36631657 -1000.         -1000.\n",
            "  -1000.         -1000.         -1000.         -1000.\n",
            "  -1000.         -1000.         -1000.         -1000.\n",
            "  -1000.         -1000.         -1000.         -1000.\n",
            "  -1000.         -1000.         -1000.         -1000.\n",
            "   -121.39315922 -1000.         -1000.         -1000.\n",
            "    -22.51789822 -1000.         -1000.         -1000.\n",
            "  -1000.         -1000.         -1000.           -10.29747767\n",
            "  -1000.         -1000.         -1000.         -1000.\n",
            "   -435.4082784  -1000.         -1000.          -468.59191986\n",
            "  -1000.         -1000.         -1000.         -1000.\n",
            "  -1000.         -1000.          -682.0842007  -1000.\n",
            "  -1000.         -1000.         -1000.         -1000.\n",
            "  -1000.         -1000.         -1000.         -1000.\n",
            "  -1000.         -1000.         -1000.         -1000.\n",
            "  -1000.         -1000.         -1000.         -1000.\n",
            "  -1000.         -1000.         -1000.         -1000.\n",
            "   -193.81243475 -1000.         -1000.         -1000.\n",
            "  -1000.         -1000.         -1000.         -1000.\n",
            "  -1000.         -1000.         -1000.         -1000.\n",
            "  -1000.         -1000.         -1000.         -1000.\n",
            "  -1000.         -1000.         -1000.         -1000.\n",
            "  -1000.         -1000.         -1000.         -1000.\n",
            "  -1000.         -1000.         -1000.         -1000.\n",
            "  -1000.         -1000.         -1000.         -1000.\n",
            "  -1000.         -1000.         -1000.         -1000.\n",
            "  -1000.         -1000.         -1000.          -832.50547975\n",
            "  -1000.          1000.          1000.          1000.\n",
            "   1000.          1000.          1000.          1000.\n",
            "   1000.          1000.          1000.          1000.\n",
            "   1000.          1000.          1000.          1000.\n",
            "   1000.          1000.          1000.          1000.\n",
            "     90.30512186  1000.          1000.          1000.\n",
            "   1000.          1000.          1000.          1000.\n",
            "    183.180635    1000.          1000.            10.69531106\n",
            "   1000.          1000.          1000.          1000.\n",
            "   1000.          1000.          1000.          1000.\n",
            "   1000.          1000.          1000.          1000.\n",
            "   1000.          1000.          1000.          1000.\n",
            "   1000.          1000.          1000.          1000.\n",
            "   1000.          1000.          1000.           251.92106332\n",
            "   1000.          1000.          1000.          1000.\n",
            "   1000.          1000.          1000.          1000.\n",
            "   1000.          1000.          1000.          1000.\n",
            "   1000.          1000.          1000.          1000.\n",
            "   1000.          1000.          1000.          1000.\n",
            "   1000.          1000.          1000.          1000.\n",
            "   1000.          1000.          1000.          1000.\n",
            "   1000.          1000.          1000.          1000.\n",
            "   1000.          1000.          1000.          1000.\n",
            "   1000.          1000.          1000.          1000.\n",
            "   1000.          1000.          1000.          1000.\n",
            "   1000.          1000.          1000.          1000.\n",
            "    741.66130908  1000.          1000.          1000.\n",
            "   1000.          1000.          1000.        ]]\n",
            "Model accuracy score with rbf kernel and C=1000 : 0.9244\n"
          ]
        }
      ]
    },
    {
      "cell_type": "code",
      "metadata": {
        "colab": {
          "base_uri": "https://localhost:8080/"
        },
        "id": "krJUTfHygcMr",
        "outputId": "7cf11acb-a4b1-49e2-9a4e-d2c9da97a5ec"
      },
      "source": [
        "print(clf.predict(x), '\\n')  "
      ],
      "execution_count": 105,
      "outputs": [
        {
          "output_type": "stream",
          "name": "stdout",
          "text": [
            "[0 0 0 ... 0 1 0] \n",
            "\n"
          ]
        }
      ]
    },
    {
      "cell_type": "code",
      "metadata": {
        "colab": {
          "base_uri": "https://localhost:8080/"
        },
        "id": "Z2DCaetwgfy2",
        "outputId": "caabad49-a389-434d-a1c5-06d7692b24ee"
      },
      "source": [
        "print(clf.score(x, y), '\\n')   "
      ],
      "execution_count": null,
      "outputs": [
        {
          "output_type": "stream",
          "name": "stdout",
          "text": [
            "0.9178307313064914 \n",
            "\n"
          ]
        }
      ]
    },
    {
      "cell_type": "code",
      "metadata": {
        "colab": {
          "base_uri": "https://localhost:8080/"
        },
        "id": "Z4yY7n66ghHX",
        "outputId": "90d1a1c9-dafe-4d08-8e30-eae78ca54cea"
      },
      "source": [
        "print(clf.decision_function(x), '\\n') "
      ],
      "execution_count": 106,
      "outputs": [
        {
          "output_type": "stream",
          "name": "stdout",
          "text": [
            "[-1.44783076 -2.73494909 -2.69961638 ... -2.9482961   0.06799006\n",
            " -3.11732434] \n",
            "\n"
          ]
        }
      ]
    },
    {
      "cell_type": "code",
      "metadata": {
        "colab": {
          "base_uri": "https://localhost:8080/"
        },
        "id": "Ntb73AIVaCnA",
        "outputId": "d9e17b8f-4b61-4ef1-e6f3-e2263e789098"
      },
      "source": [
        "# Support vectors content values\n",
        "print(clf.support_vectors_) "
      ],
      "execution_count": 107,
      "outputs": [
        {
          "output_type": "stream",
          "name": "stdout",
          "text": [
            "[[-0.04694698 -1.31338801  2.50887484 ...  0.11107933 -1.22335795\n",
            "   0.03939855]\n",
            " [ 0.04891623 -1.05894919  1.70865549 ...  0.99108125  2.27380761\n",
            "  -0.19629958]\n",
            " [ 2.75520833 -0.87846275 -0.41747922 ... -1.52948211 -0.646354\n",
            "   2.90504659]\n",
            " ...\n",
            " [ 0.41024678  1.24591731 -0.16948148 ... -0.01803752 -0.64883306\n",
            "   0.34523004]\n",
            " [ 0.24801674  1.56018396 -0.75703818 ... -0.37610604 -0.92911486\n",
            "   0.39525208]\n",
            " [ 0.98542603  0.3343214   1.61671055 ... -0.35219228 -1.12730684\n",
            "   0.88169595]]\n"
          ]
        }
      ]
    },
    {
      "cell_type": "code",
      "metadata": {
        "colab": {
          "base_uri": "https://localhost:8080/"
        },
        "id": "E6UukGiMBnQu",
        "outputId": "ade80a0a-1e3f-431e-bf55-98b3e9fc06e0"
      },
      "source": [
        "# Print the Confusion Matrix and slice it into four pieces\n",
        "\n",
        "from sklearn.metrics import confusion_matrix\n",
        "\n",
        "cm = confusion_matrix(y, y_pred)\n",
        "\n",
        "print('Confusion matrix\\n\\n', cm)\n",
        "\n",
        "print('\\nTrue Positives(TP) = ', cm[0,0])\n",
        "\n",
        "print('\\nTrue Negatives(TN) = ', cm[1,1])\n",
        "\n",
        "print('\\nFalse Positives(FP) = ', cm[0,1])\n",
        "\n",
        "print('\\nFalse Negatives(FN) = ', cm[1,0])"
      ],
      "execution_count": 109,
      "outputs": [
        {
          "output_type": "stream",
          "name": "stdout",
          "text": [
            "Confusion matrix\n",
            "\n",
            " [[976  41]\n",
            " [ 51 149]]\n",
            "\n",
            "True Positives(TP) =  976\n",
            "\n",
            "True Negatives(TN) =  149\n",
            "\n",
            "False Positives(FP) =  41\n",
            "\n",
            "False Negatives(FN) =  51\n"
          ]
        }
      ]
    },
    {
      "cell_type": "code",
      "metadata": {
        "colab": {
          "base_uri": "https://localhost:8080/",
          "height": 285
        },
        "id": "a86rRy8fciYB",
        "outputId": "3343565a-ae25-4a7f-d3e8-9500a7103676"
      },
      "source": [
        "# visualize confusion matrix with seaborn heatmap\n",
        "\n",
        "cm_matrix = pd.DataFrame(data=cm, columns=['Actual Positive:1', 'Actual Negative:0'], \n",
        "                                 index=['Predict Positive:1', 'Predict Negative:0'])\n",
        "\n",
        "sns.heatmap(cm_matrix, annot=True, fmt='d', cmap='YlGnBu')"
      ],
      "execution_count": 110,
      "outputs": [
        {
          "output_type": "execute_result",
          "data": {
            "text/plain": [
              "<matplotlib.axes._subplots.AxesSubplot at 0x7f7dafef49d0>"
            ]
          },
          "metadata": {},
          "execution_count": 110
        },
        {
          "output_type": "display_data",
          "data": {
            "image/png": "[encoded data removed]",
            "text/plain": [
              "<Figure size 432x288 with 2 Axes>"
            ]
          },
          "metadata": {
            "needs_background": "light"
          }
        }
      ]
    },
    {
      "cell_type": "code",
      "metadata": {
        "colab": {
          "base_uri": "https://localhost:8080/"
        },
        "id": "bJ8aPa03cszd",
        "outputId": "2123104c-2322-45fe-b9b9-0f713b26a90a"
      },
      "source": [
        "from sklearn.metrics import classification_report\n",
        "\n",
        "print(classification_report(y, y_pred))"
      ],
      "execution_count": 111,
      "outputs": [
        {
          "output_type": "stream",
          "name": "stdout",
          "text": [
            "              precision    recall  f1-score   support\n",
            "\n",
            "           0       0.95      0.96      0.95      1017\n",
            "           1       0.78      0.74      0.76       200\n",
            "\n",
            "    accuracy                           0.92      1217\n",
            "   macro avg       0.87      0.85      0.86      1217\n",
            "weighted avg       0.92      0.92      0.92      1217\n",
            "\n"
          ]
        }
      ]
    },
    {
      "cell_type": "code",
      "metadata": {
        "id": "futj8XuGdGS-"
      },
      "source": [
        "TP = cm[0,0]\n",
        "TN = cm[1,1]\n",
        "FP = cm[0,1]\n",
        "FN = cm[1,0]"
      ],
      "execution_count": 112,
      "outputs": []
    },
    {
      "cell_type": "code",
      "metadata": {
        "colab": {
          "base_uri": "https://localhost:8080/"
        },
        "id": "w2elc-eBdKXN",
        "outputId": "de14ed5a-4b09-429d-a63a-cc649d31fb4d"
      },
      "source": [
        "# print classification accuracy\n",
        "\n",
        "classification_accuracy = (TP + TN) / float(TP + TN + FP + FN)\n",
        "\n",
        "print('Classification accuracy : {0:0.4f}'.format(classification_accuracy))"
      ],
      "execution_count": 113,
      "outputs": [
        {
          "output_type": "stream",
          "name": "stdout",
          "text": [
            "Classification accuracy : 0.9244\n"
          ]
        }
      ]
    },
    {
      "cell_type": "code",
      "metadata": {
        "id": "Rk1Km5swVBU6"
      },
      "source": [
        "\n",
        "x = df.drop('x13', axis = 1).values[50:, 2:4]\n",
        "y = df['x13'][50:]\n",
        "C = 1.0  \n",
        "# SVM regularization parameter\n",
        "clf = svm.SVC(kernel = 'linear', C = C, probability=True)\n",
        "clf.fit(x, y)\n",
        "yhat = clf.predict_proba(x) \n",
        "y_pred = clf.predict(x)\n"
      ],
      "execution_count": 114,
      "outputs": []
    },
    {
      "cell_type": "code",
      "metadata": {
        "colab": {
          "base_uri": "https://localhost:8080/"
        },
        "id": "eMUJH48T36Pz",
        "outputId": "7b174b71-883a-4fbe-a0f2-fa7ef287fde4"
      },
      "source": [
        "print(y.shape, y.size)\n",
        "print(y_pred)\n",
        "print(yhat)"
      ],
      "execution_count": 115,
      "outputs": [
        {
          "output_type": "stream",
          "name": "stdout",
          "text": [
            "(1167,) 1167\n",
            "[0 0 0 ... 0 0 0]\n",
            "[[0.98563836 0.01436164]\n",
            " [0.97646447 0.02353553]\n",
            " [0.65174412 0.34825588]\n",
            " ...\n",
            " [0.9650246  0.0349754 ]\n",
            " [0.62450023 0.37549977]\n",
            " [0.98598946 0.01401054]]\n"
          ]
        }
      ]
    },
    {
      "cell_type": "code",
      "metadata": {
        "colab": {
          "base_uri": "https://localhost:8080/",
          "height": 336
        },
        "id": "pOCo6m6z3eGi",
        "outputId": "5a34b910-222e-4227-d1d7-5f3a6968e35d"
      },
      "source": [
        "from sklearn.metrics import roc_curve, roc_auc_score, precision_recall_curve, confusion_matrix, auc, accuracy_score\n",
        "fpr_0, tpr_0, _=roc_curve(y, yhat[:,0])\n",
        "roc_auc_0=roc_auc_score(y, yhat[:,0])\n",
        "fpr_1, tpr_1, _=roc_curve(y, yhat[:,1])\n",
        "roc_auc_1=roc_auc_score(y, yhat[:,1])\n",
        "# plot ROC curves\n",
        "print('roc_auc_0: ', roc_auc_0)\n",
        "print('roc_auc_1: ', roc_auc_1, '\\n')\n",
        "plt.plot(fpr_0, tpr_0, marker='.', label='Class 0', color='b')\n",
        "plt.plot(fpr_1, tpr_1, marker='.', label='Class 1', color='r')\n",
        "plt.xlabel('False Positive Rate')\n",
        "plt.ylabel('True Positive Rate')\n",
        "plt.legend()\n",
        "plt.show()"
      ],
      "execution_count": 116,
      "outputs": [
        {
          "output_type": "stream",
          "name": "stdout",
          "text": [
            "roc_auc_0:  0.07844799271039722\n",
            "roc_auc_1:  0.9215520072896027 \n",
            "\n"
          ]
        },
        {
          "output_type": "display_data",
          "data": {
            "image/png": "[encoded data removed]",
            "text/plain": [
              "<Figure size 432x288 with 1 Axes>"
            ]
          },
          "metadata": {
            "needs_background": "light"
          }
        }
      ]
    },
    {
      "cell_type": "code",
      "metadata": {
        "colab": {
          "base_uri": "https://localhost:8080/"
        },
        "id": "1wJZXVwGrdbl",
        "outputId": "590155c2-8d8c-4052-ba32-5333fabf7b97"
      },
      "source": [
        "# compute ROC AUC\n",
        "\n",
        "from sklearn.metrics import roc_auc_score\n",
        "\n",
        "ROC_AUC = roc_auc_score(y, y_pred)\n",
        "\n",
        "print('ROC AUC : {:.4f}'.format(ROC_AUC))"
      ],
      "execution_count": 117,
      "outputs": [
        {
          "output_type": "stream",
          "name": "stdout",
          "text": [
            "ROC AUC : 0.6722\n"
          ]
        }
      ]
    },
    {
      "cell_type": "code",
      "metadata": {
        "colab": {
          "base_uri": "https://localhost:8080/"
        },
        "id": "UEymNVXjrjD6",
        "outputId": "b0c5e218-9898-4305-886e-ef27931aec3b"
      },
      "source": [
        "# calculate cross-validated ROC AUC \n",
        "\n",
        "from sklearn.model_selection import cross_val_score\n",
        "linear_svc=SVC(kernel='linear', C=1.0) \n",
        "\n",
        "Cross_validated_ROC_AUC = cross_val_score(linear_svc, x, y, cv=10, scoring='roc_auc').mean()\n",
        "\n",
        "print('Cross validated ROC AUC : {:.4f}'.format(Cross_validated_ROC_AUC))"
      ],
      "execution_count": 118,
      "outputs": [
        {
          "output_type": "stream",
          "name": "stdout",
          "text": [
            "Cross validated ROC AUC : 0.9285\n"
          ]
        }
      ]
    }
  ]
}