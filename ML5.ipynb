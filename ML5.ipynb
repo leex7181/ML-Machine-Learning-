{
  "nbformat": 4,
  "nbformat_minor": 0,
  "metadata": {
    "colab": {
      "name": "Logistic Regression HW5.ipynb",
      "provenance": [],
      "collapsed_sections": []
    },
    "kernelspec": {
      "name": "python3",
      "display_name": "Python 3"
    },
    "language_info": {
      "name": "python"
    }
  },
  "cells": [
    {
      "cell_type": "code",
      "metadata": {
        "id": "0eIzyiwFCK3N"
      },
      "source": [
        "from sklearn.datasets import make_classification\n",
        "from matplotlib import pyplot as plt\n",
        "from sklearn.linear_model import LogisticRegression\n",
        "from sklearn.model_selection import train_test_split\n",
        "from sklearn.metrics import confusion_matrix\n",
        "import pandas as pd\n",
        "import numpy as np\n",
        "import seaborn as sns\n",
        "from sklearn.metrics import r2_score, explained_variance_score, confusion_matrix, accuracy_score, classification_report, log_loss\n",
        "from math import sqrt\n",
        "from sklearn.model_selection import cross_val_score\n",
        "from sklearn.linear_model import Lasso\n"
      ],
      "execution_count": 490,
      "outputs": []
    },
    {
      "cell_type": "code",
      "metadata": {
        "id": "Kc9u0aomDspx"
      },
      "source": [
        "df = pd.read_csv(\"CellDNA.csv\", header= None)\n"
      ],
      "execution_count": 491,
      "outputs": []
    },
    {
      "cell_type": "code",
      "metadata": {
        "id": "ehnI7O3ulVcn"
      },
      "source": [
        "df.columns =['x0', 'x1', 'x2', 'x3', 'x4', 'x5', 'x6', 'x7','x8','x9','x10','x11','x12','x13']"
      ],
      "execution_count": 492,
      "outputs": []
    },
    {
      "cell_type": "code",
      "metadata": {
        "id": "U30awYdZqcQN"
      },
      "source": [
        "df.loc[:, 'x13'] = np.where(df.x13>0, 1, 0)"
      ],
      "execution_count": 493,
      "outputs": []
    },
    {
      "cell_type": "code",
      "metadata": {
        "colab": {
          "base_uri": "https://localhost:8080/",
          "height": 419
        },
        "id": "d42qh9F5HAFc",
        "outputId": "12d901b0-fe41-4542-e93c-b75d6fd6f497"
      },
      "source": [
        "df\n"
      ],
      "execution_count": 494,
      "outputs": [
        {
          "output_type": "execute_result",
          "data": {
            "text/html": [
              "<div>\n",
              "<style scoped>\n",
              "    .dataframe tbody tr th:only-of-type {\n",
              "        vertical-align: middle;\n",
              "    }\n",
              "\n",
              "    .dataframe tbody tr th {\n",
              "        vertical-align: top;\n",
              "    }\n",
              "\n",
              "    .dataframe thead th {\n",
              "        text-align: right;\n",
              "    }\n",
              "</style>\n",
              "<table border=\"1\" class=\"dataframe\">\n",
              "  <thead>\n",
              "    <tr style=\"text-align: right;\">\n",
              "      <th></th>\n",
              "      <th>x0</th>\n",
              "      <th>x1</th>\n",
              "      <th>x2</th>\n",
              "      <th>x3</th>\n",
              "      <th>x4</th>\n",
              "      <th>x5</th>\n",
              "      <th>x6</th>\n",
              "      <th>x7</th>\n",
              "      <th>x8</th>\n",
              "      <th>x9</th>\n",
              "      <th>x10</th>\n",
              "      <th>x11</th>\n",
              "      <th>x12</th>\n",
              "      <th>x13</th>\n",
              "    </tr>\n",
              "  </thead>\n",
              "  <tbody>\n",
              "    <tr>\n",
              "      <th>0</th>\n",
              "      <td>222</td>\n",
              "      <td>31.189189</td>\n",
              "      <td>40.342342</td>\n",
              "      <td>35.579087</td>\n",
              "      <td>8.883917</td>\n",
              "      <td>0.968325</td>\n",
              "      <td>-80.113673</td>\n",
              "      <td>222</td>\n",
              "      <td>1</td>\n",
              "      <td>16.812471</td>\n",
              "      <td>0.816176</td>\n",
              "      <td>0.578125</td>\n",
              "      <td>78.591</td>\n",
              "      <td>0</td>\n",
              "    </tr>\n",
              "    <tr>\n",
              "      <th>1</th>\n",
              "      <td>73</td>\n",
              "      <td>29.493151</td>\n",
              "      <td>271.397260</td>\n",
              "      <td>15.517202</td>\n",
              "      <td>6.407490</td>\n",
              "      <td>0.910764</td>\n",
              "      <td>76.042946</td>\n",
              "      <td>73</td>\n",
              "      <td>1</td>\n",
              "      <td>9.640876</td>\n",
              "      <td>0.858824</td>\n",
              "      <td>0.608333</td>\n",
              "      <td>39.217</td>\n",
              "      <td>0</td>\n",
              "    </tr>\n",
              "    <tr>\n",
              "      <th>2</th>\n",
              "      <td>256</td>\n",
              "      <td>58.816406</td>\n",
              "      <td>289.941406</td>\n",
              "      <td>37.226013</td>\n",
              "      <td>9.863895</td>\n",
              "      <td>0.964256</td>\n",
              "      <td>85.324742</td>\n",
              "      <td>256</td>\n",
              "      <td>1</td>\n",
              "      <td>18.054067</td>\n",
              "      <td>0.752941</td>\n",
              "      <td>0.562637</td>\n",
              "      <td>89.111</td>\n",
              "      <td>0</td>\n",
              "    </tr>\n",
              "    <tr>\n",
              "      <th>3</th>\n",
              "      <td>126</td>\n",
              "      <td>71.023810</td>\n",
              "      <td>477.412698</td>\n",
              "      <td>13.112980</td>\n",
              "      <td>12.790672</td>\n",
              "      <td>0.220351</td>\n",
              "      <td>63.523477</td>\n",
              "      <td>126</td>\n",
              "      <td>1</td>\n",
              "      <td>12.666025</td>\n",
              "      <td>0.881119</td>\n",
              "      <td>0.646154</td>\n",
              "      <td>43.832</td>\n",
              "      <td>0</td>\n",
              "    </tr>\n",
              "    <tr>\n",
              "      <th>4</th>\n",
              "      <td>225</td>\n",
              "      <td>90.808889</td>\n",
              "      <td>541.946667</td>\n",
              "      <td>44.463110</td>\n",
              "      <td>7.858879</td>\n",
              "      <td>0.984256</td>\n",
              "      <td>-52.874983</td>\n",
              "      <td>225</td>\n",
              "      <td>1</td>\n",
              "      <td>16.925688</td>\n",
              "      <td>0.728155</td>\n",
              "      <td>0.252525</td>\n",
              "      <td>90.072</td>\n",
              "      <td>1</td>\n",
              "    </tr>\n",
              "    <tr>\n",
              "      <th>...</th>\n",
              "      <td>...</td>\n",
              "      <td>...</td>\n",
              "      <td>...</td>\n",
              "      <td>...</td>\n",
              "      <td>...</td>\n",
              "      <td>...</td>\n",
              "      <td>...</td>\n",
              "      <td>...</td>\n",
              "      <td>...</td>\n",
              "      <td>...</td>\n",
              "      <td>...</td>\n",
              "      <td>...</td>\n",
              "      <td>...</td>\n",
              "      <td>...</td>\n",
              "    </tr>\n",
              "    <tr>\n",
              "      <th>1212</th>\n",
              "      <td>216</td>\n",
              "      <td>738.527778</td>\n",
              "      <td>216.449074</td>\n",
              "      <td>38.229761</td>\n",
              "      <td>9.556174</td>\n",
              "      <td>0.968254</td>\n",
              "      <td>12.847813</td>\n",
              "      <td>216</td>\n",
              "      <td>1</td>\n",
              "      <td>16.583719</td>\n",
              "      <td>0.640950</td>\n",
              "      <td>0.397059</td>\n",
              "      <td>98.589</td>\n",
              "      <td>0</td>\n",
              "    </tr>\n",
              "    <tr>\n",
              "      <th>1213</th>\n",
              "      <td>328</td>\n",
              "      <td>748.896341</td>\n",
              "      <td>47.664634</td>\n",
              "      <td>63.138991</td>\n",
              "      <td>9.101974</td>\n",
              "      <td>0.989555</td>\n",
              "      <td>57.919494</td>\n",
              "      <td>328</td>\n",
              "      <td>1</td>\n",
              "      <td>20.435816</td>\n",
              "      <td>0.607407</td>\n",
              "      <td>0.205257</td>\n",
              "      <td>131.431</td>\n",
              "      <td>1</td>\n",
              "    </tr>\n",
              "    <tr>\n",
              "      <th>1214</th>\n",
              "      <td>97</td>\n",
              "      <td>761.690722</td>\n",
              "      <td>207.288660</td>\n",
              "      <td>22.751513</td>\n",
              "      <td>8.230351</td>\n",
              "      <td>0.932275</td>\n",
              "      <td>-24.674618</td>\n",
              "      <td>97</td>\n",
              "      <td>1</td>\n",
              "      <td>11.113246</td>\n",
              "      <td>0.591463</td>\n",
              "      <td>0.384921</td>\n",
              "      <td>67.427</td>\n",
              "      <td>0</td>\n",
              "    </tr>\n",
              "    <tr>\n",
              "      <th>1215</th>\n",
              "      <td>223</td>\n",
              "      <td>770.654708</td>\n",
              "      <td>235.502242</td>\n",
              "      <td>53.491654</td>\n",
              "      <td>8.643053</td>\n",
              "      <td>0.986860</td>\n",
              "      <td>73.244715</td>\n",
              "      <td>223</td>\n",
              "      <td>1</td>\n",
              "      <td>16.850294</td>\n",
              "      <td>0.557500</td>\n",
              "      <td>0.252834</td>\n",
              "      <td>112.656</td>\n",
              "      <td>0</td>\n",
              "    </tr>\n",
              "    <tr>\n",
              "      <th>1216</th>\n",
              "      <td>87</td>\n",
              "      <td>764.954023</td>\n",
              "      <td>265.655172</td>\n",
              "      <td>13.459738</td>\n",
              "      <td>8.521929</td>\n",
              "      <td>0.774035</td>\n",
              "      <td>18.595633</td>\n",
              "      <td>87</td>\n",
              "      <td>1</td>\n",
              "      <td>10.524820</td>\n",
              "      <td>0.956044</td>\n",
              "      <td>0.743590</td>\n",
              "      <td>32.295</td>\n",
              "      <td>0</td>\n",
              "    </tr>\n",
              "  </tbody>\n",
              "</table>\n",
              "<p>1217 rows × 14 columns</p>\n",
              "</div>"
            ],
            "text/plain": [
              "       x0          x1          x2         x3  ...       x10       x11      x12  x13\n",
              "0     222   31.189189   40.342342  35.579087  ...  0.816176  0.578125   78.591    0\n",
              "1      73   29.493151  271.397260  15.517202  ...  0.858824  0.608333   39.217    0\n",
              "2     256   58.816406  289.941406  37.226013  ...  0.752941  0.562637   89.111    0\n",
              "3     126   71.023810  477.412698  13.112980  ...  0.881119  0.646154   43.832    0\n",
              "4     225   90.808889  541.946667  44.463110  ...  0.728155  0.252525   90.072    1\n",
              "...   ...         ...         ...        ...  ...       ...       ...      ...  ...\n",
              "1212  216  738.527778  216.449074  38.229761  ...  0.640950  0.397059   98.589    0\n",
              "1213  328  748.896341   47.664634  63.138991  ...  0.607407  0.205257  131.431    1\n",
              "1214   97  761.690722  207.288660  22.751513  ...  0.591463  0.384921   67.427    0\n",
              "1215  223  770.654708  235.502242  53.491654  ...  0.557500  0.252834  112.656    0\n",
              "1216   87  764.954023  265.655172  13.459738  ...  0.956044  0.743590   32.295    0\n",
              "\n",
              "[1217 rows x 14 columns]"
            ]
          },
          "metadata": {},
          "execution_count": 494
        }
      ]
    },
    {
      "cell_type": "code",
      "metadata": {
        "id": "Op_x-xHtzIAt"
      },
      "source": [
        "from sklearn.preprocessing import StandardScaler\n",
        "scaler = StandardScaler()\n",
        "df[['x0', 'x1', 'x2', 'x3', 'x4', 'x5', 'x6', 'x7','x8','x9','x10','x11','x12']] = scaler.fit_transform(df[['x0', 'x1', 'x2', 'x3', 'x4', 'x5', 'x6', 'x7','x8','x9','x10','x11','x12']])"
      ],
      "execution_count": 495,
      "outputs": []
    },
    {
      "cell_type": "code",
      "metadata": {
        "colab": {
          "base_uri": "https://localhost:8080/"
        },
        "id": "Wro4iSx40BiO",
        "outputId": "dc4fd097-2e4d-4e2a-97dd-a4858f7ee9e6"
      },
      "source": [
        "numeric_cols = ['x0', 'x1', 'x2', 'x3', 'x4', 'x5', 'x6', 'x7','x8','x9','x10','x11','x12']\n",
        "scaler = StandardScaler()\n",
        "scaler.fit(df[numeric_cols])\n",
        "scaled_inputs = scaler.transform(df[numeric_cols])\n",
        "scaled_inputs"
      ],
      "execution_count": 496,
      "outputs": [
        {
          "output_type": "execute_result",
          "data": {
            "text/plain": [
              "array([[ 0.15952762, -1.80200559, -1.20813407, ...,  0.34511514,\n",
              "         0.65289142, -0.00691284],\n",
              "       [-0.93921222, -1.80987674,  0.42436331, ...,  0.7072868 ,\n",
              "         0.84374979, -0.81411281],\n",
              "       [ 0.41024678, -1.67379037,  0.55538528, ..., -0.19189804,\n",
              "         0.55503945,  0.20875597],\n",
              "       ...,\n",
              "       [-0.76223399,  1.58818067, -0.02859014, ..., -1.56321582,\n",
              "        -0.56778731, -0.23578419],\n",
              "       [ 0.16690172,  1.62978166,  0.17075035, ..., -1.85164337,\n",
              "        -1.40231699,  0.69144818],\n",
              "       [-0.83597492,  1.60332534,  0.38379311, ...,  1.53291195,\n",
              "         1.69830929, -0.95601961]])"
            ]
          },
          "metadata": {},
          "execution_count": 496
        }
      ]
    },
    {
      "cell_type": "code",
      "metadata": {
        "colab": {
          "base_uri": "https://localhost:8080/",
          "height": 439
        },
        "id": "BmxCe0MX0OLd",
        "outputId": "0668d1d6-29c3-4bd4-cc7a-46f3139377a0"
      },
      "source": [
        "df\n"
      ],
      "execution_count": 497,
      "outputs": [
        {
          "output_type": "execute_result",
          "data": {
            "text/html": [
              "<div>\n",
              "<style scoped>\n",
              "    .dataframe tbody tr th:only-of-type {\n",
              "        vertical-align: middle;\n",
              "    }\n",
              "\n",
              "    .dataframe tbody tr th {\n",
              "        vertical-align: top;\n",
              "    }\n",
              "\n",
              "    .dataframe thead th {\n",
              "        text-align: right;\n",
              "    }\n",
              "</style>\n",
              "<table border=\"1\" class=\"dataframe\">\n",
              "  <thead>\n",
              "    <tr style=\"text-align: right;\">\n",
              "      <th></th>\n",
              "      <th>x0</th>\n",
              "      <th>x1</th>\n",
              "      <th>x2</th>\n",
              "      <th>x3</th>\n",
              "      <th>x4</th>\n",
              "      <th>x5</th>\n",
              "      <th>x6</th>\n",
              "      <th>x7</th>\n",
              "      <th>x8</th>\n",
              "      <th>x9</th>\n",
              "      <th>x10</th>\n",
              "      <th>x11</th>\n",
              "      <th>x12</th>\n",
              "      <th>x13</th>\n",
              "    </tr>\n",
              "  </thead>\n",
              "  <tbody>\n",
              "    <tr>\n",
              "      <th>0</th>\n",
              "      <td>0.159528</td>\n",
              "      <td>-1.802006</td>\n",
              "      <td>-1.208134</td>\n",
              "      <td>0.114420</td>\n",
              "      <td>-0.135689</td>\n",
              "      <td>0.538311</td>\n",
              "      <td>-1.587426</td>\n",
              "      <td>0.135833</td>\n",
              "      <td>0.233292</td>\n",
              "      <td>0.329626</td>\n",
              "      <td>0.345115</td>\n",
              "      <td>0.652891</td>\n",
              "      <td>-0.006913</td>\n",
              "      <td>0</td>\n",
              "    </tr>\n",
              "    <tr>\n",
              "      <th>1</th>\n",
              "      <td>-0.939212</td>\n",
              "      <td>-1.809877</td>\n",
              "      <td>0.424363</td>\n",
              "      <td>-0.933511</td>\n",
              "      <td>-0.817247</td>\n",
              "      <td>0.019258</td>\n",
              "      <td>1.500586</td>\n",
              "      <td>-0.909580</td>\n",
              "      <td>0.233292</td>\n",
              "      <td>-1.221986</td>\n",
              "      <td>0.707287</td>\n",
              "      <td>0.843750</td>\n",
              "      <td>-0.814113</td>\n",
              "      <td>0</td>\n",
              "    </tr>\n",
              "    <tr>\n",
              "      <th>2</th>\n",
              "      <td>0.410247</td>\n",
              "      <td>-1.673790</td>\n",
              "      <td>0.555385</td>\n",
              "      <td>0.200447</td>\n",
              "      <td>0.134019</td>\n",
              "      <td>0.501621</td>\n",
              "      <td>1.684134</td>\n",
              "      <td>0.374384</td>\n",
              "      <td>0.233292</td>\n",
              "      <td>0.598252</td>\n",
              "      <td>-0.191898</td>\n",
              "      <td>0.555039</td>\n",
              "      <td>0.208756</td>\n",
              "      <td>0</td>\n",
              "    </tr>\n",
              "    <tr>\n",
              "      <th>3</th>\n",
              "      <td>-0.548385</td>\n",
              "      <td>-1.617137</td>\n",
              "      <td>1.879947</td>\n",
              "      <td>-1.059096</td>\n",
              "      <td>0.939523</td>\n",
              "      <td>-6.206504</td>\n",
              "      <td>1.253012</td>\n",
              "      <td>-0.537722</td>\n",
              "      <td>0.233292</td>\n",
              "      <td>-0.567479</td>\n",
              "      <td>0.896626</td>\n",
              "      <td>1.082702</td>\n",
              "      <td>-0.719501</td>\n",
              "      <td>0</td>\n",
              "    </tr>\n",
              "    <tr>\n",
              "      <th>4</th>\n",
              "      <td>0.181650</td>\n",
              "      <td>-1.525316</td>\n",
              "      <td>2.335905</td>\n",
              "      <td>0.578476</td>\n",
              "      <td>-0.417798</td>\n",
              "      <td>0.681969</td>\n",
              "      <td>-1.048779</td>\n",
              "      <td>0.156881</td>\n",
              "      <td>0.233292</td>\n",
              "      <td>0.354121</td>\n",
              "      <td>-0.402387</td>\n",
              "      <td>-1.404271</td>\n",
              "      <td>0.228457</td>\n",
              "      <td>1</td>\n",
              "    </tr>\n",
              "    <tr>\n",
              "      <th>...</th>\n",
              "      <td>...</td>\n",
              "      <td>...</td>\n",
              "      <td>...</td>\n",
              "      <td>...</td>\n",
              "      <td>...</td>\n",
              "      <td>...</td>\n",
              "      <td>...</td>\n",
              "      <td>...</td>\n",
              "      <td>...</td>\n",
              "      <td>...</td>\n",
              "      <td>...</td>\n",
              "      <td>...</td>\n",
              "      <td>...</td>\n",
              "      <td>...</td>\n",
              "    </tr>\n",
              "    <tr>\n",
              "      <th>1212</th>\n",
              "      <td>0.115283</td>\n",
              "      <td>1.480684</td>\n",
              "      <td>0.036132</td>\n",
              "      <td>0.252878</td>\n",
              "      <td>0.049329</td>\n",
              "      <td>0.537678</td>\n",
              "      <td>0.250896</td>\n",
              "      <td>0.093736</td>\n",
              "      <td>0.233292</td>\n",
              "      <td>0.280134</td>\n",
              "      <td>-1.142965</td>\n",
              "      <td>-0.491097</td>\n",
              "      <td>0.403063</td>\n",
              "      <td>0</td>\n",
              "    </tr>\n",
              "    <tr>\n",
              "      <th>1213</th>\n",
              "      <td>0.941181</td>\n",
              "      <td>1.528803</td>\n",
              "      <td>-1.156399</td>\n",
              "      <td>1.554010</td>\n",
              "      <td>-0.075675</td>\n",
              "      <td>0.729753</td>\n",
              "      <td>1.142193</td>\n",
              "      <td>0.879550</td>\n",
              "      <td>0.233292</td>\n",
              "      <td>1.113556</td>\n",
              "      <td>-1.427815</td>\n",
              "      <td>-1.702917</td>\n",
              "      <td>1.076351</td>\n",
              "      <td>1</td>\n",
              "    </tr>\n",
              "    <tr>\n",
              "      <th>1214</th>\n",
              "      <td>-0.762234</td>\n",
              "      <td>1.588181</td>\n",
              "      <td>-0.028590</td>\n",
              "      <td>-0.555628</td>\n",
              "      <td>-0.315562</td>\n",
              "      <td>0.213238</td>\n",
              "      <td>-0.491114</td>\n",
              "      <td>-0.741192</td>\n",
              "      <td>0.233292</td>\n",
              "      <td>-0.903431</td>\n",
              "      <td>-1.563216</td>\n",
              "      <td>-0.567787</td>\n",
              "      <td>-0.235784</td>\n",
              "      <td>0</td>\n",
              "    </tr>\n",
              "    <tr>\n",
              "      <th>1215</th>\n",
              "      <td>0.166902</td>\n",
              "      <td>1.629782</td>\n",
              "      <td>0.170750</td>\n",
              "      <td>1.050082</td>\n",
              "      <td>-0.201979</td>\n",
              "      <td>0.705453</td>\n",
              "      <td>1.445251</td>\n",
              "      <td>0.142849</td>\n",
              "      <td>0.233292</td>\n",
              "      <td>0.337809</td>\n",
              "      <td>-1.851643</td>\n",
              "      <td>-1.402317</td>\n",
              "      <td>0.691448</td>\n",
              "      <td>0</td>\n",
              "    </tr>\n",
              "    <tr>\n",
              "      <th>1216</th>\n",
              "      <td>-0.835975</td>\n",
              "      <td>1.603325</td>\n",
              "      <td>0.383793</td>\n",
              "      <td>-1.040983</td>\n",
              "      <td>-0.235315</td>\n",
              "      <td>-1.213681</td>\n",
              "      <td>0.364560</td>\n",
              "      <td>-0.811354</td>\n",
              "      <td>0.233292</td>\n",
              "      <td>-1.030740</td>\n",
              "      <td>1.532912</td>\n",
              "      <td>1.698309</td>\n",
              "      <td>-0.956020</td>\n",
              "      <td>0</td>\n",
              "    </tr>\n",
              "  </tbody>\n",
              "</table>\n",
              "<p>1217 rows × 14 columns</p>\n",
              "</div>"
            ],
            "text/plain": [
              "            x0        x1        x2        x3  ...       x10       x11       x12  x13\n",
              "0     0.159528 -1.802006 -1.208134  0.114420  ...  0.345115  0.652891 -0.006913    0\n",
              "1    -0.939212 -1.809877  0.424363 -0.933511  ...  0.707287  0.843750 -0.814113    0\n",
              "2     0.410247 -1.673790  0.555385  0.200447  ... -0.191898  0.555039  0.208756    0\n",
              "3    -0.548385 -1.617137  1.879947 -1.059096  ...  0.896626  1.082702 -0.719501    0\n",
              "4     0.181650 -1.525316  2.335905  0.578476  ... -0.402387 -1.404271  0.228457    1\n",
              "...        ...       ...       ...       ...  ...       ...       ...       ...  ...\n",
              "1212  0.115283  1.480684  0.036132  0.252878  ... -1.142965 -0.491097  0.403063    0\n",
              "1213  0.941181  1.528803 -1.156399  1.554010  ... -1.427815 -1.702917  1.076351    1\n",
              "1214 -0.762234  1.588181 -0.028590 -0.555628  ... -1.563216 -0.567787 -0.235784    0\n",
              "1215  0.166902  1.629782  0.170750  1.050082  ... -1.851643 -1.402317  0.691448    0\n",
              "1216 -0.835975  1.603325  0.383793 -1.040983  ...  1.532912  1.698309 -0.956020    0\n",
              "\n",
              "[1217 rows x 14 columns]"
            ]
          },
          "metadata": {},
          "execution_count": 497
        }
      ]
    },
    {
      "cell_type": "code",
      "metadata": {
        "colab": {
          "base_uri": "https://localhost:8080/"
        },
        "id": "z7uWzz8f0iT2",
        "outputId": "f5794143-7c22-41ff-d01d-f640550facba"
      },
      "source": [
        "x = df.drop('x13', axis = 1).values\n",
        "y = df['x13']\n",
        "y = y.astype(int)\n",
        "\n",
        "print(x.shape)\n",
        "print(y.shape)"
      ],
      "execution_count": 498,
      "outputs": [
        {
          "output_type": "stream",
          "name": "stdout",
          "text": [
            "(1217, 13)\n",
            "(1217,)\n"
          ]
        }
      ]
    },
    {
      "cell_type": "code",
      "metadata": {
        "id": "w6szj2bH5xfN"
      },
      "source": [
        "from sklearn.model_selection import train_test_split\n",
        "x_train, x_test, y_train, y_test = train_test_split(x, y, test_size=0.25, random_state=10)\n"
      ],
      "execution_count": 499,
      "outputs": []
    },
    {
      "cell_type": "code",
      "metadata": {
        "colab": {
          "base_uri": "https://localhost:8080/"
        },
        "id": "w0r0yNxc2jXp",
        "outputId": "ae7c750a-cdc4-4930-eeb9-e4487d87ed80"
      },
      "source": [
        "reg = Lasso(alpha=0.5)\n",
        "reg.fit(x_train, y_train)"
      ],
      "execution_count": 503,
      "outputs": [
        {
          "output_type": "execute_result",
          "data": {
            "text/plain": [
              "Lasso(alpha=0.5, copy_X=True, fit_intercept=True, max_iter=1000,\n",
              "      normalize=False, positive=False, precompute=False, random_state=None,\n",
              "      selection='cyclic', tol=0.0001, warm_start=False)"
            ]
          },
          "metadata": {},
          "execution_count": 503
        }
      ]
    },
    {
      "cell_type": "code",
      "metadata": {
        "colab": {
          "base_uri": "https://localhost:8080/"
        },
        "id": "XG7yqu6H57Xp",
        "outputId": "f3e7a8ed-499f-4449-ef9f-e52bed5778b1"
      },
      "source": [
        "print('Lasso Regression: R^2 score on training set', reg.score(x_train, y_train)*100)\n",
        "print('Lasso Regression: R^2 score on test set', reg.score(x_test, y_test)*100)"
      ],
      "execution_count": 504,
      "outputs": [
        {
          "output_type": "stream",
          "name": "stdout",
          "text": [
            "Lasso Regression: R^2 score on training set 0.0\n",
            "Lasso Regression: R^2 score on test set -0.39948214876439625\n"
          ]
        }
      ]
    },
    {
      "cell_type": "code",
      "metadata": {
        "id": "-D26GzqW5_N1"
      },
      "source": [
        "lambdas = (0.001, 0.01, 0.1, 0.5, 1, 2, 10)\n",
        "l_num = 7\n",
        "pred_num = x.shape[1]\n",
        "\n",
        "# prepare data for enumerate\n",
        "coeff_a = np.zeros((l_num, pred_num))\n",
        "train_r_squared = np.zeros(l_num)\n",
        "test_r_squared = np.zeros(l_num)"
      ],
      "execution_count": 505,
      "outputs": []
    },
    {
      "cell_type": "code",
      "metadata": {
        "id": "5Qy3_NNV8k6D"
      },
      "source": [
        "for ind, i in enumerate(lambdas):    \n",
        "    reg = Lasso(alpha = i)\n",
        "    reg.fit(x_train, y_train)\n",
        "\n",
        "    coeff_a[ind,:] = reg.coef_\n",
        "    train_r_squared[ind] = reg.score(x_train, y_train)\n",
        "    test_r_squared[ind] = reg.score(x_test, y_test)"
      ],
      "execution_count": 506,
      "outputs": []
    },
    {
      "cell_type": "code",
      "metadata": {
        "colab": {
          "base_uri": "https://localhost:8080/",
          "height": 491
        },
        "id": "1jzwWnLa6OAp",
        "outputId": "176e22c3-278b-4b38-d3fe-d41d0803ca0e"
      },
      "source": [
        "plt.figure(figsize=(18, 8))\n",
        "plt.plot(train_r_squared, 'bo-', label=r'$R^2$ Training set', color=\"darkblue\", alpha=0.6, linewidth=3)\n",
        "plt.plot(test_r_squared, 'bo-', label=r'$R^2$ Test set', color=\"darkred\", alpha=0.6, linewidth=3)\n",
        "plt.xlabel('Lamda index'); plt.ylabel(r'$R^2$')\n",
        "plt.xlim(0, 6)\n",
        "plt.title(r'Evaluate lasso regression with lamdas: 0 = 0.001, 1= 0.01, 2 = 0.1, 3 = 0.5, 4= 1, 5= 2, 6 = 10')\n",
        "plt.legend(loc='best')\n",
        "plt.grid()"
      ],
      "execution_count": 507,
      "outputs": [
        {
          "output_type": "display_data",
          "data": {
            "image/png": "[encoded data removed]",
            "text/plain": [
              "<Figure size 1296x576 with 1 Axes>"
            ]
          },
          "metadata": {
            "needs_background": "light"
          }
        }
      ]
    },
    {
      "cell_type": "code",
      "metadata": {
        "colab": {
          "base_uri": "https://localhost:8080/"
        },
        "id": "8LlWwwqM6Rzo",
        "outputId": "c899fc33-cd78-40ad-dd72-72b40f21e433"
      },
      "source": [
        "df_lam = pd.DataFrame(test_r_squared*100, columns=['R_squared'])\n",
        "df_lam['lambda'] = (lambdas)\n",
        "# returns the index of the row where column has maximum value.\n",
        "df_lam.loc[df_lam['R_squared'].idxmax()]"
      ],
      "execution_count": 508,
      "outputs": [
        {
          "output_type": "execute_result",
          "data": {
            "text/plain": [
              "R_squared    41.741223\n",
              "lambda        0.001000\n",
              "Name: 0, dtype: float64"
            ]
          },
          "metadata": {},
          "execution_count": 508
        }
      ]
    },
    {
      "cell_type": "code",
      "metadata": {
        "colab": {
          "base_uri": "https://localhost:8080/"
        },
        "id": "BYjI9E3z2ZeC",
        "outputId": "506ff0d3-1e24-4040-ab6e-6ccd491948c8"
      },
      "source": [
        "reg_best = Lasso(alpha = 0.1)\n",
        "reg_best.fit(x_train, y_train)\n"
      ],
      "execution_count": 509,
      "outputs": [
        {
          "output_type": "execute_result",
          "data": {
            "text/plain": [
              "Lasso(alpha=0.1, copy_X=True, fit_intercept=True, max_iter=1000,\n",
              "      normalize=False, positive=False, precompute=False, random_state=None,\n",
              "      selection='cyclic', tol=0.0001, warm_start=False)"
            ]
          },
          "metadata": {},
          "execution_count": 509
        }
      ]
    },
    {
      "cell_type": "code",
      "metadata": {
        "id": "tDIu3rnA2HLe"
      },
      "source": [
        "from sklearn.metrics import mean_squared_error\n",
        "mean_squared_error(y_test, reg_best.predict(x_test))\n",
        "l_min = 0.05\n",
        "l_max = 0.2\n",
        "l_num = 20\n",
        "lambdas = np.linspace(l_min,l_max, l_num)\n",
        "train_r_squared = np.zeros(l_num)\n",
        "test_r_squared = np.zeros(l_num)\n",
        "pred_num = x.shape[1]\n",
        "coeff_a = np.zeros((l_num, pred_num))"
      ],
      "execution_count": 510,
      "outputs": []
    },
    {
      "cell_type": "code",
      "metadata": {
        "id": "ZbV3tzSB14EP"
      },
      "source": [
        "for ind, i in enumerate(lambdas):\n",
        "  reg = Lasso(alpha = i)\n",
        "  reg.fit(x_train, y_train)\n",
        "  results = cross_val_score(reg, x, y, cv=10, scoring=\"r2\")\n",
        "  train_r_squared[ind] = reg.score(x_train, y_train)\n",
        "  test_r_squared[ind] = reg.score(x_test, y_test)"
      ],
      "execution_count": 511,
      "outputs": []
    },
    {
      "cell_type": "code",
      "metadata": {
        "id": "fa_TJb_7Cdb2"
      },
      "source": [
        "# Generate and dataset for Logistic Regression\n",
        "x, y = make_classification(\n",
        "    n_samples=100,\n",
        "    n_features=1,\n",
        "    n_classes=2,\n",
        "    n_clusters_per_class=1,\n",
        "    flip_y=0.03,\n",
        "    n_informative=1,\n",
        "    n_redundant=0,\n",
        "    n_repeated=0\n",
        ")"
      ],
      "execution_count": 469,
      "outputs": []
    },
    {
      "cell_type": "code",
      "metadata": {
        "colab": {
          "base_uri": "https://localhost:8080/",
          "height": 281
        },
        "id": "1C0hhLSuCiQ9",
        "outputId": "05c7ddb4-1005-4f79-af19-063243f5038b"
      },
      "source": [
        "# Create a scatter plot\n",
        "plt.scatter(x, y, c=y, cmap='rainbow')\n",
        "plt.title('Scatter Plot of Logistic Regression')\n",
        "plt.show()"
      ],
      "execution_count": 470,
      "outputs": [
        {
          "output_type": "display_data",
          "data": {
            "image/png": "[encoded data removed]",
            "text/plain": [
              "<Figure size 432x288 with 1 Axes>"
            ]
          },
          "metadata": {
            "needs_background": "light"
          }
        }
      ]
    },
    {
      "cell_type": "code",
      "metadata": {
        "colab": {
          "base_uri": "https://localhost:8080/",
          "height": 490
        },
        "id": "5l74qXXk6atr",
        "outputId": "8feea026-b905-4d25-e989-fa0b1bb05199"
      },
      "source": [
        "# Plotting\n",
        "plt.figure(figsize=(18, 8))\n",
        "plt.plot(train_r_squared, 'bo-', label=r'$R^2$ Training set', color=\"darkblue\", alpha=0.6, linewidth=3)\n",
        "plt.plot(test_r_squared, 'bo-', label=r'$R^2$ Test set', color=\"darkred\", alpha=0.6, linewidth=3)\n",
        "plt.xlabel('Lamda value'); plt.ylabel(r'$R^2$')\n",
        "plt.xlim(0, 19)\n",
        "plt.title(r'Evaluate 10-fold cv with different lamdas')\n",
        "plt.legend(loc='best')\n",
        "plt.grid()\n"
      ],
      "execution_count": 512,
      "outputs": [
        {
          "output_type": "display_data",
          "data": {
            "image/png": "[encoded data removed]",
            "text/plain": [
              "<Figure size 1296x576 with 1 Axes>"
            ]
          },
          "metadata": {
            "needs_background": "light"
          }
        }
      ]
    },
    {
      "cell_type": "code",
      "metadata": {
        "id": "WJAE7jjiClUI"
      },
      "source": [
        "# Split the dataset into training and test dataset\n",
        "x_train, x_test, y_train, y_test = train_test_split(x, y, random_state=1)"
      ],
      "execution_count": 515,
      "outputs": []
    },
    {
      "cell_type": "code",
      "metadata": {
        "colab": {
          "base_uri": "https://localhost:8080/"
        },
        "id": "8t1p8KuvCnXh",
        "outputId": "f3e44fd3-b475-460c-ca89-e2b26c9f355e"
      },
      "source": [
        "# Create a Logistic Regression Object, perform Logistic Regression\n",
        "log_reg = LogisticRegression()\n",
        "log_reg.fit(x_train, y_train)"
      ],
      "execution_count": 516,
      "outputs": [
        {
          "output_type": "execute_result",
          "data": {
            "text/plain": [
              "LogisticRegression(C=1.0, class_weight=None, dual=False, fit_intercept=True,\n",
              "                   intercept_scaling=1, l1_ratio=None, max_iter=100,\n",
              "                   multi_class='auto', n_jobs=None, penalty='l2',\n",
              "                   random_state=None, solver='lbfgs', tol=0.0001, verbose=0,\n",
              "                   warm_start=False)"
            ]
          },
          "metadata": {},
          "execution_count": 516
        }
      ]
    },
    {
      "cell_type": "code",
      "metadata": {
        "id": "Xet78HTRCp-m"
      },
      "source": [
        "# Perform prediction using the test dataset\n",
        "y_pred = log_reg.predict(x_test)"
      ],
      "execution_count": 517,
      "outputs": []
    },
    {
      "cell_type": "code",
      "metadata": {
        "colab": {
          "base_uri": "https://localhost:8080/"
        },
        "id": "CF3jMFYeC267",
        "outputId": "75129015-f886-4dec-8cb1-c6a952129b21"
      },
      "source": [
        "# Show to Coeficient and Intercept\n",
        "print(log_reg.coef_)\n",
        "print(log_reg.intercept_)"
      ],
      "execution_count": 518,
      "outputs": [
        {
          "output_type": "stream",
          "name": "stdout",
          "text": [
            "[[-0.1119313   0.00544534 -0.11908434  1.95024794 -3.09050253  1.64511823\n",
            "  -0.15444238 -0.14349965  0.44362345  0.7913768   0.09720706 -0.11849826\n",
            "   0.43719503]]\n",
            "[-4.57712126]\n"
          ]
        }
      ]
    },
    {
      "cell_type": "code",
      "metadata": {
        "colab": {
          "base_uri": "https://localhost:8080/"
        },
        "id": "bu_FZBh1DBmE",
        "outputId": "6480ba9f-3edd-44cd-9a37-02a3e9fc0e81"
      },
      "source": [
        "# Show the Confusion Matrix\n",
        "confusion_matrix(y_test, y_pred)"
      ],
      "execution_count": 519,
      "outputs": [
        {
          "output_type": "execute_result",
          "data": {
            "text/plain": [
              "array([[245,   6],\n",
              "       [ 15,  39]])"
            ]
          },
          "metadata": {},
          "execution_count": 519
        }
      ]
    },
    {
      "cell_type": "code",
      "metadata": {
        "id": "oNg1LlEeDFds"
      },
      "source": [
        "# True positive: 8 (upper-left) – Number of positives we predicted correctly\n",
        "# True negative: 15(lower-right) – Number of negatives we predicted correctly\n",
        "# False positive: 2 (top-right) – Number of positives we predicted wrongly\n",
        "# False negative:  0(lower-left) – Number of negatives we predicted wrongly"
      ],
      "execution_count": 520,
      "outputs": []
    },
    {
      "cell_type": "markdown",
      "metadata": {
        "id": "D6RMx7lfRLZ5"
      },
      "source": [
        "5. Data Preprocessing\n",
        "\n",
        "* 5.1 Exploratory Data Analysis\n",
        "\n"
      ]
    },
    {
      "cell_type": "code",
      "metadata": {
        "colab": {
          "base_uri": "https://localhost:8080/"
        },
        "id": "3k8DQZHiVRDj",
        "outputId": "a8937fa3-8273-459e-fc33-cc5e5d13bfb2"
      },
      "source": [
        "# Training my model\n",
        "\n",
        "log_reg = LogisticRegression(random_state=10, solver = 'lbfgs')\n",
        "\n",
        "log_reg.fit(x_train, y_train)"
      ],
      "execution_count": 521,
      "outputs": [
        {
          "output_type": "execute_result",
          "data": {
            "text/plain": [
              "LogisticRegression(C=1.0, class_weight=None, dual=False, fit_intercept=True,\n",
              "                   intercept_scaling=1, l1_ratio=None, max_iter=100,\n",
              "                   multi_class='auto', n_jobs=None, penalty='l2',\n",
              "                   random_state=10, solver='lbfgs', tol=0.0001, verbose=0,\n",
              "                   warm_start=False)"
            ]
          },
          "metadata": {},
          "execution_count": 521
        }
      ]
    },
    {
      "cell_type": "code",
      "metadata": {
        "colab": {
          "base_uri": "https://localhost:8080/"
        },
        "id": "L_dVpfXz3ooc",
        "outputId": "24279371-c183-4cc9-b9ad-9340ce5ba6d7"
      },
      "source": [
        "# Methods we can use in Logistic\n",
        "\n",
        "# predict - Predict class labels for samples in X\n",
        "log_reg.predict(x_train)\n",
        "y_pred = log_reg.predict(x_train)\n",
        "\n",
        "# predict_proba - Probability estimates\n",
        "pred_proba = log_reg.predict_proba(x_train)\n",
        "\n",
        "# coef_ - Coefficient of the features in the decision function\n",
        "log_reg.coef_\n",
        "\n",
        "# score- Returns the mean accuracy on the given test data and labels - below"
      ],
      "execution_count": 522,
      "outputs": [
        {
          "output_type": "execute_result",
          "data": {
            "text/plain": [
              "array([[-0.1119313 ,  0.00544534, -0.11908434,  1.95024794, -3.09050253,\n",
              "         1.64511823, -0.15444238, -0.14349965,  0.44362345,  0.7913768 ,\n",
              "         0.09720706, -0.11849826,  0.43719503]])"
            ]
          },
          "metadata": {},
          "execution_count": 522
        }
      ]
    },
    {
      "cell_type": "code",
      "metadata": {
        "colab": {
          "base_uri": "https://localhost:8080/"
        },
        "id": "JJA0CEJJ3rQp",
        "outputId": "62bc0272-a90a-4635-9124-5bc1bba9f1c5"
      },
      "source": [
        "# Accuracy on Train\n",
        "print(\"The Training Accuracy is: \", log_reg.score(x_train, y_train))\n",
        "\n",
        "# Accuracy on Test\n",
        "print(\"The Testing Accuracy is: \", log_reg.score(x_test, y_test))\n",
        "\n",
        "\n",
        "# Classification Report\n",
        "print(classification_report(y_train, y_pred))"
      ],
      "execution_count": 523,
      "outputs": [
        {
          "output_type": "stream",
          "name": "stdout",
          "text": [
            "The Training Accuracy is:  0.9155701754385965\n",
            "The Testing Accuracy is:  0.9311475409836065\n",
            "              precision    recall  f1-score   support\n",
            "\n",
            "           0       0.93      0.97      0.95       766\n",
            "           1       0.79      0.64      0.71       146\n",
            "\n",
            "    accuracy                           0.92       912\n",
            "   macro avg       0.86      0.81      0.83       912\n",
            "weighted avg       0.91      0.92      0.91       912\n",
            "\n"
          ]
        }
      ]
    },
    {
      "cell_type": "code",
      "metadata": {
        "id": "TYZKjkeE3_-_"
      },
      "source": [
        "# Confusion Matrix function\n",
        "\n",
        "def plot_confusion_matrix(cm, classes=None, title='Confusion matrix'):\n",
        "    \"\"\"Plots a confusion matrix.\"\"\"\n",
        "    if classes is not None:\n",
        "        sns.heatmap(cm, cmap=\"YlGnBu\", xticklabels=classes, yticklabels=classes, vmin=0., vmax=1., annot=True, annot_kws={'size':50})\n",
        "    else:\n",
        "        sns.heatmap(cm, vmin=0., vmax=1.)\n",
        "    plt.title(title)\n",
        "    plt.ylabel('True label')\n",
        "    plt.xlabel('Predicted label')"
      ],
      "execution_count": 524,
      "outputs": []
    },
    {
      "cell_type": "code",
      "metadata": {
        "colab": {
          "base_uri": "https://localhost:8080/",
          "height": 295
        },
        "id": "qmvvLakX4CYf",
        "outputId": "702bc431-171c-451e-d8c7-e17b515fb659"
      },
      "source": [
        "# Visualizing cm\n",
        "\n",
        "cm = confusion_matrix(y_train, y_pred)\n",
        "cm_norm = cm / cm.sum(axis=1).reshape(-1,1)\n",
        "\n",
        "plot_confusion_matrix(cm_norm, classes = log_reg.classes_, title='Confusion matrix')"
      ],
      "execution_count": 525,
      "outputs": [
        {
          "output_type": "display_data",
          "data": {
            "image/png": "[encoded data removed]",
            "text/plain": [
              "<Figure size 432x288 with 2 Axes>"
            ]
          },
          "metadata": {
            "needs_background": "light"
          }
        }
      ]
    },
    {
      "cell_type": "code",
      "metadata": {
        "colab": {
          "base_uri": "https://localhost:8080/"
        },
        "id": "vjNRLxul6fy-",
        "outputId": "a25b9166-bef0-4ef8-fe21-b1fd28b0f534"
      },
      "source": [
        "df_lam = pd.DataFrame(test_r_squared*100, columns=['R_squared'])\n",
        "df_lam['lambda'] = (lambdas)\n",
        "# returns the index of the row where column has maximum value.\n",
        "df_lam.loc[df_lam['R_squared'].idxmax()]"
      ],
      "execution_count": 526,
      "outputs": [
        {
          "output_type": "execute_result",
          "data": {
            "text/plain": [
              "R_squared    32.864342\n",
              "lambda        0.050000\n",
              "Name: 0, dtype: float64"
            ]
          },
          "metadata": {},
          "execution_count": 526
        }
      ]
    },
    {
      "cell_type": "code",
      "metadata": {
        "colab": {
          "base_uri": "https://localhost:8080/"
        },
        "id": "-piGD2E86jvq",
        "outputId": "13b5181f-677f-43e2-d65d-17f1308a719d"
      },
      "source": [
        "# Best Model\n",
        "reg_best = Lasso(alpha = 0.144737)\n",
        "reg_best.fit(x_train, y_train)"
      ],
      "execution_count": 527,
      "outputs": [
        {
          "output_type": "execute_result",
          "data": {
            "text/plain": [
              "Lasso(alpha=0.144737, copy_X=True, fit_intercept=True, max_iter=1000,\n",
              "      normalize=False, positive=False, precompute=False, random_state=None,\n",
              "      selection='cyclic', tol=0.0001, warm_start=False)"
            ]
          },
          "metadata": {},
          "execution_count": 527
        }
      ]
    },
    {
      "cell_type": "code",
      "metadata": {
        "colab": {
          "base_uri": "https://localhost:8080/"
        },
        "id": "DUNobLfd6nRg",
        "outputId": "f352324d-2ad1-4224-de0a-a99551623279"
      },
      "source": [
        "from sklearn.metrics import mean_squared_error\n",
        "\n",
        "mean_squared_error(y_test, reg_best.predict(x_test))"
      ],
      "execution_count": 528,
      "outputs": [
        {
          "output_type": "execute_result",
          "data": {
            "text/plain": [
              "0.12032582864322522"
            ]
          },
          "metadata": {},
          "execution_count": 528
        }
      ]
    },
    {
      "cell_type": "code",
      "metadata": {
        "colab": {
          "base_uri": "https://localhost:8080/"
        },
        "id": "TdJUxwmn6qeK",
        "outputId": "83d6ea0d-0b9a-4f2c-d5b4-53d9403722bf"
      },
      "source": [
        "reg_best.coef_"
      ],
      "execution_count": 529,
      "outputs": [
        {
          "output_type": "execute_result",
          "data": {
            "text/plain": [
              "array([ 0.        ,  0.        , -0.        ,  0.07099064, -0.        ,\n",
              "        0.        , -0.        ,  0.        ,  0.        ,  0.        ,\n",
              "       -0.        , -0.        ,  0.        ])"
            ]
          },
          "metadata": {},
          "execution_count": 529
        }
      ]
    },
    {
      "cell_type": "code",
      "metadata": {
        "colab": {
          "base_uri": "https://localhost:8080/"
        },
        "id": "hkGxNtE9BfuG",
        "outputId": "f1742182-40b1-4f22-8956-2b53df562a21"
      },
      "source": [
        "reg_best = Lasso(alpha = 0.1)\n",
        "reg_best.fit(x_train, y_train)\n",
        "reg_best.coef_"
      ],
      "execution_count": 530,
      "outputs": [
        {
          "output_type": "execute_result",
          "data": {
            "text/plain": [
              "array([ 0.       ,  0.       , -0.       ,  0.1160288, -0.       ,\n",
              "        0.       , -0.       ,  0.       ,  0.       ,  0.       ,\n",
              "       -0.       , -0.       ,  0.       ])"
            ]
          },
          "metadata": {},
          "execution_count": 530
        }
      ]
    },
    {
      "cell_type": "code",
      "metadata": {
        "colab": {
          "base_uri": "https://localhost:8080/",
          "height": 644
        },
        "id": "qtvZt-kJ-dQQ",
        "outputId": "dbf6c995-343d-46a6-fab1-7c14fa123e43"
      },
      "source": [
        "LogR = LogisticRegression()\n",
        "LogR.fit(x,np.ravel(y.astype(int)))\n",
        "\n",
        "#matplotlib scatter funcion w/ logistic regression\n",
        "plt.scatter(x,LogR.predict_proba(x)[:,1])\n",
        "plt.xlabel(\"Predictors\")\n",
        "plt.ylabel(\"Probability of interesting for the study\")"
      ],
      "execution_count": 533,
      "outputs": [
        {
          "output_type": "error",
          "ename": "ValueError",
          "evalue": "ignored",
          "traceback": [
            "\u001b[0;31m---------------------------------------------------------------------------\u001b[0m",
            "\u001b[0;31mValueError\u001b[0m                                Traceback (most recent call last)",
            "\u001b[0;32m<ipython-input-533-80c2e29fc469>\u001b[0m in \u001b[0;36m<module>\u001b[0;34m()\u001b[0m\n\u001b[1;32m      3\u001b[0m \u001b[0;34m\u001b[0m\u001b[0m\n\u001b[1;32m      4\u001b[0m \u001b[0;31m#matplotlib scatter funcion w/ logistic regression\u001b[0m\u001b[0;34m\u001b[0m\u001b[0;34m\u001b[0m\u001b[0;34m\u001b[0m\u001b[0m\n\u001b[0;32m----> 5\u001b[0;31m \u001b[0mplt\u001b[0m\u001b[0;34m.\u001b[0m\u001b[0mscatter\u001b[0m\u001b[0;34m(\u001b[0m\u001b[0mx\u001b[0m\u001b[0;34m,\u001b[0m\u001b[0mLogR\u001b[0m\u001b[0;34m.\u001b[0m\u001b[0mpredict_proba\u001b[0m\u001b[0;34m(\u001b[0m\u001b[0mx\u001b[0m\u001b[0;34m)\u001b[0m\u001b[0;34m[\u001b[0m\u001b[0;34m:\u001b[0m\u001b[0;34m,\u001b[0m\u001b[0;36m1\u001b[0m\u001b[0;34m]\u001b[0m\u001b[0;34m)\u001b[0m\u001b[0;34m\u001b[0m\u001b[0;34m\u001b[0m\u001b[0m\n\u001b[0m\u001b[1;32m      6\u001b[0m \u001b[0mplt\u001b[0m\u001b[0;34m.\u001b[0m\u001b[0mxlabel\u001b[0m\u001b[0;34m(\u001b[0m\u001b[0;34m\"Predictors\"\u001b[0m\u001b[0;34m)\u001b[0m\u001b[0;34m\u001b[0m\u001b[0;34m\u001b[0m\u001b[0m\n\u001b[1;32m      7\u001b[0m \u001b[0mplt\u001b[0m\u001b[0;34m.\u001b[0m\u001b[0mylabel\u001b[0m\u001b[0;34m(\u001b[0m\u001b[0;34m\"Probability of interesting for the study\"\u001b[0m\u001b[0;34m)\u001b[0m\u001b[0;34m\u001b[0m\u001b[0;34m\u001b[0m\u001b[0m\n",
            "\u001b[0;32m/usr/local/lib/python3.7/dist-packages/matplotlib/pyplot.py\u001b[0m in \u001b[0;36mscatter\u001b[0;34m(x, y, s, c, marker, cmap, norm, vmin, vmax, alpha, linewidths, verts, edgecolors, plotnonfinite, data, **kwargs)\u001b[0m\n\u001b[1;32m   2814\u001b[0m         \u001b[0mverts\u001b[0m\u001b[0;34m=\u001b[0m\u001b[0mverts\u001b[0m\u001b[0;34m,\u001b[0m \u001b[0medgecolors\u001b[0m\u001b[0;34m=\u001b[0m\u001b[0medgecolors\u001b[0m\u001b[0;34m,\u001b[0m\u001b[0;34m\u001b[0m\u001b[0;34m\u001b[0m\u001b[0m\n\u001b[1;32m   2815\u001b[0m         plotnonfinite=plotnonfinite, **({\"data\": data} if data is not\n\u001b[0;32m-> 2816\u001b[0;31m         None else {}), **kwargs)\n\u001b[0m\u001b[1;32m   2817\u001b[0m     \u001b[0msci\u001b[0m\u001b[0;34m(\u001b[0m\u001b[0m__ret\u001b[0m\u001b[0;34m)\u001b[0m\u001b[0;34m\u001b[0m\u001b[0;34m\u001b[0m\u001b[0m\n\u001b[1;32m   2818\u001b[0m     \u001b[0;32mreturn\u001b[0m \u001b[0m__ret\u001b[0m\u001b[0;34m\u001b[0m\u001b[0;34m\u001b[0m\u001b[0m\n",
            "\u001b[0;32m/usr/local/lib/python3.7/dist-packages/matplotlib/__init__.py\u001b[0m in \u001b[0;36minner\u001b[0;34m(ax, data, *args, **kwargs)\u001b[0m\n\u001b[1;32m   1563\u001b[0m     \u001b[0;32mdef\u001b[0m \u001b[0minner\u001b[0m\u001b[0;34m(\u001b[0m\u001b[0max\u001b[0m\u001b[0;34m,\u001b[0m \u001b[0;34m*\u001b[0m\u001b[0margs\u001b[0m\u001b[0;34m,\u001b[0m \u001b[0mdata\u001b[0m\u001b[0;34m=\u001b[0m\u001b[0;32mNone\u001b[0m\u001b[0;34m,\u001b[0m \u001b[0;34m**\u001b[0m\u001b[0mkwargs\u001b[0m\u001b[0;34m)\u001b[0m\u001b[0;34m:\u001b[0m\u001b[0;34m\u001b[0m\u001b[0;34m\u001b[0m\u001b[0m\n\u001b[1;32m   1564\u001b[0m         \u001b[0;32mif\u001b[0m \u001b[0mdata\u001b[0m \u001b[0;32mis\u001b[0m \u001b[0;32mNone\u001b[0m\u001b[0;34m:\u001b[0m\u001b[0;34m\u001b[0m\u001b[0;34m\u001b[0m\u001b[0m\n\u001b[0;32m-> 1565\u001b[0;31m             \u001b[0;32mreturn\u001b[0m \u001b[0mfunc\u001b[0m\u001b[0;34m(\u001b[0m\u001b[0max\u001b[0m\u001b[0;34m,\u001b[0m \u001b[0;34m*\u001b[0m\u001b[0mmap\u001b[0m\u001b[0;34m(\u001b[0m\u001b[0msanitize_sequence\u001b[0m\u001b[0;34m,\u001b[0m \u001b[0margs\u001b[0m\u001b[0;34m)\u001b[0m\u001b[0;34m,\u001b[0m \u001b[0;34m**\u001b[0m\u001b[0mkwargs\u001b[0m\u001b[0;34m)\u001b[0m\u001b[0;34m\u001b[0m\u001b[0;34m\u001b[0m\u001b[0m\n\u001b[0m\u001b[1;32m   1566\u001b[0m \u001b[0;34m\u001b[0m\u001b[0m\n\u001b[1;32m   1567\u001b[0m         \u001b[0mbound\u001b[0m \u001b[0;34m=\u001b[0m \u001b[0mnew_sig\u001b[0m\u001b[0;34m.\u001b[0m\u001b[0mbind\u001b[0m\u001b[0;34m(\u001b[0m\u001b[0max\u001b[0m\u001b[0;34m,\u001b[0m \u001b[0;34m*\u001b[0m\u001b[0margs\u001b[0m\u001b[0;34m,\u001b[0m \u001b[0;34m**\u001b[0m\u001b[0mkwargs\u001b[0m\u001b[0;34m)\u001b[0m\u001b[0;34m\u001b[0m\u001b[0;34m\u001b[0m\u001b[0m\n",
            "\u001b[0;32m/usr/local/lib/python3.7/dist-packages/matplotlib/cbook/deprecation.py\u001b[0m in \u001b[0;36mwrapper\u001b[0;34m(*args, **kwargs)\u001b[0m\n\u001b[1;32m    356\u001b[0m                 \u001b[0;34mf\"%(removal)s.  If any parameter follows {name!r}, they \"\u001b[0m\u001b[0;34m\u001b[0m\u001b[0;34m\u001b[0m\u001b[0m\n\u001b[1;32m    357\u001b[0m                 f\"should be pass as keyword, not positionally.\")\n\u001b[0;32m--> 358\u001b[0;31m         \u001b[0;32mreturn\u001b[0m \u001b[0mfunc\u001b[0m\u001b[0;34m(\u001b[0m\u001b[0;34m*\u001b[0m\u001b[0margs\u001b[0m\u001b[0;34m,\u001b[0m \u001b[0;34m**\u001b[0m\u001b[0mkwargs\u001b[0m\u001b[0;34m)\u001b[0m\u001b[0;34m\u001b[0m\u001b[0;34m\u001b[0m\u001b[0m\n\u001b[0m\u001b[1;32m    359\u001b[0m \u001b[0;34m\u001b[0m\u001b[0m\n\u001b[1;32m    360\u001b[0m     \u001b[0;32mreturn\u001b[0m \u001b[0mwrapper\u001b[0m\u001b[0;34m\u001b[0m\u001b[0;34m\u001b[0m\u001b[0m\n",
            "\u001b[0;32m/usr/local/lib/python3.7/dist-packages/matplotlib/axes/_axes.py\u001b[0m in \u001b[0;36mscatter\u001b[0;34m(self, x, y, s, c, marker, cmap, norm, vmin, vmax, alpha, linewidths, verts, edgecolors, plotnonfinite, **kwargs)\u001b[0m\n\u001b[1;32m   4389\u001b[0m         \u001b[0my\u001b[0m \u001b[0;34m=\u001b[0m \u001b[0mnp\u001b[0m\u001b[0;34m.\u001b[0m\u001b[0mma\u001b[0m\u001b[0;34m.\u001b[0m\u001b[0mravel\u001b[0m\u001b[0;34m(\u001b[0m\u001b[0my\u001b[0m\u001b[0;34m)\u001b[0m\u001b[0;34m\u001b[0m\u001b[0;34m\u001b[0m\u001b[0m\n\u001b[1;32m   4390\u001b[0m         \u001b[0;32mif\u001b[0m \u001b[0mx\u001b[0m\u001b[0;34m.\u001b[0m\u001b[0msize\u001b[0m \u001b[0;34m!=\u001b[0m \u001b[0my\u001b[0m\u001b[0;34m.\u001b[0m\u001b[0msize\u001b[0m\u001b[0;34m:\u001b[0m\u001b[0;34m\u001b[0m\u001b[0;34m\u001b[0m\u001b[0m\n\u001b[0;32m-> 4391\u001b[0;31m             \u001b[0;32mraise\u001b[0m \u001b[0mValueError\u001b[0m\u001b[0;34m(\u001b[0m\u001b[0;34m\"x and y must be the same size\"\u001b[0m\u001b[0;34m)\u001b[0m\u001b[0;34m\u001b[0m\u001b[0;34m\u001b[0m\u001b[0m\n\u001b[0m\u001b[1;32m   4392\u001b[0m \u001b[0;34m\u001b[0m\u001b[0m\n\u001b[1;32m   4393\u001b[0m         \u001b[0;32mif\u001b[0m \u001b[0ms\u001b[0m \u001b[0;32mis\u001b[0m \u001b[0;32mNone\u001b[0m\u001b[0;34m:\u001b[0m\u001b[0;34m\u001b[0m\u001b[0;34m\u001b[0m\u001b[0m\n",
            "\u001b[0;31mValueError\u001b[0m: x and y must be the same size"
          ]
        },
        {
          "output_type": "display_data",
          "data": {
            "image/png": "[encoded data removed]",
            "text/plain": [
              "<Figure size 432x288 with 1 Axes>"
            ]
          },
          "metadata": {
            "needs_background": "light"
          }
        }
      ]
    },
    {
      "cell_type": "code",
      "metadata": {
        "colab": {
          "base_uri": "https://localhost:8080/"
        },
        "id": "fRnfa23AE8sc",
        "outputId": "31e685a7-3bfd-4de9-e843-4c22b2afa93f"
      },
      "source": [
        "clf_l1_LR = LogisticRegression(C = 1, penalty = 'l2')\n",
        "clf_l1_LR.fit(x, y)"
      ],
      "execution_count": 532,
      "outputs": [
        {
          "output_type": "execute_result",
          "data": {
            "text/plain": [
              "LogisticRegression(C=1, class_weight=None, dual=False, fit_intercept=True,\n",
              "                   intercept_scaling=1, l1_ratio=None, max_iter=100,\n",
              "                   multi_class='auto', n_jobs=None, penalty='l2',\n",
              "                   random_state=None, solver='lbfgs', tol=0.0001, verbose=0,\n",
              "                   warm_start=False)"
            ]
          },
          "metadata": {},
          "execution_count": 532
        }
      ]
    }
  ]
}