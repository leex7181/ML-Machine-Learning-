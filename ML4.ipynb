{
  "nbformat": 4,
  "nbformat_minor": 0,
  "metadata": {
    "colab": {
      "name": "Assignment 3.ipynb",
      "provenance": [],
      "collapsed_sections": []
    },
    "kernelspec": {
      "name": "python3",
      "display_name": "Python 3"
    },
    "language_info": {
      "name": "python"
    }
  },
  "cells": [
    {
      "cell_type": "code",
      "metadata": {
        "id": "EOnOXLnYzu7p"
      },
      "source": [
        "import numpy as np\n",
        "import pandas as pd\n",
        "import matplotlib.pyplot as plt\n",
        "%matplotlib inline\n",
        "plt.style.use('ggplot')\n",
        "import warnings; warnings.simplefilter('ignore')\n",
        "import seaborn as sns\n",
        "import matplotlib\n",
        "import matplotlib.pyplot as plt"
      ],
      "execution_count": 177,
      "outputs": []
    },
    {
      "cell_type": "code",
      "metadata": {
        "id": "7sBjKGvy0OWA"
      },
      "source": [
        "sns.set_style('darkgrid')\n",
        "matplotlib.rcParams['font.size'] = 14\n",
        "matplotlib.rcParams['figure.figsize'] = (10, 6)\n",
        "matplotlib.rcParams['figure.facecolor'] = '#00000000'"
      ],
      "execution_count": 178,
      "outputs": []
    },
    {
      "cell_type": "code",
      "metadata": {
        "id": "ityy1Rt7z7Yu"
      },
      "source": [
        "Patients_df = pd.read_csv('Patients.csv')"
      ],
      "execution_count": 179,
      "outputs": []
    },
    {
      "cell_type": "code",
      "metadata": {
        "colab": {
          "base_uri": "https://localhost:8080/"
        },
        "id": "3bdgZRhf1KzM",
        "outputId": "63803ec7-ef29-4f27-8609-a620e32e0ef2"
      },
      "source": [
        "from sklearn import preprocessing \n",
        "label = preprocessing.LabelEncoder() \n",
        " \n",
        "Patients_df['Gender']= label.fit_transform(Patients_df['Gender']) \n",
        "print(Patients_df['Gender'].unique())"
      ],
      "execution_count": 180,
      "outputs": [
        {
          "output_type": "stream",
          "name": "stdout",
          "text": [
            "[1 0]\n"
          ]
        }
      ]
    },
    {
      "cell_type": "code",
      "metadata": {
        "colab": {
          "base_uri": "https://localhost:8080/"
        },
        "id": "84HDC85TT1aJ",
        "outputId": "78f75b9e-d604-45ab-ba9a-87cbe8a6e806"
      },
      "source": [
        "label = preprocessing.LabelEncoder() \n",
        " \n",
        "Patients_df['Location']= label.fit_transform(Patients_df['Location']) \n",
        "print(Patients_df['Location'].unique())"
      ],
      "execution_count": 181,
      "outputs": [
        {
          "output_type": "stream",
          "name": "stdout",
          "text": [
            "[0 2 1]\n"
          ]
        }
      ]
    },
    {
      "cell_type": "code",
      "metadata": {
        "colab": {
          "base_uri": "https://localhost:8080/"
        },
        "id": "k8qhE5q4T56Z",
        "outputId": "d8241332-26d4-4328-f22a-c3c0f8457821"
      },
      "source": [
        "label = preprocessing.LabelEncoder() \n",
        " \n",
        "Patients_df['SelfAssessedHealthStatus']= label.fit_transform(Patients_df['SelfAssessedHealthStatus']) \n",
        "print(Patients_df['SelfAssessedHealthStatus'].unique())"
      ],
      "execution_count": 182,
      "outputs": [
        {
          "output_type": "stream",
          "name": "stdout",
          "text": [
            "[0 1 2 3]\n"
          ]
        }
      ]
    },
    {
      "cell_type": "code",
      "metadata": {
        "colab": {
          "base_uri": "https://localhost:8080/"
        },
        "id": "usGZaaK-Wp8c",
        "outputId": "7b03d5cc-a69b-4e04-ff2e-93faf27c0b82"
      },
      "source": [
        "from sklearn.preprocessing import OneHotEncoder\n",
        "Gender = ['Female', 'Male']\n",
        "Location = ['County General Hospital', 'VA Hospital', \"St. Mary's Medical Center\"]\n",
        "SelfAssessedHealthStatus = ['Fair', 'Good', 'Excellent','Poor']\n",
        "enc = preprocessing.OneHotEncoder(categories=[Gender,Location,SelfAssessedHealthStatus])\n",
        "X = [['Male', 'County General Hospital', 'Fair'], ['Female', 'VA Hospital', 'Good']]\n",
        "enc.fit(X)\n",
        "OneHotEncoder(categories=[['Female', 'Male'],\n",
        "                          ['County General Hospital', 'VA Hospital', \"St. Mary's Medical Center\"],\n",
        "                          ['Fair', 'Good', 'Excellent']])\n",
        "enc.transform([['Female', 'VA Hospital', 'Good']]).toarray()\n"
      ],
      "execution_count": 126,
      "outputs": [
        {
          "output_type": "execute_result",
          "data": {
            "text/plain": [
              "array([[1., 0., 0., 1., 0., 0., 1., 0., 0.]])"
            ]
          },
          "metadata": {},
          "execution_count": 126
        }
      ]
    },
    {
      "cell_type": "code",
      "metadata": {
        "id": "vrNFCSQKWrcd"
      },
      "source": [
        "del Patients_df['Diastolic']"
      ],
      "execution_count": 183,
      "outputs": []
    },
    {
      "cell_type": "code",
      "metadata": {
        "id": "bdv77SbrWv2d"
      },
      "source": [
        "del Patients_df['LastName']"
      ],
      "execution_count": 184,
      "outputs": []
    },
    {
      "cell_type": "code",
      "metadata": {
        "id": "g4QVajVY2trL"
      },
      "source": [
        "enc = preprocessing.OneHotEncoder()\n",
        "enc.fit(Patients_df[['Location']])\n",
        "enc.categories_\n",
        "one_hot = enc.transform(Patients_df[['Location']]).toarray()\n",
        "one_hot\n",
        "Patients_df[['County General Hospital', 'VA Hospital', \"St. Mary's Medical Center\"]] = one_hot"
      ],
      "execution_count": 129,
      "outputs": []
    },
    {
      "cell_type": "code",
      "metadata": {
        "id": "bbUBasZB3C8S"
      },
      "source": [
        "enc = preprocessing.OneHotEncoder()\n",
        "enc.fit(Patients_df[['SelfAssessedHealthStatus']])\n",
        "enc.categories_\n",
        "one_hot = enc.transform(Patients_df[['SelfAssessedHealthStatus']]).toarray()\n",
        "one_hot\n",
        "Patients_df[['Excellent', 'Fair', 'Good', 'Poor']] = one_hot"
      ],
      "execution_count": 130,
      "outputs": []
    },
    {
      "cell_type": "code",
      "metadata": {
        "colab": {
          "base_uri": "https://localhost:8080/",
          "height": 419
        },
        "id": "bbfQsEWmXQhV",
        "outputId": "58c85098-4fc6-4979-82c1-e5cb219c78e6"
      },
      "source": [
        "Patients_df"
      ],
      "execution_count": 185,
      "outputs": [
        {
          "output_type": "execute_result",
          "data": {
            "text/html": [
              "<div>\n",
              "<style scoped>\n",
              "    .dataframe tbody tr th:only-of-type {\n",
              "        vertical-align: middle;\n",
              "    }\n",
              "\n",
              "    .dataframe tbody tr th {\n",
              "        vertical-align: top;\n",
              "    }\n",
              "\n",
              "    .dataframe thead th {\n",
              "        text-align: right;\n",
              "    }\n",
              "</style>\n",
              "<table border=\"1\" class=\"dataframe\">\n",
              "  <thead>\n",
              "    <tr style=\"text-align: right;\">\n",
              "      <th></th>\n",
              "      <th>Age</th>\n",
              "      <th>Gender</th>\n",
              "      <th>Height</th>\n",
              "      <th>Location</th>\n",
              "      <th>SelfAssessedHealthStatus</th>\n",
              "      <th>Smoker</th>\n",
              "      <th>Systolic</th>\n",
              "      <th>Weight</th>\n",
              "    </tr>\n",
              "  </thead>\n",
              "  <tbody>\n",
              "    <tr>\n",
              "      <th>0</th>\n",
              "      <td>38</td>\n",
              "      <td>1</td>\n",
              "      <td>71</td>\n",
              "      <td>0</td>\n",
              "      <td>0</td>\n",
              "      <td>1</td>\n",
              "      <td>124</td>\n",
              "      <td>176</td>\n",
              "    </tr>\n",
              "    <tr>\n",
              "      <th>1</th>\n",
              "      <td>43</td>\n",
              "      <td>1</td>\n",
              "      <td>69</td>\n",
              "      <td>2</td>\n",
              "      <td>1</td>\n",
              "      <td>0</td>\n",
              "      <td>109</td>\n",
              "      <td>163</td>\n",
              "    </tr>\n",
              "    <tr>\n",
              "      <th>2</th>\n",
              "      <td>38</td>\n",
              "      <td>0</td>\n",
              "      <td>64</td>\n",
              "      <td>1</td>\n",
              "      <td>2</td>\n",
              "      <td>0</td>\n",
              "      <td>125</td>\n",
              "      <td>131</td>\n",
              "    </tr>\n",
              "    <tr>\n",
              "      <th>3</th>\n",
              "      <td>40</td>\n",
              "      <td>0</td>\n",
              "      <td>67</td>\n",
              "      <td>2</td>\n",
              "      <td>1</td>\n",
              "      <td>0</td>\n",
              "      <td>117</td>\n",
              "      <td>133</td>\n",
              "    </tr>\n",
              "    <tr>\n",
              "      <th>4</th>\n",
              "      <td>49</td>\n",
              "      <td>0</td>\n",
              "      <td>64</td>\n",
              "      <td>0</td>\n",
              "      <td>2</td>\n",
              "      <td>0</td>\n",
              "      <td>122</td>\n",
              "      <td>119</td>\n",
              "    </tr>\n",
              "    <tr>\n",
              "      <th>...</th>\n",
              "      <td>...</td>\n",
              "      <td>...</td>\n",
              "      <td>...</td>\n",
              "      <td>...</td>\n",
              "      <td>...</td>\n",
              "      <td>...</td>\n",
              "      <td>...</td>\n",
              "      <td>...</td>\n",
              "    </tr>\n",
              "    <tr>\n",
              "      <th>95</th>\n",
              "      <td>25</td>\n",
              "      <td>1</td>\n",
              "      <td>69</td>\n",
              "      <td>0</td>\n",
              "      <td>2</td>\n",
              "      <td>1</td>\n",
              "      <td>128</td>\n",
              "      <td>171</td>\n",
              "    </tr>\n",
              "    <tr>\n",
              "      <th>96</th>\n",
              "      <td>44</td>\n",
              "      <td>1</td>\n",
              "      <td>69</td>\n",
              "      <td>2</td>\n",
              "      <td>2</td>\n",
              "      <td>1</td>\n",
              "      <td>124</td>\n",
              "      <td>188</td>\n",
              "    </tr>\n",
              "    <tr>\n",
              "      <th>97</th>\n",
              "      <td>49</td>\n",
              "      <td>1</td>\n",
              "      <td>70</td>\n",
              "      <td>0</td>\n",
              "      <td>1</td>\n",
              "      <td>0</td>\n",
              "      <td>119</td>\n",
              "      <td>186</td>\n",
              "    </tr>\n",
              "    <tr>\n",
              "      <th>98</th>\n",
              "      <td>45</td>\n",
              "      <td>1</td>\n",
              "      <td>68</td>\n",
              "      <td>0</td>\n",
              "      <td>2</td>\n",
              "      <td>1</td>\n",
              "      <td>136</td>\n",
              "      <td>172</td>\n",
              "    </tr>\n",
              "    <tr>\n",
              "      <th>99</th>\n",
              "      <td>48</td>\n",
              "      <td>1</td>\n",
              "      <td>66</td>\n",
              "      <td>0</td>\n",
              "      <td>1</td>\n",
              "      <td>0</td>\n",
              "      <td>114</td>\n",
              "      <td>177</td>\n",
              "    </tr>\n",
              "  </tbody>\n",
              "</table>\n",
              "<p>100 rows × 8 columns</p>\n",
              "</div>"
            ],
            "text/plain": [
              "    Age  Gender  Height  ...  Smoker  Systolic  Weight\n",
              "0    38       1      71  ...       1       124     176\n",
              "1    43       1      69  ...       0       109     163\n",
              "2    38       0      64  ...       0       125     131\n",
              "3    40       0      67  ...       0       117     133\n",
              "4    49       0      64  ...       0       122     119\n",
              "..  ...     ...     ...  ...     ...       ...     ...\n",
              "95   25       1      69  ...       1       128     171\n",
              "96   44       1      69  ...       1       124     188\n",
              "97   49       1      70  ...       0       119     186\n",
              "98   45       1      68  ...       1       136     172\n",
              "99   48       1      66  ...       0       114     177\n",
              "\n",
              "[100 rows x 8 columns]"
            ]
          },
          "metadata": {},
          "execution_count": 185
        }
      ]
    },
    {
      "cell_type": "code",
      "metadata": {
        "id": "nv5NPThg3_Y7"
      },
      "source": [
        "# Create inputs and targets\n",
        "\n",
        "inputs, targets = Patients_df[['Age', 'Weight', 'Smoker','Gender', 'County General Hospital','VA Hospital',\"St. Mary's Medical Center\", 'Excellent','Good', 'Fair',\t'Poor' ]], Patients_df['Systolic']\n",
        "\n",
        "# Create and train the model\n",
        "model = LinearRegression().fit(inputs, targets)\n",
        "\n",
        "\n",
        "# Generate predictions\n",
        "predictions = model.predict(inputs)\n",
        "\n",
        "# Compute loss to evalute the model\n",
        "loss = rmse(targets, predictions)\n",
        "print('Loss:', loss)"
      ],
      "execution_count": null,
      "outputs": []
    },
    {
      "cell_type": "code",
      "metadata": {
        "id": "pzSdk-Gj4Hww"
      },
      "source": [
        "from sklearn.preprocessing import StandardScaler"
      ],
      "execution_count": 186,
      "outputs": []
    },
    {
      "cell_type": "code",
      "metadata": {
        "colab": {
          "base_uri": "https://localhost:8080/"
        },
        "id": "HB3-OA3q4Kzg",
        "outputId": "ba7a326c-2509-459b-8f01-8ba80bd04333"
      },
      "source": [
        "numeric_cols = ['Age', 'Weight', 'Height'] \n",
        "scaler = StandardScaler()\n",
        "scaler.fit(Patients_df[numeric_cols])\n",
        "scaled_inputs = scaler.transform(Patients_df[numeric_cols])\n",
        "scaled_inputs"
      ],
      "execution_count": 187,
      "outputs": [
        {
          "output_type": "execute_result",
          "data": {
            "text/plain": [
              "array([[-0.0390013 ,  0.83212833,  1.39250555],\n",
              "       [ 0.65745049,  0.34041613,  0.68385132],\n",
              "       [-0.0390013 , -0.86995234, -1.08778423],\n",
              "       [ 0.23957941, -0.79430431, -0.0248029 ],\n",
              "       [ 1.49319263, -1.32384052, -1.08778423],\n",
              "       [ 1.07532156, -0.45388818,  0.32952421],\n",
              "       [-0.73545309, -0.45388818, -1.08778423],\n",
              "       [ 0.23957941,  0.98342439,  0.32952421],\n",
              "       [-1.43190487,  1.09689643,  0.32952421],\n",
              "       [-1.0140338 , -0.83212833, -0.37913001],\n",
              "       [ 0.9360312 , -0.98342439,  0.32952421],\n",
              "       [ 0.51816013, -0.64300825, -0.37913001],\n",
              "       [-1.84977594,  0.7564803 ,  1.39250555],\n",
              "       [ 0.10028906,  1.81555271,  1.74683266],\n",
              "       [-0.31758201, -0.94560037, -0.73345712],\n",
              "       [ 1.35390227,  1.0212484 ,  1.39250555],\n",
              "       [-0.87474344,  1.39948855,  0.68385132],\n",
              "       [-1.57119523, -0.86995234,  0.68385132],\n",
              "       [-0.17829166,  0.94560037,  1.03817844],\n",
              "       [ 1.63248299,  0.68083227,  0.32952421],\n",
              "       [ 1.35390227, -0.79430431, -0.73345712],\n",
              "       [ 0.10028906, -1.39948855, -1.08778423],\n",
              "       [ 0.37886977, -0.64300825, -1.79643845],\n",
              "       [ 0.79674084, -0.30259212, -0.37913001],\n",
              "       [-1.43190487, -1.17254446, -0.73345712],\n",
              "       [-1.84977594,  1.32384052,  1.03817844],\n",
              "       [ 0.10028906, -0.41606416, -1.44211134],\n",
              "       [-1.84977594, -1.51296059, -1.44211134],\n",
              "       [-0.31758201,  0.45388818,  0.32952421],\n",
              "       [-1.15332416,  1.21036847, -0.0248029 ],\n",
              "       [ 0.9360312 , -1.05907242,  1.03817844],\n",
              "       [ 0.23957941, -0.64300825, -0.37913001],\n",
              "       [-1.84977594, -0.60518424, -1.08778423],\n",
              "       [ 1.21461191,  1.24819249,  1.03817844],\n",
              "       [ 0.79674084,  1.47513658,  1.39250555],\n",
              "       [ 1.35390227, -0.64300825, -0.37913001],\n",
              "       [ 0.79674084,  1.43731256,  1.39250555],\n",
              "       [-0.45687237, -1.36166453, -0.37913001],\n",
              "       [-0.73545309,  0.98342439, -0.37913001],\n",
              "       [-0.0390013 , -0.98342439, -1.44211134],\n",
              "       [ 0.10028906,  0.37824015,  1.39250555],\n",
              "       [ 0.79674084,  1.09689643,  0.68385132],\n",
              "       [ 0.79674084,  0.56736022,  1.03817844],\n",
              "       [-0.17829166,  1.51296059,  1.03817844],\n",
              "       [ 0.9360312 ,  0.68083227, -0.0248029 ],\n",
              "       [-0.17829166, -0.71865628, -0.73345712],\n",
              "       [-1.15332416,  1.05907242,  0.32952421],\n",
              "       [ 0.10028906, -1.24819249, -1.79643845],\n",
              "       [ 0.51816013,  0.15129606,  1.03817844],\n",
              "       [ 0.51816013,  0.94560037, -0.0248029 ],\n",
              "       [ 1.49319263,  0.60518424,  0.32952421],\n",
              "       [ 0.79674084, -0.68083227, -1.79643845],\n",
              "       [ 0.65745049, -0.71865628, -1.08778423],\n",
              "       [ 1.21461191, -0.2647681 , -0.37913001],\n",
              "       [ 1.63248299,  1.21036847,  1.74683266],\n",
              "       [-0.0390013 , -1.13472045, -1.44211134],\n",
              "       [ 0.37886977, -0.7564803 , -0.37913001],\n",
              "       [ 0.9360312 ,  0.60518424,  1.03817844],\n",
              "       [-0.31758201,  0.98342439,  1.39250555],\n",
              "       [-0.0390013 , -0.90777636,  0.32952421],\n",
              "       [-1.29261451, -0.90777636, -1.44211134],\n",
              "       [-1.43190487, -1.0212484 , -0.73345712],\n",
              "       [-1.15332416, -0.49171219, -0.0248029 ],\n",
              "       [-1.43190487, -1.62643264, -0.37913001],\n",
              "       [-1.29261451, -0.7564803 ,  0.32952421],\n",
              "       [-0.31758201,  1.32384052,  1.39250555],\n",
              "       [ 0.9360312 , -0.64300825,  1.03817844],\n",
              "       [-0.87474344, -0.68083227, -2.50509268],\n",
              "       [-1.0140338 , -0.90777636, -1.08778423],\n",
              "       [ 1.35390227, -0.64300825, -1.08778423],\n",
              "       [-1.84977594,  1.21036847, -0.37913001],\n",
              "       [ 0.23957941, -1.0212484 , -1.08778423],\n",
              "       [ 0.10028906,  0.83212833,  1.74683266],\n",
              "       [ 0.37886977, -1.0212484 , -0.73345712],\n",
              "       [-0.73545309, -1.47513658, -0.0248029 ],\n",
              "       [-1.0140338 ,  0.90777636,  1.74683266],\n",
              "       [-0.45687237, -0.86995234, -1.08778423],\n",
              "       [-0.87474344,  1.09689643,  0.32952421],\n",
              "       [ 0.51816013,  1.51296059, -0.37913001],\n",
              "       [ 1.35390227, -1.05907242, -1.08778423],\n",
              "       [-0.59616273,  1.21036847,  0.32952421],\n",
              "       [ 0.10028906,  1.2860165 ,  0.68385132],\n",
              "       [-1.43190487,  1.32384052,  0.68385132],\n",
              "       [-1.29261451, -1.2860165 , -1.08778423],\n",
              "       [-0.87474344, -0.83212833, -1.44211134],\n",
              "       [ 0.10028906,  1.05907242,  0.32952421],\n",
              "       [-0.17829166, -1.2860165 , -0.73345712],\n",
              "       [ 1.49319263, -1.17254446, -1.44211134],\n",
              "       [-1.0140338 , -0.49171219, -0.37913001],\n",
              "       [-0.17829166, -0.94560037, -0.73345712],\n",
              "       [-0.0390013 ,  1.13472045,  0.32952421],\n",
              "       [ 0.9360312 ,  1.0212484 ,  1.39250555],\n",
              "       [-1.15332416, -1.13472045,  1.03817844],\n",
              "       [ 1.35390227,  0.7564803 ,  1.39250555],\n",
              "       [ 1.35390227, -0.7564803 , -0.37913001],\n",
              "       [-1.84977594,  0.64300825,  0.68385132],\n",
              "       [ 0.79674084,  1.2860165 ,  0.68385132],\n",
              "       [ 1.49319263,  1.21036847,  1.03817844],\n",
              "       [ 0.9360312 ,  0.68083227,  0.32952421],\n",
              "       [ 1.35390227,  0.86995234, -0.37913001]])"
            ]
          },
          "metadata": {},
          "execution_count": 187
        }
      ]
    },
    {
      "cell_type": "code",
      "metadata": {
        "id": "WdkRafAuXHI1"
      },
      "source": [
        "cat_cols = ['Gender','Smoker','County General Hospital','VA Hospital',\"St. Mary's Medical Center\", 'Excellent','Good', 'Fair',\t'Poor']\n",
        "categorical_data = Patients_df[cat_cols].values"
      ],
      "execution_count": 104,
      "outputs": []
    },
    {
      "cell_type": "code",
      "metadata": {
        "colab": {
          "base_uri": "https://localhost:8080/",
          "height": 232
        },
        "id": "SRSOQvr84YdV",
        "outputId": "f19f700a-1268-44be-d69e-877d18f98dd0"
      },
      "source": [
        "inputs = np.concatenate((scaled_inputs, categorical_data), axis=1)\n",
        "targets = Patients_df.Systolic\n",
        "\n",
        "# Create and train the model\n",
        "model = LinearRegression().fit(inputs, targets)\n",
        "\n",
        "# Generate predictions\n",
        "predictions = model.predict(inputs)\n",
        "\n",
        "# Compute loss to evalute the model\n",
        "loss = rmse(targets, predictions)\n",
        "print('Loss:', loss)"
      ],
      "execution_count": 99,
      "outputs": [
        {
          "output_type": "error",
          "ename": "NameError",
          "evalue": "ignored",
          "traceback": [
            "\u001b[0;31m---------------------------------------------------------------------------\u001b[0m",
            "\u001b[0;31mNameError\u001b[0m                                 Traceback (most recent call last)",
            "\u001b[0;32m<ipython-input-99-3f26be856982>\u001b[0m in \u001b[0;36m<module>\u001b[0;34m()\u001b[0m\n\u001b[1;32m      3\u001b[0m \u001b[0;34m\u001b[0m\u001b[0m\n\u001b[1;32m      4\u001b[0m \u001b[0;31m# Create and train the model\u001b[0m\u001b[0;34m\u001b[0m\u001b[0;34m\u001b[0m\u001b[0;34m\u001b[0m\u001b[0m\n\u001b[0;32m----> 5\u001b[0;31m \u001b[0mmodel\u001b[0m \u001b[0;34m=\u001b[0m \u001b[0mLinearRegression\u001b[0m\u001b[0;34m(\u001b[0m\u001b[0;34m)\u001b[0m\u001b[0;34m.\u001b[0m\u001b[0mfit\u001b[0m\u001b[0;34m(\u001b[0m\u001b[0minputs\u001b[0m\u001b[0;34m,\u001b[0m \u001b[0mtargets\u001b[0m\u001b[0;34m)\u001b[0m\u001b[0;34m\u001b[0m\u001b[0;34m\u001b[0m\u001b[0m\n\u001b[0m\u001b[1;32m      6\u001b[0m \u001b[0;34m\u001b[0m\u001b[0m\n\u001b[1;32m      7\u001b[0m \u001b[0;31m# Generate predictions\u001b[0m\u001b[0;34m\u001b[0m\u001b[0;34m\u001b[0m\u001b[0;34m\u001b[0m\u001b[0m\n",
            "\u001b[0;31mNameError\u001b[0m: name 'LinearRegression' is not defined"
          ]
        }
      ]
    },
    {
      "cell_type": "code",
      "metadata": {
        "id": "fH3NeG3Y4kLc"
      },
      "source": [
        "from sklearn.model_selection import train_test_split"
      ],
      "execution_count": 188,
      "outputs": []
    },
    {
      "cell_type": "code",
      "metadata": {
        "id": "QkAS9WGJ4mZn"
      },
      "source": [
        "inputs_train, inputs_test, targets_train, targets_test = train_test_split(inputs, targets, test_size=0.1)\n"
      ],
      "execution_count": 189,
      "outputs": []
    },
    {
      "cell_type": "code",
      "metadata": {
        "id": "_w9QB3cl4pi9"
      },
      "source": [
        "# Create and train the model\n",
        "model = LinearRegression().fit(inputs_train, targets_train)\n",
        "\n",
        "# Generate predictions\n",
        "predictions_test = model.predict(inputs_test)\n",
        "\n",
        "# Compute loss to evalute the model\n",
        "loss = rmse(targets_test, predictions_test)\n",
        "print('Test Loss:', loss)"
      ],
      "execution_count": null,
      "outputs": []
    },
    {
      "cell_type": "code",
      "metadata": {
        "id": "VVvEhImq4sM7"
      },
      "source": [
        "# Generate predictions\n",
        "predictions_train = model.predict(inputs_train)\n",
        "\n",
        "# Compute loss to evalute the model\n",
        "loss = rmse(targets_train, predictions_train)\n",
        "print('Training Loss:', loss)"
      ],
      "execution_count": null,
      "outputs": []
    },
    {
      "cell_type": "code",
      "metadata": {
        "colab": {
          "base_uri": "https://localhost:8080/",
          "height": 419
        },
        "id": "0dqZalkZLI4J",
        "outputId": "bff355d1-3808-4b7c-c51a-133a17d656cb"
      },
      "source": [
        "Patients_df"
      ],
      "execution_count": 190,
      "outputs": [
        {
          "output_type": "execute_result",
          "data": {
            "text/html": [
              "<div>\n",
              "<style scoped>\n",
              "    .dataframe tbody tr th:only-of-type {\n",
              "        vertical-align: middle;\n",
              "    }\n",
              "\n",
              "    .dataframe tbody tr th {\n",
              "        vertical-align: top;\n",
              "    }\n",
              "\n",
              "    .dataframe thead th {\n",
              "        text-align: right;\n",
              "    }\n",
              "</style>\n",
              "<table border=\"1\" class=\"dataframe\">\n",
              "  <thead>\n",
              "    <tr style=\"text-align: right;\">\n",
              "      <th></th>\n",
              "      <th>Age</th>\n",
              "      <th>Gender</th>\n",
              "      <th>Height</th>\n",
              "      <th>Location</th>\n",
              "      <th>SelfAssessedHealthStatus</th>\n",
              "      <th>Smoker</th>\n",
              "      <th>Systolic</th>\n",
              "      <th>Weight</th>\n",
              "    </tr>\n",
              "  </thead>\n",
              "  <tbody>\n",
              "    <tr>\n",
              "      <th>0</th>\n",
              "      <td>38</td>\n",
              "      <td>1</td>\n",
              "      <td>71</td>\n",
              "      <td>0</td>\n",
              "      <td>0</td>\n",
              "      <td>1</td>\n",
              "      <td>124</td>\n",
              "      <td>176</td>\n",
              "    </tr>\n",
              "    <tr>\n",
              "      <th>1</th>\n",
              "      <td>43</td>\n",
              "      <td>1</td>\n",
              "      <td>69</td>\n",
              "      <td>2</td>\n",
              "      <td>1</td>\n",
              "      <td>0</td>\n",
              "      <td>109</td>\n",
              "      <td>163</td>\n",
              "    </tr>\n",
              "    <tr>\n",
              "      <th>2</th>\n",
              "      <td>38</td>\n",
              "      <td>0</td>\n",
              "      <td>64</td>\n",
              "      <td>1</td>\n",
              "      <td>2</td>\n",
              "      <td>0</td>\n",
              "      <td>125</td>\n",
              "      <td>131</td>\n",
              "    </tr>\n",
              "    <tr>\n",
              "      <th>3</th>\n",
              "      <td>40</td>\n",
              "      <td>0</td>\n",
              "      <td>67</td>\n",
              "      <td>2</td>\n",
              "      <td>1</td>\n",
              "      <td>0</td>\n",
              "      <td>117</td>\n",
              "      <td>133</td>\n",
              "    </tr>\n",
              "    <tr>\n",
              "      <th>4</th>\n",
              "      <td>49</td>\n",
              "      <td>0</td>\n",
              "      <td>64</td>\n",
              "      <td>0</td>\n",
              "      <td>2</td>\n",
              "      <td>0</td>\n",
              "      <td>122</td>\n",
              "      <td>119</td>\n",
              "    </tr>\n",
              "    <tr>\n",
              "      <th>...</th>\n",
              "      <td>...</td>\n",
              "      <td>...</td>\n",
              "      <td>...</td>\n",
              "      <td>...</td>\n",
              "      <td>...</td>\n",
              "      <td>...</td>\n",
              "      <td>...</td>\n",
              "      <td>...</td>\n",
              "    </tr>\n",
              "    <tr>\n",
              "      <th>95</th>\n",
              "      <td>25</td>\n",
              "      <td>1</td>\n",
              "      <td>69</td>\n",
              "      <td>0</td>\n",
              "      <td>2</td>\n",
              "      <td>1</td>\n",
              "      <td>128</td>\n",
              "      <td>171</td>\n",
              "    </tr>\n",
              "    <tr>\n",
              "      <th>96</th>\n",
              "      <td>44</td>\n",
              "      <td>1</td>\n",
              "      <td>69</td>\n",
              "      <td>2</td>\n",
              "      <td>2</td>\n",
              "      <td>1</td>\n",
              "      <td>124</td>\n",
              "      <td>188</td>\n",
              "    </tr>\n",
              "    <tr>\n",
              "      <th>97</th>\n",
              "      <td>49</td>\n",
              "      <td>1</td>\n",
              "      <td>70</td>\n",
              "      <td>0</td>\n",
              "      <td>1</td>\n",
              "      <td>0</td>\n",
              "      <td>119</td>\n",
              "      <td>186</td>\n",
              "    </tr>\n",
              "    <tr>\n",
              "      <th>98</th>\n",
              "      <td>45</td>\n",
              "      <td>1</td>\n",
              "      <td>68</td>\n",
              "      <td>0</td>\n",
              "      <td>2</td>\n",
              "      <td>1</td>\n",
              "      <td>136</td>\n",
              "      <td>172</td>\n",
              "    </tr>\n",
              "    <tr>\n",
              "      <th>99</th>\n",
              "      <td>48</td>\n",
              "      <td>1</td>\n",
              "      <td>66</td>\n",
              "      <td>0</td>\n",
              "      <td>1</td>\n",
              "      <td>0</td>\n",
              "      <td>114</td>\n",
              "      <td>177</td>\n",
              "    </tr>\n",
              "  </tbody>\n",
              "</table>\n",
              "<p>100 rows × 8 columns</p>\n",
              "</div>"
            ],
            "text/plain": [
              "    Age  Gender  Height  ...  Smoker  Systolic  Weight\n",
              "0    38       1      71  ...       1       124     176\n",
              "1    43       1      69  ...       0       109     163\n",
              "2    38       0      64  ...       0       125     131\n",
              "3    40       0      67  ...       0       117     133\n",
              "4    49       0      64  ...       0       122     119\n",
              "..  ...     ...     ...  ...     ...       ...     ...\n",
              "95   25       1      69  ...       1       128     171\n",
              "96   44       1      69  ...       1       124     188\n",
              "97   49       1      70  ...       0       119     186\n",
              "98   45       1      68  ...       1       136     172\n",
              "99   48       1      66  ...       0       114     177\n",
              "\n",
              "[100 rows x 8 columns]"
            ]
          },
          "metadata": {},
          "execution_count": 190
        }
      ]
    },
    {
      "cell_type": "code",
      "metadata": {
        "colab": {
          "base_uri": "https://localhost:8080/"
        },
        "id": "OS8T6so9YsUC",
        "outputId": "fc4eda38-67fa-49f7-80fc-69288f9c9095"
      },
      "source": [
        "Patients_df.info()"
      ],
      "execution_count": 132,
      "outputs": [
        {
          "output_type": "stream",
          "name": "stdout",
          "text": [
            "<class 'pandas.core.frame.DataFrame'>\n",
            "RangeIndex: 100 entries, 0 to 99\n",
            "Data columns (total 15 columns):\n",
            " #   Column                     Non-Null Count  Dtype  \n",
            "---  ------                     --------------  -----  \n",
            " 0   Age                        100 non-null    int64  \n",
            " 1   Gender                     100 non-null    int64  \n",
            " 2   Height                     100 non-null    int64  \n",
            " 3   Location                   100 non-null    int64  \n",
            " 4   SelfAssessedHealthStatus   100 non-null    int64  \n",
            " 5   Smoker                     100 non-null    int64  \n",
            " 6   Systolic                   100 non-null    int64  \n",
            " 7   Weight                     100 non-null    int64  \n",
            " 8   County General Hospital    100 non-null    float64\n",
            " 9   VA Hospital                100 non-null    float64\n",
            " 10  St. Mary's Medical Center  100 non-null    float64\n",
            " 11  Excellent                  100 non-null    float64\n",
            " 12  Fair                       100 non-null    float64\n",
            " 13  Good                       100 non-null    float64\n",
            " 14  Poor                       100 non-null    float64\n",
            "dtypes: float64(7), int64(8)\n",
            "memory usage: 11.8 KB\n"
          ]
        }
      ]
    },
    {
      "cell_type": "code",
      "metadata": {
        "colab": {
          "base_uri": "https://localhost:8080/"
        },
        "id": "a2P9EztSZpjW",
        "outputId": "dce36fac-1cce-4709-b9e2-99887cd83eb8"
      },
      "source": [
        "data = {'Location' : ['County General Hospital', 'VA Hospital', \"St. Mary's Medical Center\"]\n",
        "        }\n",
        "df = pd.DataFrame(data,columns=['Location'])\n",
        "\n",
        "print(df)\n",
        "print(df.dtypes)"
      ],
      "execution_count": 135,
      "outputs": [
        {
          "output_type": "stream",
          "name": "stdout",
          "text": [
            "                    Location\n",
            "0    County General Hospital\n",
            "1                VA Hospital\n",
            "2  St. Mary's Medical Center\n",
            "Location    object\n",
            "dtype: object\n"
          ]
        }
      ]
    },
    {
      "cell_type": "code",
      "metadata": {
        "id": "66EQdffZaSSO"
      },
      "source": [
        "'SelfAssessedHealthStatus' : ['Fair', 'Good', 'Excellent','Poor']"
      ],
      "execution_count": null,
      "outputs": []
    },
    {
      "cell_type": "code",
      "metadata": {
        "id": "QMFKWAYYbExP"
      },
      "source": [
        "from sklearn.preprocessing import StandardScaler\n",
        "\n",
        "scaler = StandardScaler()\n",
        "Patients_df[['Age', 'Height',\n",
        "     'Weight']] = scaler.fit_transform(Patients_df[['Age','Height',\n",
        "      'Weight']])"
      ],
      "execution_count": 191,
      "outputs": []
    },
    {
      "cell_type": "code",
      "metadata": {
        "colab": {
          "base_uri": "https://localhost:8080/",
          "height": 204
        },
        "id": "Jw_jZwRfbj8G",
        "outputId": "b5b2f973-07f1-409d-a130-05d4efba5694"
      },
      "source": [
        "Patients_df.head(5)\n"
      ],
      "execution_count": 192,
      "outputs": [
        {
          "output_type": "execute_result",
          "data": {
            "text/html": [
              "<div>\n",
              "<style scoped>\n",
              "    .dataframe tbody tr th:only-of-type {\n",
              "        vertical-align: middle;\n",
              "    }\n",
              "\n",
              "    .dataframe tbody tr th {\n",
              "        vertical-align: top;\n",
              "    }\n",
              "\n",
              "    .dataframe thead th {\n",
              "        text-align: right;\n",
              "    }\n",
              "</style>\n",
              "<table border=\"1\" class=\"dataframe\">\n",
              "  <thead>\n",
              "    <tr style=\"text-align: right;\">\n",
              "      <th></th>\n",
              "      <th>Age</th>\n",
              "      <th>Gender</th>\n",
              "      <th>Height</th>\n",
              "      <th>Location</th>\n",
              "      <th>SelfAssessedHealthStatus</th>\n",
              "      <th>Smoker</th>\n",
              "      <th>Systolic</th>\n",
              "      <th>Weight</th>\n",
              "    </tr>\n",
              "  </thead>\n",
              "  <tbody>\n",
              "    <tr>\n",
              "      <th>0</th>\n",
              "      <td>-0.039001</td>\n",
              "      <td>1</td>\n",
              "      <td>1.392506</td>\n",
              "      <td>0</td>\n",
              "      <td>0</td>\n",
              "      <td>1</td>\n",
              "      <td>124</td>\n",
              "      <td>0.832128</td>\n",
              "    </tr>\n",
              "    <tr>\n",
              "      <th>1</th>\n",
              "      <td>0.657450</td>\n",
              "      <td>1</td>\n",
              "      <td>0.683851</td>\n",
              "      <td>2</td>\n",
              "      <td>1</td>\n",
              "      <td>0</td>\n",
              "      <td>109</td>\n",
              "      <td>0.340416</td>\n",
              "    </tr>\n",
              "    <tr>\n",
              "      <th>2</th>\n",
              "      <td>-0.039001</td>\n",
              "      <td>0</td>\n",
              "      <td>-1.087784</td>\n",
              "      <td>1</td>\n",
              "      <td>2</td>\n",
              "      <td>0</td>\n",
              "      <td>125</td>\n",
              "      <td>-0.869952</td>\n",
              "    </tr>\n",
              "    <tr>\n",
              "      <th>3</th>\n",
              "      <td>0.239579</td>\n",
              "      <td>0</td>\n",
              "      <td>-0.024803</td>\n",
              "      <td>2</td>\n",
              "      <td>1</td>\n",
              "      <td>0</td>\n",
              "      <td>117</td>\n",
              "      <td>-0.794304</td>\n",
              "    </tr>\n",
              "    <tr>\n",
              "      <th>4</th>\n",
              "      <td>1.493193</td>\n",
              "      <td>0</td>\n",
              "      <td>-1.087784</td>\n",
              "      <td>0</td>\n",
              "      <td>2</td>\n",
              "      <td>0</td>\n",
              "      <td>122</td>\n",
              "      <td>-1.323841</td>\n",
              "    </tr>\n",
              "  </tbody>\n",
              "</table>\n",
              "</div>"
            ],
            "text/plain": [
              "        Age  Gender    Height  ...  Smoker  Systolic    Weight\n",
              "0 -0.039001       1  1.392506  ...       1       124  0.832128\n",
              "1  0.657450       1  0.683851  ...       0       109  0.340416\n",
              "2 -0.039001       0 -1.087784  ...       0       125 -0.869952\n",
              "3  0.239579       0 -0.024803  ...       0       117 -0.794304\n",
              "4  1.493193       0 -1.087784  ...       0       122 -1.323841\n",
              "\n",
              "[5 rows x 8 columns]"
            ]
          },
          "metadata": {},
          "execution_count": 192
        }
      ]
    },
    {
      "cell_type": "code",
      "metadata": {
        "id": "OHGf04qobplU"
      },
      "source": [
        "X = Patients_df.drop(['Systolic'], axis=1)\n",
        "y = Patients_df['Systolic']"
      ],
      "execution_count": 193,
      "outputs": []
    },
    {
      "cell_type": "code",
      "metadata": {
        "id": "3Nhebh8LbzQw"
      },
      "source": [
        "from sklearn.model_selection import train_test_split\n"
      ],
      "execution_count": 194,
      "outputs": []
    },
    {
      "cell_type": "code",
      "metadata": {
        "id": "ud5WSxEtb0dv"
      },
      "source": [
        "X_train, X_test, y_train, y_test = train_test_split(X, y, test_size=0.25, random_state=10)\n"
      ],
      "execution_count": 195,
      "outputs": []
    },
    {
      "cell_type": "code",
      "metadata": {
        "colab": {
          "base_uri": "https://localhost:8080/"
        },
        "id": "KYT9ijV2b2xR",
        "outputId": "3303975e-1c84-4c8f-90e4-0ed41446b8e0"
      },
      "source": [
        "from sklearn.linear_model import Lasso\n",
        "\n",
        "reg = Lasso(alpha=0.5)\n",
        "reg.fit(X_train, y_train)"
      ],
      "execution_count": 196,
      "outputs": [
        {
          "output_type": "execute_result",
          "data": {
            "text/plain": [
              "Lasso(alpha=0.5, copy_X=True, fit_intercept=True, max_iter=1000,\n",
              "      normalize=False, positive=False, precompute=False, random_state=None,\n",
              "      selection='cyclic', tol=0.0001, warm_start=False)"
            ]
          },
          "metadata": {},
          "execution_count": 196
        }
      ]
    },
    {
      "cell_type": "code",
      "metadata": {
        "colab": {
          "base_uri": "https://localhost:8080/"
        },
        "id": "vUvNurUcb4ep",
        "outputId": "5c67dcb8-d680-4aea-c51b-06f03a954eb0"
      },
      "source": [
        "print('Lasso Regression: R^2 score on training set', reg.score(X_train, y_train)*100)\n",
        "print('Lasso Regression: R^2 score on test set', reg.score(X_test, y_test)*100)"
      ],
      "execution_count": 197,
      "outputs": [
        {
          "output_type": "stream",
          "name": "stdout",
          "text": [
            "Lasso Regression: R^2 score on training set 51.40426808603669\n",
            "Lasso Regression: R^2 score on test set 35.038955672806814\n"
          ]
        }
      ]
    },
    {
      "cell_type": "code",
      "metadata": {
        "id": "J9rqH1J8b6f-"
      },
      "source": [
        "lambdas = (0.001, 0.01, 0.1, 0.5, 1, 2, 10)\n",
        "l_num = 7\n",
        "pred_num = X.shape[1]\n",
        "\n",
        "# prepare data for enumerate\n",
        "coeff_a = np.zeros((l_num, pred_num))\n",
        "train_r_squared = np.zeros(l_num)\n",
        "test_r_squared = np.zeros(l_num)"
      ],
      "execution_count": 198,
      "outputs": []
    },
    {
      "cell_type": "code",
      "metadata": {
        "id": "7qq2Isuwb-s-"
      },
      "source": [
        "for ind, i in enumerate(lambdas):    \n",
        "    reg = Lasso(alpha = i)\n",
        "    reg.fit(X_train, y_train)\n",
        "\n",
        "    coeff_a[ind,:] = reg.coef_\n",
        "    train_r_squared[ind] = reg.score(X_train, y_train)\n",
        "    test_r_squared[ind] = reg.score(X_test, y_test)"
      ],
      "execution_count": 199,
      "outputs": []
    },
    {
      "cell_type": "code",
      "metadata": {
        "colab": {
          "base_uri": "https://localhost:8080/",
          "height": 530
        },
        "id": "HYzCXQKCcAyq",
        "outputId": "63a1c283-2de0-4487-e48a-b35ed11c7ccd"
      },
      "source": [
        "plt.figure(figsize=(18, 8))\n",
        "plt.plot(train_r_squared, 'bo-', label=r'$R^2$ Training set', color=\"darkblue\", alpha=0.6, linewidth=3)\n",
        "plt.plot(test_r_squared, 'bo-', label=r'$R^2$ Test set', color=\"darkred\", alpha=0.6, linewidth=3)\n",
        "plt.xlabel('Lamda index'); plt.ylabel(r'$R^2$')\n",
        "plt.xlim(0, 6)\n",
        "plt.title(r'Evaluate lasso regression with lamdas: 0 = 0.001, 1= 0.01, 2 = 0.1, 3 = 0.5, 4= 1, 5= 2, 6 = 10')\n",
        "plt.legend(loc='best')\n",
        "plt.grid()"
      ],
      "execution_count": 200,
      "outputs": [
        {
          "output_type": "display_data",
          "data": {
            "image/png": "[encoded data removed]",
            "text/plain": [
              "<Figure size 1296x576 with 1 Axes>"
            ]
          },
          "metadata": {
            "needs_background": "light"
          }
        }
      ]
    },
    {
      "cell_type": "code",
      "metadata": {
        "colab": {
          "base_uri": "https://localhost:8080/"
        },
        "id": "tixTTj1ycCSY",
        "outputId": "c026883f-b070-49d8-cb50-74418541e065"
      },
      "source": [
        "df_lam = pd.DataFrame(test_r_squared*100, columns=['R_squared'])\n",
        "df_lam['lambda'] = (lambdas)\n",
        "# returns the index of the row where column has maximum value.\n",
        "df_lam.loc[df_lam['R_squared'].idxmax()]"
      ],
      "execution_count": 201,
      "outputs": [
        {
          "output_type": "execute_result",
          "data": {
            "text/plain": [
              "R_squared    35.038956\n",
              "lambda        0.500000\n",
              "Name: 3, dtype: float64"
            ]
          },
          "metadata": {},
          "execution_count": 201
        }
      ]
    },
    {
      "cell_type": "code",
      "metadata": {
        "colab": {
          "base_uri": "https://localhost:8080/"
        },
        "id": "LvtelTvUcENY",
        "outputId": "6b9dc05a-f513-478e-b2ce-7e06f10bc82b"
      },
      "source": [
        "reg_best = Lasso(alpha = 0.1)\n",
        "reg_best.fit(X_train, y_train)\n",
        "reg_best.coef_"
      ],
      "execution_count": 202,
      "outputs": [
        {
          "output_type": "execute_result",
          "data": {
            "text/plain": [
              "array([ 1.14804079, -0.        ,  1.04777052, -0.13619896,  0.45499808,\n",
              "        8.75319922, -0.9764929 ])"
            ]
          },
          "metadata": {},
          "execution_count": 202
        }
      ]
    },
    {
      "cell_type": "code",
      "metadata": {
        "colab": {
          "base_uri": "https://localhost:8080/"
        },
        "id": "kgAQZpgfcIfm",
        "outputId": "314219a7-9269-4e01-e85c-ccdcd7d1a810"
      },
      "source": [
        "from sklearn.metrics import mean_squared_error\n",
        "mean_squared_error(y_test, reg_best.predict(X_test))"
      ],
      "execution_count": 203,
      "outputs": [
        {
          "output_type": "execute_result",
          "data": {
            "text/plain": [
              "32.67545716126301"
            ]
          },
          "metadata": {},
          "execution_count": 203
        }
      ]
    },
    {
      "cell_type": "code",
      "metadata": {
        "id": "qfQsR1RTcKNC"
      },
      "source": [
        "l_min = 0.05\n",
        "l_max = 0.2\n",
        "l_num = 20\n",
        "lambdas = np.linspace(l_min,l_max, l_num)\n",
        "\n",
        "train_r_squared = np.zeros(l_num)\n",
        "test_r_squared = np.zeros(l_num)\n",
        "\n",
        "pred_num = X.shape[1]\n",
        "coeff_a = np.zeros((l_num, pred_num))"
      ],
      "execution_count": 204,
      "outputs": []
    },
    {
      "cell_type": "code",
      "metadata": {
        "id": "Dc51tFCmcLBr"
      },
      "source": [
        "from sklearn.model_selection import cross_val_score\n"
      ],
      "execution_count": 205,
      "outputs": []
    },
    {
      "cell_type": "code",
      "metadata": {
        "id": "-s2ceWQTcMJp"
      },
      "source": [
        "for ind, i in enumerate(lambdas):    \n",
        "    reg = Lasso(alpha = i)\n",
        "    reg.fit(X_train, y_train)\n",
        "    results = cross_val_score(reg, X, y, cv=10, scoring=\"r2\")\n",
        "\n",
        "    train_r_squared[ind] = reg.score(X_train, y_train)    \n",
        "    test_r_squared[ind] = reg.score(X_test, y_test)"
      ],
      "execution_count": 206,
      "outputs": []
    },
    {
      "cell_type": "code",
      "metadata": {
        "colab": {
          "base_uri": "https://localhost:8080/",
          "height": 530
        },
        "id": "MdjlcNJ5cOD1",
        "outputId": "e22bd0ff-d12e-43dc-e5a0-09067ed874d7"
      },
      "source": [
        "# Plotting\n",
        "plt.figure(figsize=(18, 8))\n",
        "plt.plot(train_r_squared, 'bo-', label=r'$R^2$ Training set', color=\"darkblue\", alpha=0.6, linewidth=3)\n",
        "plt.plot(test_r_squared, 'bo-', label=r'$R^2$ Test set', color=\"darkred\", alpha=0.6, linewidth=3)\n",
        "plt.xlabel('Lamda value'); plt.ylabel(r'$R^2$')\n",
        "plt.xlim(0, 19)\n",
        "plt.title(r'Evaluate 10-fold cv with different lamdas')\n",
        "plt.legend(loc='best')\n",
        "plt.grid()\n"
      ],
      "execution_count": 207,
      "outputs": [
        {
          "output_type": "display_data",
          "data": {
            "image/png": "[encoded data removed]",
            "text/plain": [
              "<Figure size 1296x576 with 1 Axes>"
            ]
          },
          "metadata": {
            "needs_background": "light"
          }
        }
      ]
    },
    {
      "cell_type": "code",
      "metadata": {
        "colab": {
          "base_uri": "https://localhost:8080/"
        },
        "id": "6sM7xsaQcRJQ",
        "outputId": "30f480d1-3ba8-4ee6-d470-e158cd6f224e"
      },
      "source": [
        "df_lam = pd.DataFrame(test_r_squared*100, columns=['R_squared'])\n",
        "df_lam['lambda'] = (lambdas)\n",
        "# returns the index of the row where column has maximum value.\n",
        "df_lam.loc[df_lam['R_squared'].idxmax()]"
      ],
      "execution_count": 208,
      "outputs": [
        {
          "output_type": "execute_result",
          "data": {
            "text/plain": [
              "R_squared    34.376749\n",
              "lambda        0.200000\n",
              "Name: 19, dtype: float64"
            ]
          },
          "metadata": {},
          "execution_count": 208
        }
      ]
    },
    {
      "cell_type": "code",
      "metadata": {
        "colab": {
          "base_uri": "https://localhost:8080/"
        },
        "id": "uBP4wKx8cSoF",
        "outputId": "2d923f95-bb8a-42e7-ccc7-cce25838d956"
      },
      "source": [
        "# Best Model\n",
        "reg_best = Lasso(alpha = 0.144737)\n",
        "reg_best.fit(X_train, y_train)"
      ],
      "execution_count": 209,
      "outputs": [
        {
          "output_type": "execute_result",
          "data": {
            "text/plain": [
              "Lasso(alpha=0.144737, copy_X=True, fit_intercept=True, max_iter=1000,\n",
              "      normalize=False, positive=False, precompute=False, random_state=None,\n",
              "      selection='cyclic', tol=0.0001, warm_start=False)"
            ]
          },
          "metadata": {},
          "execution_count": 209
        }
      ]
    },
    {
      "cell_type": "code",
      "metadata": {
        "colab": {
          "base_uri": "https://localhost:8080/"
        },
        "id": "jHCuGDRGcUSh",
        "outputId": "fce1bde5-3742-462c-a4ac-e760bb6307cf"
      },
      "source": [
        "from sklearn.metrics import mean_squared_error\n",
        "\n",
        "mean_squared_error(y_test, reg_best.predict(X_test))"
      ],
      "execution_count": 210,
      "outputs": [
        {
          "output_type": "execute_result",
          "data": {
            "text/plain": [
              "32.54105584096965"
            ]
          },
          "metadata": {},
          "execution_count": 210
        }
      ]
    },
    {
      "cell_type": "code",
      "metadata": {
        "colab": {
          "base_uri": "https://localhost:8080/"
        },
        "id": "EBnrbJ87cWtU",
        "outputId": "201f811e-37b9-431b-d32d-755091a5a5a1"
      },
      "source": [
        "reg_best.coef_"
      ],
      "execution_count": 211,
      "outputs": [
        {
          "output_type": "execute_result",
          "data": {
            "text/plain": [
              "array([ 1.11565225, -0.        ,  0.87507912, -0.06084871,  0.41829045,\n",
              "        8.571702  , -0.78587678])"
            ]
          },
          "metadata": {},
          "execution_count": 211
        }
      ]
    }
  ]
}