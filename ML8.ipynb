{
  "nbformat": 4,
  "nbformat_minor": 0,
  "metadata": {
    "colab": {
      "name": "seis 763 SVM(RBF) HW8.ipynb",
      "provenance": [],
      "collapsed_sections": []
    },
    "kernelspec": {
      "name": "python3",
      "display_name": "Python 3"
    },
    "language_info": {
      "name": "python"
    }
  },
  "cells": [
    {
      "cell_type": "code",
      "metadata": {
        "id": "0eIzyiwFCK3N"
      },
      "source": [
        "from sklearn.datasets import make_classification\n",
        "from matplotlib import pyplot as plt\n",
        "from sklearn.linear_model import LogisticRegression\n",
        "from sklearn.model_selection import train_test_split\n",
        "from sklearn.metrics import confusion_matrix\n",
        "import pandas as pd\n",
        "import numpy as np\n",
        "import seaborn as sns\n",
        "from sklearn.metrics import r2_score, explained_variance_score, confusion_matrix, accuracy_score, classification_report, log_loss\n",
        "from math import sqrt\n",
        "from sklearn.model_selection import cross_val_score\n",
        "from sklearn.linear_model import Lasso\n",
        "from sklearn import svm\n",
        "from sklearn.metrics import plot_confusion_matrix\n",
        "from sklearn.model_selection import GridSearchCV # this will do cross validation\n",
        "from sklearn.decomposition import PCA\n",
        "import matplotlib.colors as colors\n",
        "from sklearn.metrics import roc_auc_score, roc_curve, auc\n",
        "from sklearn.metrics import precision_recall_curve, average_precision_score\n",
        "from sklearn.svm import SVC\n",
        "\n"
      ],
      "execution_count": 16,
      "outputs": []
    },
    {
      "cell_type": "code",
      "metadata": {
        "id": "Kc9u0aomDspx"
      },
      "source": [
        "df = pd.read_csv(\"CellDNA.csv\", header= None)\n"
      ],
      "execution_count": 17,
      "outputs": []
    },
    {
      "cell_type": "code",
      "metadata": {
        "id": "ehnI7O3ulVcn"
      },
      "source": [
        "df.columns =['x0', 'x1', 'x2', 'x3', 'x4', 'x5', 'x6', 'x7','x8','x9','x10','x11','x12','x13']"
      ],
      "execution_count": 18,
      "outputs": []
    },
    {
      "cell_type": "code",
      "metadata": {
        "id": "U30awYdZqcQN"
      },
      "source": [
        "df.loc[:, 'x13'] = np.where(df.x13>0, 1, 0)"
      ],
      "execution_count": 19,
      "outputs": []
    },
    {
      "cell_type": "code",
      "metadata": {
        "colab": {
          "base_uri": "https://localhost:8080/",
          "height": 419
        },
        "id": "d42qh9F5HAFc",
        "outputId": "b21c9188-2f51-4700-ff1b-1afcef456003"
      },
      "source": [
        "df\n"
      ],
      "execution_count": 20,
      "outputs": [
        {
          "output_type": "execute_result",
          "data": {
            "text/html": [
              "<div>\n",
              "<style scoped>\n",
              "    .dataframe tbody tr th:only-of-type {\n",
              "        vertical-align: middle;\n",
              "    }\n",
              "\n",
              "    .dataframe tbody tr th {\n",
              "        vertical-align: top;\n",
              "    }\n",
              "\n",
              "    .dataframe thead th {\n",
              "        text-align: right;\n",
              "    }\n",
              "</style>\n",
              "<table border=\"1\" class=\"dataframe\">\n",
              "  <thead>\n",
              "    <tr style=\"text-align: right;\">\n",
              "      <th></th>\n",
              "      <th>x0</th>\n",
              "      <th>x1</th>\n",
              "      <th>x2</th>\n",
              "      <th>x3</th>\n",
              "      <th>x4</th>\n",
              "      <th>x5</th>\n",
              "      <th>x6</th>\n",
              "      <th>x7</th>\n",
              "      <th>x8</th>\n",
              "      <th>x9</th>\n",
              "      <th>x10</th>\n",
              "      <th>x11</th>\n",
              "      <th>x12</th>\n",
              "      <th>x13</th>\n",
              "    </tr>\n",
              "  </thead>\n",
              "  <tbody>\n",
              "    <tr>\n",
              "      <th>0</th>\n",
              "      <td>222</td>\n",
              "      <td>31.189189</td>\n",
              "      <td>40.342342</td>\n",
              "      <td>35.579087</td>\n",
              "      <td>8.883917</td>\n",
              "      <td>0.968325</td>\n",
              "      <td>-80.113673</td>\n",
              "      <td>222</td>\n",
              "      <td>1</td>\n",
              "      <td>16.812471</td>\n",
              "      <td>0.816176</td>\n",
              "      <td>0.578125</td>\n",
              "      <td>78.591</td>\n",
              "      <td>0</td>\n",
              "    </tr>\n",
              "    <tr>\n",
              "      <th>1</th>\n",
              "      <td>73</td>\n",
              "      <td>29.493151</td>\n",
              "      <td>271.397260</td>\n",
              "      <td>15.517202</td>\n",
              "      <td>6.407490</td>\n",
              "      <td>0.910764</td>\n",
              "      <td>76.042946</td>\n",
              "      <td>73</td>\n",
              "      <td>1</td>\n",
              "      <td>9.640876</td>\n",
              "      <td>0.858824</td>\n",
              "      <td>0.608333</td>\n",
              "      <td>39.217</td>\n",
              "      <td>0</td>\n",
              "    </tr>\n",
              "    <tr>\n",
              "      <th>2</th>\n",
              "      <td>256</td>\n",
              "      <td>58.816406</td>\n",
              "      <td>289.941406</td>\n",
              "      <td>37.226013</td>\n",
              "      <td>9.863895</td>\n",
              "      <td>0.964256</td>\n",
              "      <td>85.324742</td>\n",
              "      <td>256</td>\n",
              "      <td>1</td>\n",
              "      <td>18.054067</td>\n",
              "      <td>0.752941</td>\n",
              "      <td>0.562637</td>\n",
              "      <td>89.111</td>\n",
              "      <td>0</td>\n",
              "    </tr>\n",
              "    <tr>\n",
              "      <th>3</th>\n",
              "      <td>126</td>\n",
              "      <td>71.023810</td>\n",
              "      <td>477.412698</td>\n",
              "      <td>13.112980</td>\n",
              "      <td>12.790672</td>\n",
              "      <td>0.220351</td>\n",
              "      <td>63.523477</td>\n",
              "      <td>126</td>\n",
              "      <td>1</td>\n",
              "      <td>12.666025</td>\n",
              "      <td>0.881119</td>\n",
              "      <td>0.646154</td>\n",
              "      <td>43.832</td>\n",
              "      <td>0</td>\n",
              "    </tr>\n",
              "    <tr>\n",
              "      <th>4</th>\n",
              "      <td>225</td>\n",
              "      <td>90.808889</td>\n",
              "      <td>541.946667</td>\n",
              "      <td>44.463110</td>\n",
              "      <td>7.858879</td>\n",
              "      <td>0.984256</td>\n",
              "      <td>-52.874983</td>\n",
              "      <td>225</td>\n",
              "      <td>1</td>\n",
              "      <td>16.925688</td>\n",
              "      <td>0.728155</td>\n",
              "      <td>0.252525</td>\n",
              "      <td>90.072</td>\n",
              "      <td>1</td>\n",
              "    </tr>\n",
              "    <tr>\n",
              "      <th>...</th>\n",
              "      <td>...</td>\n",
              "      <td>...</td>\n",
              "      <td>...</td>\n",
              "      <td>...</td>\n",
              "      <td>...</td>\n",
              "      <td>...</td>\n",
              "      <td>...</td>\n",
              "      <td>...</td>\n",
              "      <td>...</td>\n",
              "      <td>...</td>\n",
              "      <td>...</td>\n",
              "      <td>...</td>\n",
              "      <td>...</td>\n",
              "      <td>...</td>\n",
              "    </tr>\n",
              "    <tr>\n",
              "      <th>1212</th>\n",
              "      <td>216</td>\n",
              "      <td>738.527778</td>\n",
              "      <td>216.449074</td>\n",
              "      <td>38.229761</td>\n",
              "      <td>9.556174</td>\n",
              "      <td>0.968254</td>\n",
              "      <td>12.847813</td>\n",
              "      <td>216</td>\n",
              "      <td>1</td>\n",
              "      <td>16.583719</td>\n",
              "      <td>0.640950</td>\n",
              "      <td>0.397059</td>\n",
              "      <td>98.589</td>\n",
              "      <td>0</td>\n",
              "    </tr>\n",
              "    <tr>\n",
              "      <th>1213</th>\n",
              "      <td>328</td>\n",
              "      <td>748.896341</td>\n",
              "      <td>47.664634</td>\n",
              "      <td>63.138991</td>\n",
              "      <td>9.101974</td>\n",
              "      <td>0.989555</td>\n",
              "      <td>57.919494</td>\n",
              "      <td>328</td>\n",
              "      <td>1</td>\n",
              "      <td>20.435816</td>\n",
              "      <td>0.607407</td>\n",
              "      <td>0.205257</td>\n",
              "      <td>131.431</td>\n",
              "      <td>1</td>\n",
              "    </tr>\n",
              "    <tr>\n",
              "      <th>1214</th>\n",
              "      <td>97</td>\n",
              "      <td>761.690722</td>\n",
              "      <td>207.288660</td>\n",
              "      <td>22.751513</td>\n",
              "      <td>8.230351</td>\n",
              "      <td>0.932275</td>\n",
              "      <td>-24.674618</td>\n",
              "      <td>97</td>\n",
              "      <td>1</td>\n",
              "      <td>11.113246</td>\n",
              "      <td>0.591463</td>\n",
              "      <td>0.384921</td>\n",
              "      <td>67.427</td>\n",
              "      <td>0</td>\n",
              "    </tr>\n",
              "    <tr>\n",
              "      <th>1215</th>\n",
              "      <td>223</td>\n",
              "      <td>770.654708</td>\n",
              "      <td>235.502242</td>\n",
              "      <td>53.491654</td>\n",
              "      <td>8.643053</td>\n",
              "      <td>0.986860</td>\n",
              "      <td>73.244715</td>\n",
              "      <td>223</td>\n",
              "      <td>1</td>\n",
              "      <td>16.850294</td>\n",
              "      <td>0.557500</td>\n",
              "      <td>0.252834</td>\n",
              "      <td>112.656</td>\n",
              "      <td>0</td>\n",
              "    </tr>\n",
              "    <tr>\n",
              "      <th>1216</th>\n",
              "      <td>87</td>\n",
              "      <td>764.954023</td>\n",
              "      <td>265.655172</td>\n",
              "      <td>13.459738</td>\n",
              "      <td>8.521929</td>\n",
              "      <td>0.774035</td>\n",
              "      <td>18.595633</td>\n",
              "      <td>87</td>\n",
              "      <td>1</td>\n",
              "      <td>10.524820</td>\n",
              "      <td>0.956044</td>\n",
              "      <td>0.743590</td>\n",
              "      <td>32.295</td>\n",
              "      <td>0</td>\n",
              "    </tr>\n",
              "  </tbody>\n",
              "</table>\n",
              "<p>1217 rows × 14 columns</p>\n",
              "</div>"
            ],
            "text/plain": [
              "       x0          x1          x2         x3  ...       x10       x11      x12  x13\n",
              "0     222   31.189189   40.342342  35.579087  ...  0.816176  0.578125   78.591    0\n",
              "1      73   29.493151  271.397260  15.517202  ...  0.858824  0.608333   39.217    0\n",
              "2     256   58.816406  289.941406  37.226013  ...  0.752941  0.562637   89.111    0\n",
              "3     126   71.023810  477.412698  13.112980  ...  0.881119  0.646154   43.832    0\n",
              "4     225   90.808889  541.946667  44.463110  ...  0.728155  0.252525   90.072    1\n",
              "...   ...         ...         ...        ...  ...       ...       ...      ...  ...\n",
              "1212  216  738.527778  216.449074  38.229761  ...  0.640950  0.397059   98.589    0\n",
              "1213  328  748.896341   47.664634  63.138991  ...  0.607407  0.205257  131.431    1\n",
              "1214   97  761.690722  207.288660  22.751513  ...  0.591463  0.384921   67.427    0\n",
              "1215  223  770.654708  235.502242  53.491654  ...  0.557500  0.252834  112.656    0\n",
              "1216   87  764.954023  265.655172  13.459738  ...  0.956044  0.743590   32.295    0\n",
              "\n",
              "[1217 rows x 14 columns]"
            ]
          },
          "metadata": {},
          "execution_count": 20
        }
      ]
    },
    {
      "cell_type": "code",
      "metadata": {
        "id": "Op_x-xHtzIAt"
      },
      "source": [
        "from sklearn.preprocessing import StandardScaler\n",
        "scaler = StandardScaler()\n",
        "df[['x0', 'x1', 'x2', 'x3', 'x4', 'x5', 'x6', 'x7','x8','x9','x10','x11','x12']] = scaler.fit_transform(df[['x0', 'x1', 'x2', 'x3', 'x4', 'x5', 'x6', 'x7','x8','x9','x10','x11','x12']])"
      ],
      "execution_count": 21,
      "outputs": []
    },
    {
      "cell_type": "code",
      "metadata": {
        "colab": {
          "base_uri": "https://localhost:8080/"
        },
        "id": "Wro4iSx40BiO",
        "outputId": "de6ad47f-b033-4d38-dc10-ab1045405c91"
      },
      "source": [
        "numeric_cols = ['x0', 'x1', 'x2', 'x3', 'x4', 'x5', 'x6', 'x7','x8','x9','x10','x11','x12']\n",
        "scaler = StandardScaler()\n",
        "scaler.fit(df[numeric_cols])\n",
        "scaled_inputs = scaler.transform(df[numeric_cols])\n",
        "scaled_inputs"
      ],
      "execution_count": 22,
      "outputs": [
        {
          "output_type": "execute_result",
          "data": {
            "text/plain": [
              "array([[ 0.15952762, -1.80200559, -1.20813407, ...,  0.34511514,\n",
              "         0.65289142, -0.00691284],\n",
              "       [-0.93921222, -1.80987674,  0.42436331, ...,  0.7072868 ,\n",
              "         0.84374979, -0.81411281],\n",
              "       [ 0.41024678, -1.67379037,  0.55538528, ..., -0.19189804,\n",
              "         0.55503945,  0.20875597],\n",
              "       ...,\n",
              "       [-0.76223399,  1.58818067, -0.02859014, ..., -1.56321582,\n",
              "        -0.56778731, -0.23578419],\n",
              "       [ 0.16690172,  1.62978166,  0.17075035, ..., -1.85164337,\n",
              "        -1.40231699,  0.69144818],\n",
              "       [-0.83597492,  1.60332534,  0.38379311, ...,  1.53291195,\n",
              "         1.69830929, -0.95601961]])"
            ]
          },
          "metadata": {},
          "execution_count": 22
        }
      ]
    },
    {
      "cell_type": "code",
      "metadata": {
        "colab": {
          "base_uri": "https://localhost:8080/",
          "height": 419
        },
        "id": "BmxCe0MX0OLd",
        "outputId": "3ae86502-5c24-4a55-f0e7-5c9e7eb4826b"
      },
      "source": [
        "df\n"
      ],
      "execution_count": 23,
      "outputs": [
        {
          "output_type": "execute_result",
          "data": {
            "text/html": [
              "<div>\n",
              "<style scoped>\n",
              "    .dataframe tbody tr th:only-of-type {\n",
              "        vertical-align: middle;\n",
              "    }\n",
              "\n",
              "    .dataframe tbody tr th {\n",
              "        vertical-align: top;\n",
              "    }\n",
              "\n",
              "    .dataframe thead th {\n",
              "        text-align: right;\n",
              "    }\n",
              "</style>\n",
              "<table border=\"1\" class=\"dataframe\">\n",
              "  <thead>\n",
              "    <tr style=\"text-align: right;\">\n",
              "      <th></th>\n",
              "      <th>x0</th>\n",
              "      <th>x1</th>\n",
              "      <th>x2</th>\n",
              "      <th>x3</th>\n",
              "      <th>x4</th>\n",
              "      <th>x5</th>\n",
              "      <th>x6</th>\n",
              "      <th>x7</th>\n",
              "      <th>x8</th>\n",
              "      <th>x9</th>\n",
              "      <th>x10</th>\n",
              "      <th>x11</th>\n",
              "      <th>x12</th>\n",
              "      <th>x13</th>\n",
              "    </tr>\n",
              "  </thead>\n",
              "  <tbody>\n",
              "    <tr>\n",
              "      <th>0</th>\n",
              "      <td>0.159528</td>\n",
              "      <td>-1.802006</td>\n",
              "      <td>-1.208134</td>\n",
              "      <td>0.114420</td>\n",
              "      <td>-0.135689</td>\n",
              "      <td>0.538311</td>\n",
              "      <td>-1.587426</td>\n",
              "      <td>0.135833</td>\n",
              "      <td>0.233292</td>\n",
              "      <td>0.329626</td>\n",
              "      <td>0.345115</td>\n",
              "      <td>0.652891</td>\n",
              "      <td>-0.006913</td>\n",
              "      <td>0</td>\n",
              "    </tr>\n",
              "    <tr>\n",
              "      <th>1</th>\n",
              "      <td>-0.939212</td>\n",
              "      <td>-1.809877</td>\n",
              "      <td>0.424363</td>\n",
              "      <td>-0.933511</td>\n",
              "      <td>-0.817247</td>\n",
              "      <td>0.019258</td>\n",
              "      <td>1.500586</td>\n",
              "      <td>-0.909580</td>\n",
              "      <td>0.233292</td>\n",
              "      <td>-1.221986</td>\n",
              "      <td>0.707287</td>\n",
              "      <td>0.843750</td>\n",
              "      <td>-0.814113</td>\n",
              "      <td>0</td>\n",
              "    </tr>\n",
              "    <tr>\n",
              "      <th>2</th>\n",
              "      <td>0.410247</td>\n",
              "      <td>-1.673790</td>\n",
              "      <td>0.555385</td>\n",
              "      <td>0.200447</td>\n",
              "      <td>0.134019</td>\n",
              "      <td>0.501621</td>\n",
              "      <td>1.684134</td>\n",
              "      <td>0.374384</td>\n",
              "      <td>0.233292</td>\n",
              "      <td>0.598252</td>\n",
              "      <td>-0.191898</td>\n",
              "      <td>0.555039</td>\n",
              "      <td>0.208756</td>\n",
              "      <td>0</td>\n",
              "    </tr>\n",
              "    <tr>\n",
              "      <th>3</th>\n",
              "      <td>-0.548385</td>\n",
              "      <td>-1.617137</td>\n",
              "      <td>1.879947</td>\n",
              "      <td>-1.059096</td>\n",
              "      <td>0.939523</td>\n",
              "      <td>-6.206504</td>\n",
              "      <td>1.253012</td>\n",
              "      <td>-0.537722</td>\n",
              "      <td>0.233292</td>\n",
              "      <td>-0.567479</td>\n",
              "      <td>0.896626</td>\n",
              "      <td>1.082702</td>\n",
              "      <td>-0.719501</td>\n",
              "      <td>0</td>\n",
              "    </tr>\n",
              "    <tr>\n",
              "      <th>4</th>\n",
              "      <td>0.181650</td>\n",
              "      <td>-1.525316</td>\n",
              "      <td>2.335905</td>\n",
              "      <td>0.578476</td>\n",
              "      <td>-0.417798</td>\n",
              "      <td>0.681969</td>\n",
              "      <td>-1.048779</td>\n",
              "      <td>0.156881</td>\n",
              "      <td>0.233292</td>\n",
              "      <td>0.354121</td>\n",
              "      <td>-0.402387</td>\n",
              "      <td>-1.404271</td>\n",
              "      <td>0.228457</td>\n",
              "      <td>1</td>\n",
              "    </tr>\n",
              "    <tr>\n",
              "      <th>...</th>\n",
              "      <td>...</td>\n",
              "      <td>...</td>\n",
              "      <td>...</td>\n",
              "      <td>...</td>\n",
              "      <td>...</td>\n",
              "      <td>...</td>\n",
              "      <td>...</td>\n",
              "      <td>...</td>\n",
              "      <td>...</td>\n",
              "      <td>...</td>\n",
              "      <td>...</td>\n",
              "      <td>...</td>\n",
              "      <td>...</td>\n",
              "      <td>...</td>\n",
              "    </tr>\n",
              "    <tr>\n",
              "      <th>1212</th>\n",
              "      <td>0.115283</td>\n",
              "      <td>1.480684</td>\n",
              "      <td>0.036132</td>\n",
              "      <td>0.252878</td>\n",
              "      <td>0.049329</td>\n",
              "      <td>0.537678</td>\n",
              "      <td>0.250896</td>\n",
              "      <td>0.093736</td>\n",
              "      <td>0.233292</td>\n",
              "      <td>0.280134</td>\n",
              "      <td>-1.142965</td>\n",
              "      <td>-0.491097</td>\n",
              "      <td>0.403063</td>\n",
              "      <td>0</td>\n",
              "    </tr>\n",
              "    <tr>\n",
              "      <th>1213</th>\n",
              "      <td>0.941181</td>\n",
              "      <td>1.528803</td>\n",
              "      <td>-1.156399</td>\n",
              "      <td>1.554010</td>\n",
              "      <td>-0.075675</td>\n",
              "      <td>0.729753</td>\n",
              "      <td>1.142193</td>\n",
              "      <td>0.879550</td>\n",
              "      <td>0.233292</td>\n",
              "      <td>1.113556</td>\n",
              "      <td>-1.427815</td>\n",
              "      <td>-1.702917</td>\n",
              "      <td>1.076351</td>\n",
              "      <td>1</td>\n",
              "    </tr>\n",
              "    <tr>\n",
              "      <th>1214</th>\n",
              "      <td>-0.762234</td>\n",
              "      <td>1.588181</td>\n",
              "      <td>-0.028590</td>\n",
              "      <td>-0.555628</td>\n",
              "      <td>-0.315562</td>\n",
              "      <td>0.213238</td>\n",
              "      <td>-0.491114</td>\n",
              "      <td>-0.741192</td>\n",
              "      <td>0.233292</td>\n",
              "      <td>-0.903431</td>\n",
              "      <td>-1.563216</td>\n",
              "      <td>-0.567787</td>\n",
              "      <td>-0.235784</td>\n",
              "      <td>0</td>\n",
              "    </tr>\n",
              "    <tr>\n",
              "      <th>1215</th>\n",
              "      <td>0.166902</td>\n",
              "      <td>1.629782</td>\n",
              "      <td>0.170750</td>\n",
              "      <td>1.050082</td>\n",
              "      <td>-0.201979</td>\n",
              "      <td>0.705453</td>\n",
              "      <td>1.445251</td>\n",
              "      <td>0.142849</td>\n",
              "      <td>0.233292</td>\n",
              "      <td>0.337809</td>\n",
              "      <td>-1.851643</td>\n",
              "      <td>-1.402317</td>\n",
              "      <td>0.691448</td>\n",
              "      <td>0</td>\n",
              "    </tr>\n",
              "    <tr>\n",
              "      <th>1216</th>\n",
              "      <td>-0.835975</td>\n",
              "      <td>1.603325</td>\n",
              "      <td>0.383793</td>\n",
              "      <td>-1.040983</td>\n",
              "      <td>-0.235315</td>\n",
              "      <td>-1.213681</td>\n",
              "      <td>0.364560</td>\n",
              "      <td>-0.811354</td>\n",
              "      <td>0.233292</td>\n",
              "      <td>-1.030740</td>\n",
              "      <td>1.532912</td>\n",
              "      <td>1.698309</td>\n",
              "      <td>-0.956020</td>\n",
              "      <td>0</td>\n",
              "    </tr>\n",
              "  </tbody>\n",
              "</table>\n",
              "<p>1217 rows × 14 columns</p>\n",
              "</div>"
            ],
            "text/plain": [
              "            x0        x1        x2        x3  ...       x10       x11       x12  x13\n",
              "0     0.159528 -1.802006 -1.208134  0.114420  ...  0.345115  0.652891 -0.006913    0\n",
              "1    -0.939212 -1.809877  0.424363 -0.933511  ...  0.707287  0.843750 -0.814113    0\n",
              "2     0.410247 -1.673790  0.555385  0.200447  ... -0.191898  0.555039  0.208756    0\n",
              "3    -0.548385 -1.617137  1.879947 -1.059096  ...  0.896626  1.082702 -0.719501    0\n",
              "4     0.181650 -1.525316  2.335905  0.578476  ... -0.402387 -1.404271  0.228457    1\n",
              "...        ...       ...       ...       ...  ...       ...       ...       ...  ...\n",
              "1212  0.115283  1.480684  0.036132  0.252878  ... -1.142965 -0.491097  0.403063    0\n",
              "1213  0.941181  1.528803 -1.156399  1.554010  ... -1.427815 -1.702917  1.076351    1\n",
              "1214 -0.762234  1.588181 -0.028590 -0.555628  ... -1.563216 -0.567787 -0.235784    0\n",
              "1215  0.166902  1.629782  0.170750  1.050082  ... -1.851643 -1.402317  0.691448    0\n",
              "1216 -0.835975  1.603325  0.383793 -1.040983  ...  1.532912  1.698309 -0.956020    0\n",
              "\n",
              "[1217 rows x 14 columns]"
            ]
          },
          "metadata": {},
          "execution_count": 23
        }
      ]
    },
    {
      "cell_type": "code",
      "metadata": {
        "colab": {
          "base_uri": "https://localhost:8080/"
        },
        "id": "z7uWzz8f0iT2",
        "outputId": "a56111f0-bb60-4a9d-f09b-dd5414c0e36c"
      },
      "source": [
        "x = df.drop('x13', axis = 1).values\n",
        "y = df['x13']\n",
        "y = y.astype(int)\n",
        "\n",
        "print(x.shape)\n",
        "print(y.shape)"
      ],
      "execution_count": 24,
      "outputs": [
        {
          "output_type": "stream",
          "name": "stdout",
          "text": [
            "(1217, 13)\n",
            "(1217,)\n"
          ]
        }
      ]
    },
    {
      "cell_type": "markdown",
      "metadata": {
        "id": "Ysvefe9T6Ib7"
      },
      "source": [
        "# check distribution of target_class column"
      ]
    },
    {
      "cell_type": "code",
      "metadata": {
        "colab": {
          "base_uri": "https://localhost:8080/"
        },
        "id": "xKUcwlxk5_sl",
        "outputId": "b910c75c-5c4d-40e8-ca25-df948bbefef7"
      },
      "source": [
        "df['x13'].value_counts()\n"
      ],
      "execution_count": 25,
      "outputs": [
        {
          "output_type": "execute_result",
          "data": {
            "text/plain": [
              "0    1017\n",
              "1     200\n",
              "Name: x13, dtype: int64"
            ]
          },
          "metadata": {},
          "execution_count": 25
        }
      ]
    },
    {
      "cell_type": "code",
      "metadata": {
        "colab": {
          "base_uri": "https://localhost:8080/"
        },
        "id": "LIbkm5J06K0z",
        "outputId": "a3cc77b6-ec5a-4d97-aae5-1ad9daecef70"
      },
      "source": [
        "df['x13'].value_counts()/np.float(len(df))\n"
      ],
      "execution_count": 26,
      "outputs": [
        {
          "output_type": "execute_result",
          "data": {
            "text/plain": [
              "0    0.835661\n",
              "1    0.164339\n",
              "Name: x13, dtype: float64"
            ]
          },
          "metadata": {},
          "execution_count": 26
        }
      ]
    },
    {
      "cell_type": "code",
      "metadata": {
        "colab": {
          "base_uri": "https://localhost:8080/",
          "height": 297
        },
        "id": "YOIjbyxF7GuF",
        "outputId": "143336c5-0401-4dfe-917c-5017426f6851"
      },
      "source": [
        "round(df.describe(),2)\n"
      ],
      "execution_count": 27,
      "outputs": [
        {
          "output_type": "execute_result",
          "data": {
            "text/html": [
              "<div>\n",
              "<style scoped>\n",
              "    .dataframe tbody tr th:only-of-type {\n",
              "        vertical-align: middle;\n",
              "    }\n",
              "\n",
              "    .dataframe tbody tr th {\n",
              "        vertical-align: top;\n",
              "    }\n",
              "\n",
              "    .dataframe thead th {\n",
              "        text-align: right;\n",
              "    }\n",
              "</style>\n",
              "<table border=\"1\" class=\"dataframe\">\n",
              "  <thead>\n",
              "    <tr style=\"text-align: right;\">\n",
              "      <th></th>\n",
              "      <th>x0</th>\n",
              "      <th>x1</th>\n",
              "      <th>x2</th>\n",
              "      <th>x3</th>\n",
              "      <th>x4</th>\n",
              "      <th>x5</th>\n",
              "      <th>x6</th>\n",
              "      <th>x7</th>\n",
              "      <th>x8</th>\n",
              "      <th>x9</th>\n",
              "      <th>x10</th>\n",
              "      <th>x11</th>\n",
              "      <th>x12</th>\n",
              "      <th>x13</th>\n",
              "    </tr>\n",
              "  </thead>\n",
              "  <tbody>\n",
              "    <tr>\n",
              "      <th>count</th>\n",
              "      <td>1217.00</td>\n",
              "      <td>1217.00</td>\n",
              "      <td>1217.00</td>\n",
              "      <td>1217.00</td>\n",
              "      <td>1217.00</td>\n",
              "      <td>1217.00</td>\n",
              "      <td>1217.00</td>\n",
              "      <td>1217.00</td>\n",
              "      <td>1217.00</td>\n",
              "      <td>1217.00</td>\n",
              "      <td>1217.00</td>\n",
              "      <td>1217.00</td>\n",
              "      <td>1217.00</td>\n",
              "      <td>1217.00</td>\n",
              "    </tr>\n",
              "    <tr>\n",
              "      <th>mean</th>\n",
              "      <td>0.00</td>\n",
              "      <td>0.00</td>\n",
              "      <td>-0.00</td>\n",
              "      <td>0.00</td>\n",
              "      <td>-0.00</td>\n",
              "      <td>0.00</td>\n",
              "      <td>0.00</td>\n",
              "      <td>0.00</td>\n",
              "      <td>-0.00</td>\n",
              "      <td>0.00</td>\n",
              "      <td>-0.00</td>\n",
              "      <td>0.00</td>\n",
              "      <td>-0.00</td>\n",
              "      <td>0.16</td>\n",
              "    </tr>\n",
              "    <tr>\n",
              "      <th>std</th>\n",
              "      <td>1.00</td>\n",
              "      <td>1.00</td>\n",
              "      <td>1.00</td>\n",
              "      <td>1.00</td>\n",
              "      <td>1.00</td>\n",
              "      <td>1.00</td>\n",
              "      <td>1.00</td>\n",
              "      <td>1.00</td>\n",
              "      <td>1.00</td>\n",
              "      <td>1.00</td>\n",
              "      <td>1.00</td>\n",
              "      <td>1.00</td>\n",
              "      <td>1.00</td>\n",
              "      <td>0.37</td>\n",
              "    </tr>\n",
              "    <tr>\n",
              "      <th>min</th>\n",
              "      <td>-0.96</td>\n",
              "      <td>-1.82</td>\n",
              "      <td>-1.30</td>\n",
              "      <td>-1.21</td>\n",
              "      <td>-1.73</td>\n",
              "      <td>-6.23</td>\n",
              "      <td>-1.77</td>\n",
              "      <td>-0.93</td>\n",
              "      <td>-12.80</td>\n",
              "      <td>-1.27</td>\n",
              "      <td>-4.37</td>\n",
              "      <td>-2.28</td>\n",
              "      <td>-1.04</td>\n",
              "      <td>0.00</td>\n",
              "    </tr>\n",
              "    <tr>\n",
              "      <th>25%</th>\n",
              "      <td>-0.69</td>\n",
              "      <td>-0.82</td>\n",
              "      <td>-0.81</td>\n",
              "      <td>-0.76</td>\n",
              "      <td>-0.51</td>\n",
              "      <td>-0.21</td>\n",
              "      <td>-0.82</td>\n",
              "      <td>-0.66</td>\n",
              "      <td>0.23</td>\n",
              "      <td>-0.78</td>\n",
              "      <td>-0.62</td>\n",
              "      <td>-0.77</td>\n",
              "      <td>-0.68</td>\n",
              "      <td>0.00</td>\n",
              "    </tr>\n",
              "    <tr>\n",
              "      <th>50%</th>\n",
              "      <td>-0.30</td>\n",
              "      <td>-0.02</td>\n",
              "      <td>-0.19</td>\n",
              "      <td>-0.29</td>\n",
              "      <td>-0.25</td>\n",
              "      <td>0.37</td>\n",
              "      <td>-0.01</td>\n",
              "      <td>-0.29</td>\n",
              "      <td>0.23</td>\n",
              "      <td>-0.22</td>\n",
              "      <td>0.12</td>\n",
              "      <td>-0.00</td>\n",
              "      <td>-0.26</td>\n",
              "      <td>0.00</td>\n",
              "    </tr>\n",
              "    <tr>\n",
              "      <th>75%</th>\n",
              "      <td>0.38</td>\n",
              "      <td>0.89</td>\n",
              "      <td>0.58</td>\n",
              "      <td>0.58</td>\n",
              "      <td>0.12</td>\n",
              "      <td>0.63</td>\n",
              "      <td>0.81</td>\n",
              "      <td>0.35</td>\n",
              "      <td>0.23</td>\n",
              "      <td>0.57</td>\n",
              "      <td>0.77</td>\n",
              "      <td>0.74</td>\n",
              "      <td>0.39</td>\n",
              "      <td>0.00</td>\n",
              "    </tr>\n",
              "    <tr>\n",
              "      <th>max</th>\n",
              "      <td>6.55</td>\n",
              "      <td>1.64</td>\n",
              "      <td>2.57</td>\n",
              "      <td>6.37</td>\n",
              "      <td>9.39</td>\n",
              "      <td>0.81</td>\n",
              "      <td>1.77</td>\n",
              "      <td>6.71</td>\n",
              "      <td>0.23</td>\n",
              "      <td>4.75</td>\n",
              "      <td>1.91</td>\n",
              "      <td>2.72</td>\n",
              "      <td>8.50</td>\n",
              "      <td>1.00</td>\n",
              "    </tr>\n",
              "  </tbody>\n",
              "</table>\n",
              "</div>"
            ],
            "text/plain": [
              "            x0       x1       x2       x3  ...      x10      x11      x12      x13\n",
              "count  1217.00  1217.00  1217.00  1217.00  ...  1217.00  1217.00  1217.00  1217.00\n",
              "mean      0.00     0.00    -0.00     0.00  ...    -0.00     0.00    -0.00     0.16\n",
              "std       1.00     1.00     1.00     1.00  ...     1.00     1.00     1.00     0.37\n",
              "min      -0.96    -1.82    -1.30    -1.21  ...    -4.37    -2.28    -1.04     0.00\n",
              "25%      -0.69    -0.82    -0.81    -0.76  ...    -0.62    -0.77    -0.68     0.00\n",
              "50%      -0.30    -0.02    -0.19    -0.29  ...     0.12    -0.00    -0.26     0.00\n",
              "75%       0.38     0.89     0.58     0.58  ...     0.77     0.74     0.39     0.00\n",
              "max       6.55     1.64     2.57     6.37  ...     1.91     2.72     8.50     1.00\n",
              "\n",
              "[8 rows x 14 columns]"
            ]
          },
          "metadata": {},
          "execution_count": 27
        }
      ]
    },
    {
      "cell_type": "code",
      "metadata": {
        "colab": {
          "base_uri": "https://localhost:8080/"
        },
        "id": "ZkyG9XipfF0l",
        "outputId": "464be583-6def-4276-dc4c-5facd2f1f5f9"
      },
      "source": [
        "df.dtypes"
      ],
      "execution_count": 28,
      "outputs": [
        {
          "output_type": "execute_result",
          "data": {
            "text/plain": [
              "x0     float64\n",
              "x1     float64\n",
              "x2     float64\n",
              "x3     float64\n",
              "x4     float64\n",
              "x5     float64\n",
              "x6     float64\n",
              "x7     float64\n",
              "x8     float64\n",
              "x9     float64\n",
              "x10    float64\n",
              "x11    float64\n",
              "x12    float64\n",
              "x13      int64\n",
              "dtype: object"
            ]
          },
          "metadata": {},
          "execution_count": 28
        }
      ]
    },
    {
      "cell_type": "markdown",
      "metadata": {
        "id": "eB4jRASvgDno"
      },
      "source": [
        "%CREATE SVM MODEL classifier ML ALGORITHM\n",
        "\n",
        "\n",
        "\n",
        "\n"
      ]
    },
    {
      "cell_type": "code",
      "metadata": {
        "id": "RN6LWXBb4Ui1",
        "colab": {
          "base_uri": "https://localhost:8080/"
        },
        "outputId": "40f9ab06-cb6b-467f-a13e-1b2b12729504"
      },
      "source": [
        "clf_svm = SVC(random_state=42)\n",
        "clf_svm.fit(x,y)"
      ],
      "execution_count": 29,
      "outputs": [
        {
          "output_type": "execute_result",
          "data": {
            "text/plain": [
              "SVC(random_state=42)"
            ]
          },
          "metadata": {},
          "execution_count": 29
        }
      ]
    },
    {
      "cell_type": "code",
      "metadata": {
        "colab": {
          "base_uri": "https://localhost:8080/",
          "height": 350
        },
        "id": "lciqb7e4-nQ6",
        "outputId": "a8653496-a44a-4372-e85b-4bd017bde5da"
      },
      "source": [
        "plot_confusion_matrix(clf_svm,\n",
        "                      x,\n",
        "                      y,\n",
        "                      display_labels=['No further study', 'further study'])"
      ],
      "execution_count": 31,
      "outputs": [
        {
          "output_type": "stream",
          "name": "stderr",
          "text": [
            "/usr/local/lib/python3.7/dist-packages/sklearn/utils/deprecation.py:87: FutureWarning: Function plot_confusion_matrix is deprecated; Function `plot_confusion_matrix` is deprecated in 1.0 and will be removed in 1.2. Use one of the class methods: ConfusionMatrixDisplay.from_predictions or ConfusionMatrixDisplay.from_estimator.\n",
            "  warnings.warn(msg, category=FutureWarning)\n"
          ]
        },
        {
          "output_type": "execute_result",
          "data": {
            "text/plain": [
              "<sklearn.metrics._plot.confusion_matrix.ConfusionMatrixDisplay at 0x7f4970918f90>"
            ]
          },
          "metadata": {},
          "execution_count": 31
        },
        {
          "output_type": "display_data",
          "data": {
            "image/png": "[encoded data removed]",
            "text/plain": [
              "<Figure size 432x288 with 2 Axes>"
            ]
          },
          "metadata": {
            "needs_background": "light"
          }
        }
      ]
    },
    {
      "cell_type": "markdown",
      "metadata": {
        "id": "sG_fnv2UBWFd"
      },
      "source": [
        "In the confusion matrix, we see that of the 987 + 58 = 1045 that did not interesting in further study, 987 were correctly classified. And of the 30 + 142 = 172 that have interesting in further study, 142 were correctly classified. So the support vector machine did pretty well without any optimization. That said, it is possible that we can improve predictions using Cross Validation to optimize the parameters."
      ]
    },
    {
      "cell_type": "code",
      "metadata": {
        "colab": {
          "base_uri": "https://localhost:8080/"
        },
        "id": "DpjCAtnc_NSi",
        "outputId": "26e40955-65eb-4685-d289-de81cd9ad9a7"
      },
      "source": [
        "param_grid = [\n",
        "              {'C':[1,10,100,1000],\n",
        "               'gamma':[0.001,0.0001],\n",
        "               'kernel':['rbf']}\n",
        "]\n",
        "\n",
        "optimal_params = GridSearchCV(\n",
        "    SVC(),\n",
        "    param_grid,\n",
        "    cv=5,\n",
        "    verbose=1\n",
        ")\n",
        "optimal_params.fit(x, y)\n",
        "optimal_params.best_params_"
      ],
      "execution_count": 32,
      "outputs": [
        {
          "output_type": "stream",
          "name": "stdout",
          "text": [
            "Fitting 5 folds for each of 8 candidates, totalling 40 fits\n"
          ]
        },
        {
          "output_type": "execute_result",
          "data": {
            "text/plain": [
              "{'C': 1000, 'gamma': 0.001, 'kernel': 'rbf'}"
            ]
          },
          "metadata": {},
          "execution_count": 32
        }
      ]
    },
    {
      "cell_type": "markdown",
      "metadata": {
        "id": "wHK4XQ1UCd6n"
      },
      "source": [
        "\n",
        "% Finding the best value of gamma, regularization parameter \"C\" (box constraint) and rbf kernel scale to improve the accuracy with the dataset. "
      ]
    },
    {
      "cell_type": "markdown",
      "metadata": {
        "id": "lsAsWrYsCo8D"
      },
      "source": [
        "% ATTEMPT 1 C=1, GAMMA =0.1"
      ]
    },
    {
      "cell_type": "code",
      "metadata": {
        "colab": {
          "base_uri": "https://localhost:8080/"
        },
        "id": "8w_CGQ8VBrFQ",
        "outputId": "f0e1d176-d448-44c8-f914-0c302869d32b"
      },
      "source": [
        "clf_svm = SVC(random_state=42, C=1, gamma=0.1,kernel='rbf')\n",
        "clf_svm.fit(x, y)"
      ],
      "execution_count": 69,
      "outputs": [
        {
          "output_type": "execute_result",
          "data": {
            "text/plain": [
              "SVC(C=1, gamma=0.1, random_state=42)"
            ]
          },
          "metadata": {},
          "execution_count": 69
        }
      ]
    },
    {
      "cell_type": "code",
      "metadata": {
        "colab": {
          "base_uri": "https://localhost:8080/",
          "height": 350
        },
        "id": "O7Kdm7X0BsRP",
        "outputId": "c0d4bde5-cf7e-4308-a151-2c300b8a000d"
      },
      "source": [
        "plot_confusion_matrix(clf_svm,\n",
        "                      x,\n",
        "                      y,\n",
        "                      display_labels=['No further study', 'further study'])"
      ],
      "execution_count": 70,
      "outputs": [
        {
          "output_type": "stream",
          "name": "stderr",
          "text": [
            "/usr/local/lib/python3.7/dist-packages/sklearn/utils/deprecation.py:87: FutureWarning: Function plot_confusion_matrix is deprecated; Function `plot_confusion_matrix` is deprecated in 1.0 and will be removed in 1.2. Use one of the class methods: ConfusionMatrixDisplay.from_predictions or ConfusionMatrixDisplay.from_estimator.\n",
            "  warnings.warn(msg, category=FutureWarning)\n"
          ]
        },
        {
          "output_type": "execute_result",
          "data": {
            "text/plain": [
              "<sklearn.metrics._plot.confusion_matrix.ConfusionMatrixDisplay at 0x7f496f95d710>"
            ]
          },
          "metadata": {},
          "execution_count": 70
        },
        {
          "output_type": "display_data",
          "data": {
            "image/png": "[encoded data removed]",
            "text/plain": [
              "<Figure size 432x288 with 2 Axes>"
            ]
          },
          "metadata": {
            "needs_background": "light"
          }
        }
      ]
    },
    {
      "cell_type": "markdown",
      "metadata": {
        "id": "CFpYiQhbCs5-"
      },
      "source": [
        "% I see that the optimized Support Vector Machine is better at classifying Bacteria for the further study than the preliminary support vector machine."
      ]
    },
    {
      "cell_type": "code",
      "metadata": {
        "colab": {
          "base_uri": "https://localhost:8080/"
        },
        "id": "43iMMge8Bjqg",
        "outputId": "8d5efa72-6a7f-4f3d-de80-3e9c6c7eb292"
      },
      "source": [
        "clf_svm = SVC(random_state=42, C=10, gamma=0.1,kernel='rbf')\n",
        "clf_svm.fit(x, y)"
      ],
      "execution_count": 71,
      "outputs": [
        {
          "output_type": "execute_result",
          "data": {
            "text/plain": [
              "SVC(C=10, gamma=0.1, random_state=42)"
            ]
          },
          "metadata": {},
          "execution_count": 71
        }
      ]
    },
    {
      "cell_type": "code",
      "metadata": {
        "colab": {
          "base_uri": "https://localhost:8080/",
          "height": 350
        },
        "id": "kNyYhdV5Bmaw",
        "outputId": "e99cc6a2-62cb-439c-e82c-769f1c2cf6b9"
      },
      "source": [
        "plot_confusion_matrix(clf_svm,\n",
        "                      x,\n",
        "                      y,\n",
        "                      display_labels=['No further study', 'further study'])"
      ],
      "execution_count": 72,
      "outputs": [
        {
          "output_type": "stream",
          "name": "stderr",
          "text": [
            "/usr/local/lib/python3.7/dist-packages/sklearn/utils/deprecation.py:87: FutureWarning: Function plot_confusion_matrix is deprecated; Function `plot_confusion_matrix` is deprecated in 1.0 and will be removed in 1.2. Use one of the class methods: ConfusionMatrixDisplay.from_predictions or ConfusionMatrixDisplay.from_estimator.\n",
            "  warnings.warn(msg, category=FutureWarning)\n"
          ]
        },
        {
          "output_type": "execute_result",
          "data": {
            "text/plain": [
              "<sklearn.metrics._plot.confusion_matrix.ConfusionMatrixDisplay at 0x7f496f87fdd0>"
            ]
          },
          "metadata": {},
          "execution_count": 72
        },
        {
          "output_type": "display_data",
          "data": {
            "image/png": "[encoded data removed]",
            "text/plain": [
              "<Figure size 432x288 with 2 Axes>"
            ]
          },
          "metadata": {
            "needs_background": "light"
          }
        }
      ]
    },
    {
      "cell_type": "markdown",
      "metadata": {
        "id": "kG8ZvHzCDBzN"
      },
      "source": [
        "% In progress showing better at classifying Bacteria for the further study than second attempt."
      ]
    },
    {
      "cell_type": "code",
      "metadata": {
        "colab": {
          "base_uri": "https://localhost:8080/"
        },
        "id": "JWf8afU8_Upg",
        "outputId": "591ebb4a-911d-46d7-b97c-5e0f27298b70"
      },
      "source": [
        "clf_svm = SVC(random_state=42, C=10, gamma=1,kernel='rbf')\n",
        "clf_svm.fit(x, y)"
      ],
      "execution_count": 75,
      "outputs": [
        {
          "output_type": "execute_result",
          "data": {
            "text/plain": [
              "SVC(C=10, gamma=1, random_state=42)"
            ]
          },
          "metadata": {},
          "execution_count": 75
        }
      ]
    },
    {
      "cell_type": "code",
      "metadata": {
        "colab": {
          "base_uri": "https://localhost:8080/",
          "height": 351
        },
        "id": "23-6gI5h_Y_4",
        "outputId": "6f4223b7-1820-4693-a638-05197560a200"
      },
      "source": [
        ""
      ],
      "execution_count": 76,
      "outputs": [
        {
          "output_type": "stream",
          "name": "stderr",
          "text": [
            "/usr/local/lib/python3.7/dist-packages/sklearn/utils/deprecation.py:87: FutureWarning: Function plot_confusion_matrix is deprecated; Function `plot_confusion_matrix` is deprecated in 1.0 and will be removed in 1.2. Use one of the class methods: ConfusionMatrixDisplay.from_predictions or ConfusionMatrixDisplay.from_estimator.\n",
            "  warnings.warn(msg, category=FutureWarning)\n"
          ]
        },
        {
          "output_type": "execute_result",
          "data": {
            "text/plain": [
              "<sklearn.metrics._plot.confusion_matrix.ConfusionMatrixDisplay at 0x7f496ad1ea90>"
            ]
          },
          "metadata": {},
          "execution_count": 76
        },
        {
          "output_type": "display_data",
          "data": {
            "image/png": "[encoded data removed]",
            "text/plain": [
              "<Figure size 432x288 with 2 Axes>"
            ]
          },
          "metadata": {
            "needs_background": "light"
          }
        }
      ]
    },
    {
      "cell_type": "code",
      "metadata": {
        "colab": {
          "base_uri": "https://localhost:8080/"
        },
        "id": "zhJnbhX_DaMp",
        "outputId": "d1e591f5-b8ee-48a9-ef8a-bc30e1b40907"
      },
      "source": [
        "# instantiate classifier with rbf kernel and C=10\n",
        "clf= svm.SVC(kernel = 'rbf', C = 10,gamma=1,probability=True)\n",
        "# fit classifier to predictors & target set\n",
        "clf.fit(x,y)\n",
        "# of support vectors in EACH class\n",
        "print(clf.n_support_) \n",
        "# indices of support vectors\n",
        "print(clf.support_)  \n",
        "# coefficients in ”dual” form\n",
        "print(clf.dual_coef_)  \n",
        "# make predictions on predictors set\n",
        "y_pred=clf.predict(x)\n",
        "yhat = clf.predict_proba(x) \n",
        "# compute and print accuracy score\n",
        "print('Model accuracy score with rbf kernel and C=10 : {0:0.4f}'. format(accuracy_score(y, y_pred)))\n"
      ],
      "execution_count": 94,
      "outputs": [
        {
          "output_type": "stream",
          "name": "stdout",
          "text": [
            "[681 188]\n",
            "[   0    1    3    5    6    7    8    9   10   11   12   13   16   18\n",
            "   19   20   21   22   23   24   28   29   32   36   37   38   40   41\n",
            "   42   46   47   48   49   50   52   53   60   61   64   66   67   68\n",
            "   69   70   71   72   73   76   77   78   79   80   81   82   83   87\n",
            "   88   91   93   94   95   96   99  100  101  102  103  104  105  106\n",
            "  107  108  109  110  111  114  115  116  120  122  125  126  127  128\n",
            "  130  131  133  134  135  136  138  139  141  142  143  147  148  149\n",
            "  151  152  154  158  160  161  162  165  166  168  169  170  173  176\n",
            "  177  180  181  182  184  185  191  192  193  194  198  230  232  233\n",
            "  235  236  237  238  239  240  242  243  246  247  248  249  254  255\n",
            "  258  261  262  263  264  265  267  268  270  271  272  273  274  276\n",
            "  277  278  279  281  284  285  286  287  290  291  292  293  294  295\n",
            "  296  299  300  301  302  303  304  305  306  309  311  312  313  316\n",
            "  318  319  320  323  325  330  331  334  335  336  337  340  342  343\n",
            "  345  348  350  351  352  357  358  359  360  361  363  366  369  372\n",
            "  374  376  379  381  382  383  384  385  388  389  390  394  397  398\n",
            "  399  401  402  405  406  408  412  414  415  416  419  420  421  423\n",
            "  424  426  427  428  429  435  436  440  442  443  445  446  447  449\n",
            "  451  453  456  459  460  463  466  467  469  471  472  476  478  480\n",
            "  481  482  486  488  492  493  494  496  501  504  508  510  511  513\n",
            "  514  515  516  517  518  523  524  527  528  530  532  533  534  535\n",
            "  538  539  540  541  542  544  545  547  551  552  553  555  556  557\n",
            "  558  559  561  562  563  564  566  567  568  569  570  571  573  574\n",
            "  575  576  577  579  580  581  586  588  589  590  592  594  595  601\n",
            "  608  609  611  613  614  615  616  618  619  621  627  628  630  631\n",
            "  635  636  637  639  640  641  644  646  649  654  658  660  662  663\n",
            "  664  665  667  668  669  670  671  672  678  679  680  681  682  684\n",
            "  685  686  687  688  692  694  695  696  700  701  703  705  706  709\n",
            "  710  711  712  713  714  715  716  717  718  719  720  722  724  729\n",
            "  732  739  740  741  742  743  744  749  754  757  758  766  767  768\n",
            "  769  770  774  775  778  781  782  783  785  786  787  789  793  795\n",
            "  798  801  802  803  804  806  807  808  811  812  814  816  817  818\n",
            "  824  825  830  831  832  837  840  843  848  850  852  853  854  856\n",
            "  857  858  859  861  862  863  864  865  866  867  870  872  876  877\n",
            "  878  881  882  885  892  893  895  896  903  907  909  910  913  916\n",
            "  918  919  920  921  922  925  927  928  931  937  938  941  942  945\n",
            "  949  950  952  953  954  956  959  961  962  964  967  968  970  971\n",
            "  974  975  976  981  982  984  990  994  997  998  999 1000 1001 1002\n",
            " 1003 1004 1005 1007 1009 1010 1011 1012 1013 1015 1016 1017 1019 1020\n",
            " 1021 1022 1024 1025 1026 1028 1029 1031 1032 1033 1034 1035 1036 1037\n",
            " 1038 1039 1040 1043 1044 1045 1046 1047 1049 1050 1051 1052 1053 1056\n",
            " 1057 1058 1059 1061 1062 1063 1064 1065 1066 1068 1069 1070 1072 1073\n",
            " 1074 1075 1077 1079 1080 1081 1082 1083 1084 1085 1088 1090 1091 1092\n",
            " 1093 1094 1095 1097 1098 1103 1104 1105 1106 1107 1108 1110 1111 1112\n",
            " 1113 1114 1115 1116 1117 1120 1123 1124 1125 1126 1128 1129 1130 1132\n",
            " 1133 1134 1136 1137 1138 1139 1141 1142 1143 1144 1145 1146 1148 1150\n",
            " 1152 1153 1155 1156 1157 1158 1163 1164 1165 1167 1168 1173 1175 1179\n",
            " 1180 1182 1183 1184 1186 1187 1188 1190 1191 1194 1196 1197 1200 1203\n",
            " 1204 1206 1207 1208 1209 1212 1214 1215 1216    4   15   17   31   35\n",
            "   43   56   58   62   74   98  119  123  124  132  144  163  164  167\n",
            "  183  203  214  219  220  221  225  228  229  234  241  245  250  251\n",
            "  252  256  257  259  260  266  282  283  288  289  297  298  307  315\n",
            "  317  321  322  326  328  329  332  333  338  339  341  362  373  375\n",
            "  377  378  380  387  392  410  411  417  422  430  431  432  433  437\n",
            "  438  439  441  457  462  468  474  487  489  490  491  495  497  498\n",
            "  502  519  521  525  550  554  578  583  584  585  593  596  597  599\n",
            "  604  610  617  623  624  632  657  677  702  708  723  727  728  730\n",
            "  734  735  746  752  761  780  784  790  791  794  796  797  799  815\n",
            "  819  821  823  826  833  834  836  846  849  855  874  875  884  887\n",
            "  888  891  894  902  914  923  929  933  934  936  939  943  944  946\n",
            "  948  965  966  978  979  985  991  993  995  996 1008 1018 1023 1030\n",
            " 1067 1078 1109 1140 1147 1162 1170 1171 1174 1176 1178 1185 1193 1199\n",
            " 1213]\n",
            "[[-1.71061313e-01 -1.75252453e-01 -3.49804408e-01 -1.12415944e+00\n",
            "  -7.28040338e-03 -3.68411558e-01 -1.35633696e-01 -1.84132799e-01\n",
            "  -3.05007226e-01 -3.04975058e-01 -3.64347551e-01 -1.19197566e+00\n",
            "  -3.58827528e-01 -7.33790376e-01 -3.04479557e-01 -7.68783401e-02\n",
            "  -3.37054437e-01 -3.46295899e-01 -1.01848911e-01 -8.51483144e-02\n",
            "  -3.71455890e-01 -2.67171223e-01 -3.62373990e-01 -1.15957600e-01\n",
            "  -5.11323515e-02 -3.17869014e-01 -1.92903743e-01 -2.73601773e-01\n",
            "  -1.61126863e-01 -5.58183328e-01 -2.53416469e-01 -1.76667703e-01\n",
            "  -2.72054713e-01 -3.59035946e-01 -6.39951862e-01 -2.77331746e-01\n",
            "  -2.05885705e-01 -1.36405707e-01 -3.41565597e-01 -2.36311388e-01\n",
            "  -1.52410736e-01 -1.56690961e-01 -2.90288380e-01 -1.46758015e-01\n",
            "  -2.40131137e-01 -3.73623102e-01 -1.97104561e-01 -8.54584614e-01\n",
            "  -5.48924030e-01 -2.61648956e-01 -1.78378942e-01 -1.15405917e+00\n",
            "  -3.09036991e-01 -1.18013402e-01 -3.97903348e-02 -4.39758816e-01\n",
            "  -2.53554838e-01 -1.24898983e-01 -9.64155358e-02 -3.70362516e-02\n",
            "  -2.01738504e-01 -2.67285373e-01 -3.09204321e-01 -3.62999258e-01\n",
            "  -9.67071275e-02 -3.63027756e-01 -1.16999928e-01 -5.01598245e-02\n",
            "  -1.55765364e-01 -7.76608178e-02 -5.15774589e-02 -6.11940708e-01\n",
            "  -5.77026825e-02 -6.22630360e-02 -1.47833797e-01 -1.92433209e-01\n",
            "  -8.35837983e-02 -3.37019158e-02 -1.40725492e-01 -3.04081526e-01\n",
            "  -2.57477305e-01 -5.51762513e-01 -1.76616125e-01 -7.92371600e-01\n",
            "  -3.63016109e-01 -2.78154915e-01 -7.05028433e-02 -4.07681509e-02\n",
            "  -5.76140828e-01 -2.80078402e-01 -1.15728870e+00 -1.23323670e-01\n",
            "  -2.07849141e-01 -3.63161903e-01 -4.35115971e-01 -3.07811675e-01\n",
            "  -1.87907883e-01 -1.95376051e-02 -3.54573219e-01 -3.12599013e-01\n",
            "  -3.62873442e-01 -4.58736626e-01 -3.54515226e-01 -3.38509969e-01\n",
            "  -3.59733946e-01 -2.06061782e-01 -2.10420462e+00 -2.63659534e-01\n",
            "  -3.42318774e-01 -5.60160137e-02 -5.54349107e-01 -4.76800771e-02\n",
            "  -3.46581972e-01 -1.50362225e+00 -5.43572849e-01 -1.36229717e-01\n",
            "  -3.62658091e-01 -1.40918396e-01 -5.80742863e-02 -7.41321988e-02\n",
            "  -4.78198496e+00 -9.26738055e-01 -1.35461318e-01 -1.89288647e-01\n",
            "  -5.72839540e-02 -3.16986818e-02 -3.87680638e-01 -3.60842400e-01\n",
            "  -2.51351612e-01 -2.82616474e-02 -1.32264606e-01 -2.38334523e-02\n",
            "  -2.92108300e-01 -2.43665009e-01 -5.06561841e-02 -2.34203887e-02\n",
            "  -9.04964217e-02 -4.31561307e-02 -4.55249058e-01 -3.36831331e-01\n",
            "  -2.55697612e-01 -1.60367227e-01 -1.00302226e-01 -4.72966114e-02\n",
            "  -1.35381012e-01 -3.62919831e-01 -1.92983244e-01 -3.55491746e-01\n",
            "  -2.76592376e-01 -1.26421633e+00 -1.50097906e-01 -5.75415830e-02\n",
            "  -2.06723371e+00 -5.18190390e-01 -3.04647143e-01 -7.09939207e+00\n",
            "  -1.09228558e-01 -2.52228964e-01 -2.62344364e-01 -1.21553340e-01\n",
            "  -3.29933608e-01 -3.58534177e-01 -1.98425036e-01 -6.87383768e+00\n",
            "  -3.65735317e-01 -4.28751681e+00 -3.60877268e-01 -1.92936669e-01\n",
            "  -1.57579265e-01 -2.06427516e-01 -3.63153231e-01 -1.31097557e+00\n",
            "  -1.28365613e-01 -3.63165050e-01 -3.63105101e-01 -1.64153035e+00\n",
            "  -3.09444429e-01 -1.48896972e+00 -3.62886930e-01 -4.24303992e-01\n",
            "  -3.48023392e+00 -1.85704339e-01 -9.02967425e-01 -3.61131239e-01\n",
            "  -1.24204927e-02 -7.68475560e-01 -5.33948352e+00 -1.49481784e-01\n",
            "  -1.89301330e-01 -2.89895527e-01 -1.46012381e+00 -4.87973626e-02\n",
            "  -1.67744473e-01 -2.90294364e-01 -5.54505856e-01 -2.87156652e-01\n",
            "  -7.25519496e-02 -3.62085712e-01 -3.40878239e-01 -2.04576203e-01\n",
            "  -3.68015741e-02 -3.04843622e-01 -2.25003629e-01 -2.58616713e-01\n",
            "  -8.76118618e-02 -3.80494712e-01 -7.50285421e-01 -1.52669847e-01\n",
            "  -1.56795697e-01 -6.32323639e-02 -1.21528828e-01 -2.40749377e-01\n",
            "  -2.92271348e-01 -3.60068837e-01 -1.74872771e+00 -2.01277317e-03\n",
            "  -2.54109944e-01 -3.56947797e-01 -2.97727542e-01 -3.42778528e-01\n",
            "  -3.30117506e-01 -3.52492648e-01 -3.47491758e-01 -5.46108794e-01\n",
            "  -2.48880307e-01 -2.99822906e-01 -7.25387219e-02 -1.20196259e+00\n",
            "  -1.65420409e-01 -1.61943693e-01 -3.62107631e-01 -3.48882303e-01\n",
            "  -2.41423662e-01 -2.51997979e-02 -2.80249312e-01 -3.39723124e-01\n",
            "  -2.13729431e-01 -1.24293205e-02 -5.16462908e-02 -3.54151643e-01\n",
            "  -7.96348687e-02 -2.53569487e-01 -1.07771175e-01 -2.99708897e-01\n",
            "  -1.58604008e-01 -3.55708486e-02 -9.47302682e-02 -6.62971837e-02\n",
            "  -1.33156129e-01 -7.98489823e-03 -2.33904719e-01 -4.29191686e-02\n",
            "  -3.60598387e-01 -1.38997080e-02 -3.40641817e-01 -3.62810955e-01\n",
            "  -1.76238852e-01 -4.10084105e-01 -2.71767168e-01 -1.44218311e-02\n",
            "  -2.38260867e-01 -2.71154604e-01 -6.42375983e-02 -2.93006940e-01\n",
            "  -1.32585216e-01 -8.07653859e-02 -3.98025892e-01 -2.79255096e-01\n",
            "  -1.00483205e-01 -3.62680989e-01 -3.63011905e-01 -1.65009648e-01\n",
            "  -1.94813098e-01 -2.18479617e-01 -6.48383690e-02 -2.48410802e-01\n",
            "  -1.14498589e-02 -6.41790174e-02 -2.58553470e-01 -3.12286129e-01\n",
            "  -2.49153298e+00 -1.02726055e+00 -2.10370935e+00 -5.41772221e-01\n",
            "  -7.71819936e-02 -2.05409770e-01 -2.02428479e-01 -1.75504282e-01\n",
            "  -6.20374752e+00 -3.62972103e-01 -8.73876121e-01 -9.39570043e-01\n",
            "  -3.58690387e-01 -4.35366023e-02 -2.94277091e-01 -9.16780281e-02\n",
            "  -2.14175717e-01 -3.55305871e-01 -1.52260910e-01 -2.64411567e-02\n",
            "  -1.60950530e+00 -3.77582561e-01 -3.22326663e-01 -1.87809753e-01\n",
            "  -4.56885805e-01 -7.94596496e-01 -8.67981331e-03 -2.66682148e-01\n",
            "  -3.59875779e-02 -2.31674854e-01 -2.20859791e-01 -3.59119423e-01\n",
            "  -8.48290144e-01 -3.34990721e-01 -2.08950404e-01 -1.08052731e-02\n",
            "  -2.58026040e-02 -3.44405516e-01 -6.47233263e-01 -1.52413438e-01\n",
            "  -2.90942492e-01 -5.54916313e-02 -2.38032561e+00 -3.71969745e+00\n",
            "  -8.04779558e-02 -2.31347945e-01 -1.70352884e+00 -5.27328030e-02\n",
            "  -3.70601517e+00 -1.24188701e-01 -2.38486977e-01 -4.03449927e-01\n",
            "  -1.53519413e-01 -4.08821431e-03 -3.81666267e-02 -2.93191665e-01\n",
            "  -1.88244994e+00 -1.27579034e+00 -1.64429426e+00 -2.97924472e-01\n",
            "  -1.24164682e-01 -1.06123346e-01 -1.99988462e-01 -1.81196600e-01\n",
            "  -1.78040669e-01 -1.06435030e+00 -1.33549665e-01 -7.44492051e-02\n",
            "  -8.10049372e-02 -7.58241185e-02 -1.03487134e-01 -2.43733064e-01\n",
            "  -4.93054624e-02 -4.87343733e-02 -9.23767451e-02 -1.42752060e-01\n",
            "  -3.59653932e-01 -3.01773803e-01 -8.98871326e-02 -2.80518740e-01\n",
            "  -2.37594307e-01 -7.43419883e-02 -1.10074920e-01 -2.92228419e-02\n",
            "  -1.10311793e-01 -1.89777892e-01 -2.00174310e-01 -3.55053504e-01\n",
            "  -2.26340996e-01 -2.44356421e-02 -4.58879808e-02 -3.62830001e-01\n",
            "  -1.96513630e-01 -4.09993572e-02 -1.27549820e-01 -3.57897513e-01\n",
            "  -3.62915536e-01 -3.36569498e-01 -3.12447197e-01 -2.31275190e-01\n",
            "  -1.89421864e-01 -4.63869923e-02 -1.61514501e-02 -1.81490605e-01\n",
            "  -2.45734357e-01 -4.08388490e-02 -5.27956229e-02 -7.38172959e-02\n",
            "  -1.60770899e-01 -1.16245881e-01 -3.63025455e-01 -2.44737359e-01\n",
            "  -1.51798805e-01 -1.01655828e-01 -1.73427275e-01 -1.12631294e-02\n",
            "  -8.96422501e-02 -3.48595533e-01 -4.96006914e-02 -4.11641713e-02\n",
            "  -8.83265654e-02 -3.14600030e-01 -3.43395537e-01 -2.06437954e-01\n",
            "  -9.46871011e-02 -4.81592977e-01 -1.20319463e-01 -3.62838085e-01\n",
            "  -2.66381512e-01 -3.42330830e-01 -1.17769147e-01 -3.13231357e-01\n",
            "  -1.51993531e+00 -4.62280123e-01 -3.62881866e-01 -2.12326717e-01\n",
            "  -9.73123535e-02 -4.59275097e-02 -1.88394948e-01 -1.39133975e-01\n",
            "  -1.14873284e-01 -1.10288434e-02 -1.86954650e-01 -5.14199877e-03\n",
            "  -1.69038251e-01 -5.80452165e-02 -6.32545476e-02 -3.32458996e-01\n",
            "  -2.17589782e-02 -3.20620875e-01 -2.89224678e-01 -1.07684422e-02\n",
            "  -3.21272600e-01 -1.33338609e-02 -7.06353251e-02 -1.41989807e-01\n",
            "  -1.62174298e-01 -5.71086835e-02 -1.65426359e-02 -2.99809515e-01\n",
            "  -2.93447949e-01 -3.12874144e-01 -1.34868733e+00 -1.33182452e-01\n",
            "  -1.91617020e-02 -2.05027026e-01 -4.59044571e-02 -1.09507858e+00\n",
            "  -3.60525820e-01 -4.39383039e-01 -1.29811877e-03 -1.99190873e-01\n",
            "  -3.46042451e-01 -1.47458068e-01 -1.58860243e-01 -7.42872356e-02\n",
            "  -3.62572573e-01 -2.61988987e-01 -1.20989949e+00 -2.01431862e-01\n",
            "  -2.13563978e-01 -3.61926447e-01 -2.60502213e-01 -3.88996236e-02\n",
            "  -4.62481951e-01 -1.12452812e-01 -1.39004716e-01 -1.24646817e-01\n",
            "  -4.65559798e-02 -1.24344384e-01 -2.60697492e-01 -1.39537264e-01\n",
            "  -3.09200606e-01 -1.67178675e+00 -3.61829064e-01 -2.46571846e-01\n",
            "  -2.13006582e-02 -3.53241970e-01 -2.65249219e-01 -1.14077805e+00\n",
            "  -3.63026051e-01 -3.57244291e-01 -1.56486857e+00 -2.07217338e-01\n",
            "  -1.01189530e-01 -1.76356068e+00 -5.78739304e-01 -3.37268339e-01\n",
            "  -3.68555846e-01 -7.53812790e-02 -3.45329907e-01 -5.47391222e-02\n",
            "  -3.62931217e-01 -3.49920045e-01 -1.17720589e-01 -2.80840962e-02\n",
            "  -1.12232223e+00 -8.01364216e-02 -5.74191846e-01 -2.01839979e+00\n",
            "  -3.77058483e-01 -3.62136421e-01 -3.07751798e-01 -3.59549924e-01\n",
            "  -1.86538736e-01 -3.23705972e-01 -2.48903204e-01 -2.03067372e-01\n",
            "  -8.97668032e-02 -2.24179319e-02 -5.49039166e-02 -1.03883108e-01\n",
            "  -1.18677603e-01 -8.72021450e-01 -6.54044640e-03 -2.35993892e-02\n",
            "  -1.81751185e-01 -1.70606708e-01 -1.46052553e-02 -3.51619114e-02\n",
            "  -4.78302870e-01 -1.46654099e-01 -1.17142052e-01 -7.80195574e-01\n",
            "  -2.80765021e-01 -3.06804667e-01 -2.19416385e-01 -3.61993027e-01\n",
            "  -1.64736135e-01 -3.63094418e-01 -1.02074527e-01 -2.12897596e-01\n",
            "  -1.44389415e-01 -2.02390866e-01 -1.57432460e-01 -1.99255130e-01\n",
            "  -1.68717324e-01 -1.22897628e-01 -8.31255968e-01 -1.48050641e-01\n",
            "  -3.62581944e-01 -3.02665804e-01 -2.14049228e-01 -1.01050386e-01\n",
            "  -3.44025539e-01 -2.93617316e-01 -3.42196734e-01 -3.61954005e-01\n",
            "  -6.20136982e-01 -3.62760577e-01 -1.76865105e-01 -7.13185603e-01\n",
            "  -1.14887841e+00 -1.75696814e-01 -1.32429377e-02 -5.99430720e-01\n",
            "  -3.63236126e-01 -1.30179583e-01 -2.03755313e-01 -9.78256490e-02\n",
            "  -2.81811191e-01 -3.43715677e-01 -1.33879770e+00 -1.81697787e-01\n",
            "  -2.53252634e+00 -1.64529816e-01 -2.15170976e-01 -1.83814756e-01\n",
            "  -6.72870431e+00 -3.35067903e-01 -5.69468329e-01 -5.52799968e-02\n",
            "  -4.08647963e-02 -3.63035240e-01 -3.62989124e-01 -3.33413045e-01\n",
            "  -1.13304594e+00 -7.47074090e-02 -6.99860803e-02 -1.51630973e+00\n",
            "  -6.06794911e-01 -3.64385474e-01 -1.40493200e+00 -6.36695908e-02\n",
            "  -7.39981411e-01 -5.65849561e+00 -1.16687635e+00 -2.19185504e-01\n",
            "  -5.93845618e-01 -9.10899512e-02 -4.18563565e+00 -2.05203636e-02\n",
            "  -2.19168326e-01 -5.17327177e+00 -2.01566278e-01 -2.63677163e-02\n",
            "  -1.38022456e-01 -7.35678728e-01 -1.88454025e-01 -3.98173340e+00\n",
            "  -3.62925125e-01 -2.78744406e-01 -1.99252393e+00 -3.48981873e-01\n",
            "  -2.47175399e-01 -7.88683091e-01 -1.76643948e-01 -7.07904871e-01\n",
            "  -1.12844138e+00 -4.63185937e-01 -1.73998018e+00 -3.42715422e-01\n",
            "  -1.56736210e+00 -3.82708252e-02 -2.79787186e-01 -2.53156497e+00\n",
            "  -5.06233282e+00 -2.02799756e+00 -3.72445885e-01 -1.77617346e-01\n",
            "  -9.28936286e-01 -1.97509730e-01 -2.09420072e-01 -4.50198047e+00\n",
            "  -1.31133150e+00 -1.95931432e+00 -3.55490560e-01 -3.33243146e-01\n",
            "  -3.49386879e-01 -1.47581089e+00 -1.85003096e+00 -6.45618844e-01\n",
            "  -3.18302924e+00 -1.95422164e-01 -8.10760858e-01 -3.70439607e-01\n",
            "  -1.57483295e-01 -2.89244317e+00 -4.27466937e+00 -1.88807536e+00\n",
            "  -9.28786986e-02 -9.81457848e-02 -2.09106858e-01 -1.44174553e-01\n",
            "  -1.49118061e-01 -1.98740625e-02 -3.52817957e-01 -2.30029240e-01\n",
            "  -1.30550258e+00 -2.06928319e-01 -1.65278894e-01 -1.20770147e-01\n",
            "  -4.56344460e-02 -1.20251006e-02 -1.09621886e-01 -2.18622694e+00\n",
            "  -2.32439478e-01 -6.25271676e-02 -1.57727274e-01 -8.38391342e-02\n",
            "  -3.04511480e-01 -1.25142092e+00 -2.78600112e-01 -1.56172452e+00\n",
            "  -1.55714070e+00 -1.71416499e+00 -1.96691703e-01 -2.93336188e-01\n",
            "  -3.25527212e+00 -1.74654567e-01 -7.68091375e-01 -2.29951737e-01\n",
            "  -6.66939179e-01 -3.34866034e-01 -6.62638406e-01 -2.29380593e-01\n",
            "  -5.79029875e-01 -1.08322504e-02 -1.29631159e-01 -2.38951336e-01\n",
            "  -1.79953642e-01  2.52837570e+00  1.91885531e+00  1.44595451e+00\n",
            "   1.62767275e+00  1.20546217e+00  1.18730557e+00  1.58784039e+00\n",
            "   1.23046985e+00  2.27636027e+00  2.70574262e+00  2.11591278e+00\n",
            "   2.96912332e-01  1.01848741e+00  1.16019297e+00  2.99643534e-01\n",
            "   1.31005229e+00  1.17536088e+00  1.63677269e+00  1.28087679e+00\n",
            "   1.96107350e+00  1.94201702e-02  4.28646081e+00  4.01091852e-02\n",
            "   4.83029991e-02  1.82572419e-02  1.35097039e-02  2.72814914e-02\n",
            "   1.87682117e-02  2.51139819e+00  7.52697193e-01  1.00000000e+01\n",
            "   7.27916175e+00  4.92336931e+00  3.28912828e+00  5.48864636e+00\n",
            "   9.34489056e-01  1.53502961e+00  2.25072420e+00  9.18971682e-01\n",
            "   1.56142165e+00  1.80827807e+00  4.36151370e-01  1.63677568e+00\n",
            "   1.16131840e+00  6.33070573e-01  5.76883092e-02  1.08735515e+00\n",
            "   1.25452918e+00  1.25710898e+00  1.60281498e+00  3.24801425e+00\n",
            "   4.63946261e+00  1.74947411e+00  1.63881990e+00  8.26596218e-01\n",
            "   1.46465582e+00  2.55537986e+00  1.76563950e+00  1.11238860e+00\n",
            "   1.42514132e+00  1.74817133e+00  7.81147824e-01  1.31135443e+00\n",
            "   1.11831527e+00  1.46652180e+00  6.71649608e-01  5.44129867e-01\n",
            "   2.16564369e+00  2.05765264e+00  1.66550809e+00  7.65419819e-01\n",
            "   9.73658795e-01  8.84997294e-01  3.06886892e+00  1.34109748e+00\n",
            "   1.88125221e+00  1.58824021e+00  4.96434848e-01  1.94620864e+00\n",
            "   6.12867284e+00  4.53197698e+00  2.92824819e-01  6.44890373e-01\n",
            "   1.35751238e+00  1.54945162e+00  2.36843967e+00  3.89715227e+00\n",
            "   1.30660394e+00  1.64431368e+00  1.23575895e+00  3.29301198e+00\n",
            "   6.43191985e+00  4.22355484e+00  1.57763768e+00  2.28804847e-01\n",
            "   1.09978834e+00  4.67007729e+00  1.18148746e+00  4.22486650e+00\n",
            "   1.26323224e+00  3.81597868e-01  2.00628245e+00  1.43731463e+00\n",
            "   1.93597543e+00  1.47584648e+00  2.01133005e+00  1.08097592e+00\n",
            "   5.18178800e+00  1.19649365e+00  8.65790857e-01  6.78185100e-01\n",
            "   8.89198904e-01  2.31131155e+00  3.94066864e-01  9.60542868e-01\n",
            "   1.89784123e+00  2.76070497e-01  1.11952293e-01  4.16000515e-01\n",
            "   1.25760739e+00  1.37881016e+00  1.03554374e+00  2.03974736e+00\n",
            "   1.23939626e+00  2.05461495e+00  1.83340943e+00  1.05716571e+00\n",
            "   1.15185624e+00  3.54584058e+00  3.73789443e+00  2.57134808e+00\n",
            "   1.21053694e+00  1.34905526e+00  8.88521327e-01  2.30324768e+00\n",
            "   2.03980797e+00  2.94690808e+00  7.89562770e-01  1.42605256e+00\n",
            "   1.67855523e+00  1.03401643e+00  1.33503622e+00  6.91823849e-01\n",
            "   1.85412356e+00  7.18915428e-01  3.73537010e+00  1.44940428e+00\n",
            "   3.06208037e-01  1.63609912e-01  1.93620863e+00  2.10766176e+00\n",
            "   2.25598212e+00  4.59084314e+00  1.17654807e+00  1.26570729e+00\n",
            "   4.79776691e+00  4.75685893e+00  2.83678723e+00  1.73302438e+00\n",
            "   2.68883304e+00  1.60881028e+00  7.46513460e-01  1.61010280e+00\n",
            "   9.99762037e-01  4.58221069e+00  3.39386586e+00  6.90206668e-01\n",
            "   1.36242625e+00  5.80877533e-01  1.46986560e+00  1.41365333e+00\n",
            "   1.26444975e+00  1.04641737e+00  1.05727531e+00  1.56598735e+00\n",
            "   1.20978710e+00  3.64144228e+00  2.38794849e+00  7.40692574e-01\n",
            "   8.06871827e-01  7.52702869e-01  3.79322591e-01  1.19956885e+00\n",
            "   5.19134237e-01  1.77170243e+00  5.41767413e-01  1.21677208e+00\n",
            "   1.22313397e+00]]\n",
            "Model accuracy score with rbf kernel and C=10 : 1.0000\n"
          ]
        }
      ]
    },
    {
      "cell_type": "code",
      "metadata": {
        "colab": {
          "base_uri": "https://localhost:8080/"
        },
        "id": "MePjcdWaESaZ",
        "outputId": "dd47aeea-0534-47ad-ff94-36b1230b4f6f"
      },
      "source": [
        "print(y.shape, y.size)\n",
        "print(y_pred)\n",
        "print(yhat)"
      ],
      "execution_count": 95,
      "outputs": [
        {
          "output_type": "stream",
          "name": "stdout",
          "text": [
            "(1217,) 1217\n",
            "[0 0 0 ... 0 0 0]\n",
            "[[0.95674689 0.04325311]\n",
            " [0.95673417 0.04326583]\n",
            " [0.97701012 0.02298988]\n",
            " ...\n",
            " [0.95680701 0.04319299]\n",
            " [0.95679213 0.04320787]\n",
            " [0.95676655 0.04323345]]\n"
          ]
        }
      ]
    },
    {
      "cell_type": "code",
      "metadata": {
        "colab": {
          "base_uri": "https://localhost:8080/"
        },
        "id": "B9d5zqMwFn41",
        "outputId": "70bfa62a-eacc-41fa-c130-4e623ee49424"
      },
      "source": [
        "# compute ROC AUC\n",
        "\n",
        "from sklearn.metrics import roc_auc_score\n",
        "\n",
        "ROC_AUC = roc_auc_score(y, y_pred)\n",
        "\n",
        "print('ROC AUC : {:.4f}'.format(ROC_AUC))"
      ],
      "execution_count": 97,
      "outputs": [
        {
          "output_type": "stream",
          "name": "stdout",
          "text": [
            "ROC AUC : 1.0000\n"
          ]
        }
      ]
    },
    {
      "cell_type": "markdown",
      "metadata": {
        "id": "PV9ygsA0O2vr"
      },
      "source": [
        "% EXPERIMENT FOR ROC CURVE PLOT * EACH CLASS "
      ]
    },
    {
      "cell_type": "code",
      "metadata": {
        "colab": {
          "base_uri": "https://localhost:8080/"
        },
        "id": "EK93xe71OR3w",
        "outputId": "f71bc47f-7f69-450f-e058-acb68fe3e9e2"
      },
      "source": [
        "clf_svm = SVC(random_state=42, C=10, gamma=0.1,kernel='rbf')\n",
        "clf_svm.fit(x,y)"
      ],
      "execution_count": 130,
      "outputs": [
        {
          "output_type": "execute_result",
          "data": {
            "text/plain": [
              "SVC(C=10, gamma=0.1, random_state=42)"
            ]
          },
          "metadata": {},
          "execution_count": 130
        }
      ]
    },
    {
      "cell_type": "code",
      "metadata": {
        "colab": {
          "base_uri": "https://localhost:8080/",
          "height": 350
        },
        "id": "MpUKB5FjOXvc",
        "outputId": "f12dacb4-298b-4a07-83c0-44e90181ae95"
      },
      "source": [
        "plot_confusion_matrix(clf_svm,\n",
        "                      x,\n",
        "                      y,\n",
        "                      display_labels=['No further study', 'further study'])"
      ],
      "execution_count": 131,
      "outputs": [
        {
          "output_type": "stream",
          "name": "stderr",
          "text": [
            "/usr/local/lib/python3.7/dist-packages/sklearn/utils/deprecation.py:87: FutureWarning: Function plot_confusion_matrix is deprecated; Function `plot_confusion_matrix` is deprecated in 1.0 and will be removed in 1.2. Use one of the class methods: ConfusionMatrixDisplay.from_predictions or ConfusionMatrixDisplay.from_estimator.\n",
            "  warnings.warn(msg, category=FutureWarning)\n"
          ]
        },
        {
          "output_type": "execute_result",
          "data": {
            "text/plain": [
              "<sklearn.metrics._plot.confusion_matrix.ConfusionMatrixDisplay at 0x7f496a6c9790>"
            ]
          },
          "metadata": {},
          "execution_count": 131
        },
        {
          "output_type": "display_data",
          "data": {
            "image/png": "[encoded data removed]",
            "text/plain": [
              "<Figure size 432x288 with 2 Axes>"
            ]
          },
          "metadata": {
            "needs_background": "light"
          }
        }
      ]
    },
    {
      "cell_type": "code",
      "metadata": {
        "colab": {
          "base_uri": "https://localhost:8080/"
        },
        "id": "vl5UNu6qOoBV",
        "outputId": "6c0a85bd-4bb3-4373-efe6-628ff44294e7"
      },
      "source": [
        "# instantiate classifier with rbf kernel and C=10\n",
        "clf= svm.SVC(probability=True, C=10, gamma=0.1,kernel='rbf')\n",
        "# fit classifier to predictors & target set\n",
        "clf.fit(x,y)\n",
        "# of support vectors in EACH class\n",
        "print(clf.n_support_) \n",
        "# indices of support vectors\n",
        "print(clf.support_)  \n",
        "# coefficients in ”dual” form\n",
        "print(clf.dual_coef_)  \n",
        "# make predictions on predictors set\n",
        "y_pred=clf.predict(x)\n",
        "yhat = clf.predict_proba(x) \n",
        "# compute and print accuracy score\n",
        "print('Model accuracy score with rbf kernel and C=10 : {0:0.4f}'. format(accuracy_score(y, y_pred)))\n"
      ],
      "execution_count": 137,
      "outputs": [
        {
          "output_type": "stream",
          "name": "stdout",
          "text": [
            "[163 117]\n",
            "[   3   12   28   29   51   52   53   68   70   76   77   86  100  102\n",
            "  108  130  135  142  143  166  176  188  193  261  265  271  274  277\n",
            "  278  291  299  300  303  304  305  309  312  313  318  325  335  342\n",
            "  361  363  382  389  405  416  471  485  488  492  514  515  527  528\n",
            "  530  532  533  545  562  563  564  570  575  576  580  586  589  590\n",
            "  601  606  608  609  611  621  672  682  694  706  729  743  744  754\n",
            "  818  831  832  852  872  885  892  907  921  927  941  945  964  971\n",
            "  972  987  994 1000 1011 1013 1022 1024 1027 1028 1029 1033 1034 1040\n",
            " 1044 1049 1051 1056 1057 1063 1064 1066 1070 1072 1074 1077 1081 1083\n",
            " 1085 1090 1091 1093 1097 1102 1106 1108 1112 1113 1114 1117 1124 1125\n",
            " 1126 1128 1129 1130 1132 1133 1134 1136 1138 1141 1142 1143 1144 1157\n",
            " 1173 1179 1184 1187 1188 1190 1203 1207 1215    4   17   31   35   43\n",
            "   56   74   98  123  124  144  163  164  167  183  203  214  219  220\n",
            "  221  225  228  229  234  245  250  251  252  256  259  260  289  297\n",
            "  321  322  326  328  329  332  333  338  339  341  373  375  380  417\n",
            "  422  432  433  438  439  457  462  465  489  491  495  497  498  519\n",
            "  521  525  550  578  583  585  597  604  610  617  623  624  632  657\n",
            "  673  699  702  708  723  725  728  735  780  784  790  791  796  797\n",
            "  799  815  826  834  836  849  875  884  888  914  923  929  933  936\n",
            "  939  943  944  946  948  965  978  985  991  996 1008 1140 1170 1213]\n",
            "[[-1.79480910e-01 -1.67058782e+00 -5.86352838e-01 -4.60451405e+00\n",
            "  -1.97344524e+00 -1.00000000e+01 -1.00000000e+01 -8.75286066e-01\n",
            "  -1.10917434e+00 -1.00000000e+01 -1.00000000e+01 -1.56187454e+00\n",
            "  -1.68009125e-01 -6.07741802e-02 -8.73271731e-01 -2.46044258e-01\n",
            "  -3.60293216e+00 -2.16136516e-01 -4.21637461e+00 -1.00000000e+01\n",
            "  -4.69925244e+00 -3.30998084e+00 -1.40703110e+00 -2.94642017e+00\n",
            "  -1.38535467e-01 -1.00000000e+01 -1.00000000e+01 -4.00951016e+00\n",
            "  -1.00000000e+01 -1.00000000e+01 -3.52624632e+00 -1.74579969e-01\n",
            "  -3.12057391e-01 -4.40278829e-01 -1.00000000e+01 -1.00000000e+01\n",
            "  -1.00000000e+01 -1.00000000e+01 -1.07617296e+00 -1.00000000e+01\n",
            "  -1.00000000e+01 -5.63894994e+00 -2.12078422e+00 -1.00000000e+01\n",
            "  -5.89620929e+00 -3.59114829e-01 -1.00000000e+01 -7.13783699e+00\n",
            "  -3.07543008e+00 -5.60594765e+00 -1.76049357e-01 -1.78359869e-01\n",
            "  -2.86585271e+00 -1.00000000e+01 -8.39312659e-01 -1.00000000e+01\n",
            "  -4.87684540e-01 -1.00000000e+01 -8.41332877e+00 -1.00000000e+01\n",
            "  -1.37018429e-01 -1.00000000e+01 -1.00000000e+01 -6.47412341e+00\n",
            "  -1.00000000e+01 -1.00000000e+01 -5.56861640e+00 -1.00000000e+01\n",
            "  -4.78405850e-02 -1.77474588e-02 -1.00000000e+01 -1.00000000e+01\n",
            "  -1.00000000e+01 -1.00000000e+01 -1.00000000e+01 -1.00000000e+01\n",
            "  -2.34327443e-01 -5.35620294e-02 -1.82399283e+00 -2.16539829e-01\n",
            "  -1.00000000e+01 -1.03904564e+00 -1.00000000e+01 -3.17593046e-03\n",
            "  -1.00000000e+01 -6.86292790e-01 -1.86815779e+00 -2.25897519e+00\n",
            "  -1.00000000e+01 -1.00000000e+01 -2.03917803e-01 -5.98655400e+00\n",
            "  -3.78470237e-02 -8.00292421e+00 -1.64021460e-02 -1.30991573e-01\n",
            "  -3.86477444e+00 -1.00000000e+01 -1.00000000e+01 -4.18035651e+00\n",
            "  -4.26139050e+00 -2.97336556e-01 -1.00000000e+01 -2.77075011e-01\n",
            "  -4.22762275e-01 -4.40699480e+00 -1.66701699e+00 -9.64263249e+00\n",
            "  -1.00000000e+01 -4.75173184e+00 -7.57523491e-02 -1.00000000e+01\n",
            "  -1.00000000e+01 -1.00000000e+01 -1.00000000e+01 -2.50185031e-01\n",
            "  -1.89369242e-01 -1.00000000e+01 -3.43710760e+00 -2.54370412e+00\n",
            "  -1.00000000e+01 -1.00000000e+01 -1.00000000e+01 -1.00000000e+01\n",
            "  -1.00000000e+01 -1.00000000e+01 -1.00000000e+01 -1.00000000e+01\n",
            "  -1.91014031e-01 -1.00000000e+01 -6.78213119e+00 -3.08394987e+00\n",
            "  -1.00000000e+01 -1.00000000e+01 -1.00000000e+01 -1.00000000e+01\n",
            "  -1.00000000e+01 -1.00000000e+01 -1.00000000e+01 -1.00000000e+01\n",
            "  -1.00000000e+01 -5.82088010e+00 -1.39196585e+00 -1.83870276e+00\n",
            "  -1.00000000e+01 -1.00000000e+01 -1.00000000e+01 -1.00000000e+01\n",
            "  -1.00000000e+01 -6.61302062e+00 -1.00000000e+01 -1.00000000e+01\n",
            "  -1.00000000e+01 -1.00000000e+01 -1.00000000e+01 -1.00000000e+01\n",
            "  -5.85994080e+00 -1.00000000e+01 -1.00000000e+01 -1.00000000e+01\n",
            "  -2.00148386e-01 -1.00000000e+01 -1.47610334e+00  1.00000000e+01\n",
            "   1.00000000e+01  1.45907564e+00  3.91558833e+00  1.00000000e+01\n",
            "   1.08554555e+00  1.00000000e+01  1.00000000e+01  3.96078197e+00\n",
            "   1.65371004e+00  1.00000000e+01  1.00000000e+01  1.27071400e+00\n",
            "   1.00000000e+01  1.00000000e+01  1.00000000e+01  1.00000000e+01\n",
            "   1.00000000e+01  1.00000000e+01  1.00000000e+01  1.00000000e+01\n",
            "   1.00000000e+01  7.63178559e+00  1.00000000e+01  1.00000000e+01\n",
            "   1.00000000e+01  1.00000000e+01  1.00000000e+01  1.00000000e+01\n",
            "   1.00000000e+01  1.00000000e+01  1.40068804e+00  1.00000000e+01\n",
            "   8.74903946e+00  2.88211156e-02  1.00000000e+01  1.00000000e+01\n",
            "   1.00000000e+01  5.03194431e-01  1.00000000e+01  9.03758739e+00\n",
            "   1.00000000e+01  1.00000000e+01  4.24679384e-01  4.02594586e+00\n",
            "   1.00000000e+01  1.00000000e+01  3.26472632e+00  2.67579672e+00\n",
            "   1.00000000e+01  1.00000000e+01  1.00000000e+01  1.00000000e+01\n",
            "   1.00000000e+01  7.70063373e+00  4.66934020e+00  1.00000000e+01\n",
            "   1.00000000e+01  4.38871355e+00  3.23987169e+00  1.00000000e+01\n",
            "   1.00000000e+01  1.00000000e+01  4.64112517e+00  1.00000000e+01\n",
            "   1.00000000e+01  1.00000000e+01  1.00000000e+01  1.00000000e+01\n",
            "   1.00000000e+01  1.00000000e+01  1.00000000e+01  1.00000000e+01\n",
            "   1.00000000e+01  2.28703956e+00  1.00000000e+01  5.83848322e+00\n",
            "   1.00000000e+01  1.00000000e+01  1.00000000e+01  1.00000000e+01\n",
            "   2.24932888e+00  1.00000000e+01  1.00000000e+01  1.00000000e+01\n",
            "   3.28956171e+00  1.00000000e+01  5.28272300e-01  1.00000000e+01\n",
            "   1.00000000e+01  1.00000000e+01  1.00000000e+01  1.00000000e+01\n",
            "   1.00000000e+01  1.00000000e+01  1.00000000e+01  1.00000000e+01\n",
            "   1.00000000e+01  1.00000000e+01  1.00000000e+01  1.00000000e+01\n",
            "   1.00000000e+01  1.00000000e+01  1.00000000e+01  1.00000000e+01\n",
            "   1.00000000e+01  1.00000000e+01  1.00000000e+01  1.00000000e+01\n",
            "   1.00000000e+01  1.00000000e+01  1.00000000e+01  1.00000000e+01\n",
            "   6.46859217e+00  6.88670207e+00  1.83794012e+00  1.00000000e+01]]\n",
            "Model accuracy score with rbf kernel and C=10 : 0.9523\n"
          ]
        }
      ]
    },
    {
      "cell_type": "code",
      "metadata": {
        "id": "boZ2g9j3F38L"
      },
      "source": [
        "# Compute ROC curve and ROC area for each class\n",
        "from sklearn.metrics import roc_curve, roc_auc_score, precision_recall_curve, confusion_matrix, auc, accuracy_score\n",
        "\n",
        "# class 0\n",
        "fpr_0, tpr_0, _ = roc_curve(y, yhat[:, 0],pos_label=0)\n",
        "roc_auc_0 = roc_auc_score(y, yhat[:, 0])\n",
        "\n"
      ],
      "execution_count": 138,
      "outputs": []
    },
    {
      "cell_type": "code",
      "metadata": {
        "colab": {
          "base_uri": "https://localhost:8080/",
          "height": 296
        },
        "id": "seqeMal3HtKm",
        "outputId": "b1671840-214f-43b2-fb1e-d580c31c2c21"
      },
      "source": [
        "# plot ROC curves\n",
        "print('roc_auc_0: ', roc_auc_0)\n",
        "\n",
        "plt.plot(fpr_0, tpr_0, marker='.', label='Class 0', color='b')\n",
        "\n",
        "plt.xlabel('False Positive Rate')\n",
        "plt.ylabel('True Positive Rate')\n",
        "plt.legend()\n",
        "plt.show()"
      ],
      "execution_count": 139,
      "outputs": [
        {
          "output_type": "stream",
          "name": "stdout",
          "text": [
            "roc_auc_0:  0.021283185840707968\n"
          ]
        },
        {
          "output_type": "display_data",
          "data": {
            "image/png": "[encoded data removed]",
            "text/plain": [
              "<Figure size 432x288 with 1 Axes>"
            ]
          },
          "metadata": {
            "needs_background": "light"
          }
        }
      ]
    },
    {
      "cell_type": "code",
      "metadata": {
        "colab": {
          "base_uri": "https://localhost:8080/"
        },
        "id": "nLBznDf0IJSe",
        "outputId": "5771c639-335d-4220-92b4-5413edd40545"
      },
      "source": [
        "# class 1\n",
        "fpr_1, tpr_1, _ = roc_curve(y, yhat[:, 1])\n",
        "roc_auc_1 = roc_auc_score(y, yhat[:, 1])\n",
        "print('roc_auc_1: ', roc_auc_1, '\\n')"
      ],
      "execution_count": 140,
      "outputs": [
        {
          "output_type": "stream",
          "name": "stdout",
          "text": [
            "roc_auc_1:  0.9787168141592921 \n",
            "\n"
          ]
        }
      ]
    },
    {
      "cell_type": "code",
      "metadata": {
        "colab": {
          "base_uri": "https://localhost:8080/",
          "height": 279
        },
        "id": "5sIWkmQ9HtYg",
        "outputId": "0534e7d0-abe5-48b8-8697-f2fa8af48b1e"
      },
      "source": [
        "plt.plot(fpr_1, tpr_1, marker='.', label='Class 1', color='r')\n",
        "plt.xlabel('False Positive Rate')\n",
        "plt.ylabel('True Positive Rate')\n",
        "plt.legend()\n",
        "plt.show()"
      ],
      "execution_count": 141,
      "outputs": [
        {
          "output_type": "display_data",
          "data": {
            "image/png": "[encoded data removed]",
            "text/plain": [
              "<Figure size 432x288 with 1 Axes>"
            ]
          },
          "metadata": {
            "needs_background": "light"
          }
        }
      ]
    },
    {
      "cell_type": "code",
      "metadata": {
        "id": "7GOvMWHxOZ0O"
      },
      "source": [
        ""
      ],
      "execution_count": null,
      "outputs": []
    }
  ]
}